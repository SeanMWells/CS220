{
 "cells": [
  {
   "cell_type": "code",
   "execution_count": 1,
   "metadata": {},
   "outputs": [
    {
     "ename": "TypeError",
     "evalue": "unhashable type: 'list'",
     "output_type": "error",
     "traceback": [
      "\u001b[0;31m---------------------------------------------------------------------------\u001b[0m",
      "\u001b[0;31mTypeError\u001b[0m                                 Traceback (most recent call last)",
      "\u001b[0;32m<ipython-input-1-05fc47615c21>\u001b[0m in \u001b[0;36m<module>\u001b[0;34m\u001b[0m\n\u001b[1;32m      1\u001b[0m \u001b[0ms\u001b[0m \u001b[0;34m=\u001b[0m \u001b[0;34m{\u001b[0m\u001b[0;34m\"a\"\u001b[0m\u001b[0;34m:\u001b[0m \u001b[0;36m8\u001b[0m\u001b[0;34m,\u001b[0m \u001b[0;34m\"b\"\u001b[0m\u001b[0;34m:\u001b[0m \u001b[0;36m9\u001b[0m\u001b[0;34m}\u001b[0m\u001b[0;34m\u001b[0m\u001b[0;34m\u001b[0m\u001b[0m\n\u001b[1;32m      2\u001b[0m \u001b[0ml\u001b[0m \u001b[0;34m=\u001b[0m \u001b[0;34m[\u001b[0m\u001b[0;34m\"a\"\u001b[0m\u001b[0;34m,\u001b[0m\u001b[0;34m\"b\"\u001b[0m\u001b[0;34m]\u001b[0m\u001b[0;34m\u001b[0m\u001b[0;34m\u001b[0m\u001b[0m\n\u001b[0;32m----> 3\u001b[0;31m \u001b[0ms\u001b[0m\u001b[0;34m[\u001b[0m\u001b[0ml\u001b[0m\u001b[0;34m]\u001b[0m\u001b[0;34m\u001b[0m\u001b[0;34m\u001b[0m\u001b[0m\n\u001b[0m",
      "\u001b[0;31mTypeError\u001b[0m: unhashable type: 'list'"
     ]
    }
   ],
   "source": [
    "s = {\"a\": 8, \"b\": 9}\n",
    "l = [\"a\",\"b\"]\n",
    "s[l]"
   ]
  },
  {
   "cell_type": "code",
   "execution_count": 2,
   "metadata": {},
   "outputs": [],
   "source": [
    "def example():\n",
    "    what = 90\n",
    "    what + 1\n",
    "    "
   ]
  },
  {
   "cell_type": "code",
   "execution_count": 4,
   "metadata": {},
   "outputs": [
    {
     "name": "stdout",
     "output_type": "stream",
     "text": [
      "None\n"
     ]
    }
   ],
   "source": [
    "print(example())"
   ]
  },
  {
   "cell_type": "code",
   "execution_count": 14,
   "metadata": {},
   "outputs": [
    {
     "ename": "SyntaxError",
     "evalue": "invalid character in identifier (<ipython-input-14-f7840e6e07b1>, line 1)",
     "output_type": "error",
     "traceback": [
      "\u001b[0;36m  File \u001b[0;32m\"<ipython-input-14-f7840e6e07b1>\"\u001b[0;36m, line \u001b[0;32m1\u001b[0m\n\u001b[0;31m    sorted([\"f\", \"E\", \"h\", \"G\"], reverse = True）\u001b[0m\n\u001b[0m                                               ^\u001b[0m\n\u001b[0;31mSyntaxError\u001b[0m\u001b[0;31m:\u001b[0m invalid character in identifier\n"
     ]
    }
   ],
   "source": [
    "sorted([\"f\", \"E\", \"h\", \"G\"], reverse = True）"
   ]
  },
  {
   "cell_type": "code",
   "execution_count": 8,
   "metadata": {},
   "outputs": [],
   "source": [
    "l = [\"e\", \"F\"]"
   ]
  },
  {
   "cell_type": "code",
   "execution_count": 9,
   "metadata": {},
   "outputs": [],
   "source": [
    "l.sort()"
   ]
  },
  {
   "cell_type": "code",
   "execution_count": 10,
   "metadata": {},
   "outputs": [
    {
     "data": {
      "text/plain": [
       "['F', 'e']"
      ]
     },
     "execution_count": 10,
     "metadata": {},
     "output_type": "execute_result"
    }
   ],
   "source": [
    "l"
   ]
  },
  {
   "cell_type": "code",
   "execution_count": 13,
   "metadata": {},
   "outputs": [
    {
     "name": "stdout",
     "output_type": "stream",
     "text": [
      "Works!\n"
     ]
    }
   ],
   "source": [
    "name = \"Data Programming Works!\"\n",
    "words = name.split(\" \")\n",
    "print(words.pop(-1))"
   ]
  },
  {
   "cell_type": "code",
   "execution_count": 16,
   "metadata": {},
   "outputs": [
    {
     "name": "stdout",
     "output_type": "stream",
     "text": [
      "['b', ['a']] ['b', ['a']]\n"
     ]
    }
   ],
   "source": [
    "d = ['a'] \n",
    "a = ['b'] \n",
    "b = ['d'] \n",
    "c = a \n",
    "c.append(d)   \n",
    "print(a,c)"
   ]
  },
  {
   "cell_type": "code",
   "execution_count": 18,
   "metadata": {},
   "outputs": [
    {
     "name": "stdout",
     "output_type": "stream",
     "text": [
      "2\n"
     ]
    }
   ],
   "source": [
    "val = \"umbrella\"\n",
    "count = dict()\n",
    "for c in val:\n",
    "    if not c in count:\n",
    "       count[c] = 0\n",
    "    else:\n",
    "       count[c] += 2\n",
    "print(count[\"l\"])"
   ]
  },
  {
   "cell_type": "code",
   "execution_count": 20,
   "metadata": {},
   "outputs": [],
   "source": [
    "id_to_name = {\n",
    "11943: 'Country space in the city',\n",
    "206071:  'Yankee Stadium Oasis 2 stops to Manhattan!',\n",
    "24285: 'Beautiful Duplex Apartment',\n",
    "151199: 'Astoria-Private Home NYC-',\n",
    "98330: 'LOVELY APARTMENT IN THE HEART OF NY',\n",
    "60611: 'SpaHa Studio Monthly Rental'\n",
    "}"
   ]
  },
  {
   "cell_type": "code",
   "execution_count": 21,
   "metadata": {},
   "outputs": [
    {
     "name": "stdout",
     "output_type": "stream",
     "text": [
      "<class 'dict'> <class 'str'> <class 'NoneType'> <class 'float'>\n"
     ]
    }
   ],
   "source": [
    "print (type(id_to_name), type(id_to_name.get(151199)), type(id_to_name.get(\"98330\")), type(id_to_name.get(\"60611\", 10.02)))"
   ]
  },
  {
   "cell_type": "code",
   "execution_count": 22,
   "metadata": {},
   "outputs": [],
   "source": [
    "header = ['room_id',  'name', 'neighborhood_group', 'latitude', 'number_of_reviews']\n",
    "rooms = [\n",
    "['11943', 'Country space in the city', 'Brooklyn', 40.63702,0 ],\n",
    "['206071',  'Yankee Stadium Oasis 2 stops to Manhattan!',  'Bronx',  40.82802, 253],\n",
    "['24285', 'Beautiful Duplex Apartment',  'Brooklyn', 40.66941, 30],\n",
    "['151199', 'Astoria-Private Home NYC-', 'Queens', 40.75725, 414],\n",
    "['98330', 'LOVELY APARTMENT IN THE HEART OF NY', 'Manhattan', 40.73877, 1],\n",
    "['60611', 'SpaHa Studio Monthly Rental', 'Manhattan', 40.79163, 183]\n",
    "]"
   ]
  },
  {
   "cell_type": "code",
   "execution_count": 23,
   "metadata": {},
   "outputs": [
    {
     "data": {
      "text/plain": [
       "['151199', 'Astoria-Private Home NYC-']"
      ]
     },
     "execution_count": 23,
     "metadata": {},
     "output_type": "execute_result"
    }
   ],
   "source": [
    "rooms[3][:2]"
   ]
  },
  {
   "cell_type": "code",
   "execution_count": 24,
   "metadata": {},
   "outputs": [],
   "source": [
    "id_to_name = {\n",
    "'11943': 'Country space in the city',\n",
    "'206071':  'Yankee Stadium Oasis 2 stops to Manhattan!',\n",
    "'24285': 'Beautiful Duplex Apartment',\n",
    "'151199': 'Astoria-Private Home NYC-',\n",
    "'98330': 'LOVELY APARTMENT IN THE HEART OF NY',\n",
    "'60611': 'SpaHa Studio Monthly Rental'\n",
    "}"
   ]
  },
  {
   "cell_type": "code",
   "execution_count": 25,
   "metadata": {},
   "outputs": [
    {
     "data": {
      "text/plain": [
       "6"
      ]
     },
     "execution_count": 25,
     "metadata": {},
     "output_type": "execute_result"
    }
   ],
   "source": [
    "len(id_to_name)"
   ]
  },
  {
   "cell_type": "code",
   "execution_count": 26,
   "metadata": {},
   "outputs": [],
   "source": [
    "header = ['room_id',  'name', 'neighborhood_group', 'latitude', 'number_of_reviews']\n",
    "rooms = [\n",
    "['11943', 'Country space in the city', 'Brooklyn', 40.63702,0 ],\n",
    "['206071',  'Yankee Stadium Oasis 2 stops to Manhattan!',  'Bronx',  40.82802, 253],\n",
    "['24285', 'Beautiful Duplex Apartment',  'Brooklyn', 40.66941, 30],\n",
    "['151199', 'Astoria-Private Home NYC-', 'Queens', 40.75725, 414],\n",
    "['98330', 'LOVELY APARTMENT IN THE HEART OF NY', 'Manhattan', 40.73877, 1],\n",
    "['60611', 'SpaHa Studio Monthly Rental', 'Manhattan', 40.79163, 183]\n",
    "]\n",
    "\n",
    "def get_ids(rooms):\n",
    "    all_ids = []\n",
    "    for i in range(len(rooms)):\n",
    "        all_ids.append(rooms[i][header.index(\"room_id\")])\n",
    "    return all_ids"
   ]
  },
  {
   "cell_type": "code",
   "execution_count": 27,
   "metadata": {},
   "outputs": [
    {
     "data": {
      "text/plain": [
       "['11943', '206071', '24285', '151199', '98330', '60611']"
      ]
     },
     "execution_count": 27,
     "metadata": {},
     "output_type": "execute_result"
    }
   ],
   "source": [
    "get_ids(rooms)"
   ]
  },
  {
   "cell_type": "code",
   "execution_count": 55,
   "metadata": {},
   "outputs": [],
   "source": [
    "movies = [\n",
    "{\"title\": \"A\", \"year\": 19, \"genres\": [\"g1\", \"g2\"], \"style\": \"long\"},\n",
    "{\"title\": \"A\", \"year\": 19, \"genres\": [\"g2\", \"g3\"], \"style\": \"short\"},\n",
    "{\"title\": \"A\", \"year\": 20, \"genres\": [\"g1\", \"g3\"], \"style\": \"short\"},\n",
    "{\"title\": \"A\", \"year\": 20, \"genres\": [\"g1\", \"g2\", \"g3\"], \"style\": \"long\"},\n",
    "{\"title\": \"A\", \"year\": 20, \"genres\": [\"g2\"], \"style\": \"long\"}\n",
    "]"
   ]
  },
  {
   "cell_type": "code",
   "execution_count": 56,
   "metadata": {},
   "outputs": [
    {
     "name": "stdout",
     "output_type": "stream",
     "text": [
      "5\n"
     ]
    }
   ],
   "source": [
    "buckets = {}\n",
    "bucket = []\n",
    "for m in movies:\n",
    "    key = m[\"year\"]\n",
    "    if not key in buckets:\n",
    "        buckets[key] = bucket\n",
    "    buckets[key].append(key)\n",
    "print(len(buckets[19]))"
   ]
  },
  {
   "cell_type": "code",
   "execution_count": 57,
   "metadata": {},
   "outputs": [
    {
     "data": {
      "text/plain": [
       "{'g1': 4, 'g2': 5, 'g3': 4}"
      ]
     },
     "execution_count": 57,
     "metadata": {},
     "output_type": "execute_result"
    }
   ],
   "source": [
    "counts = {}\n",
    "for m in movies:\n",
    "    for genre in m[\"genres\"]:\n",
    "        if not genre in counts:\n",
    "            counts[genre] = 1\n",
    "        counts[genre] += 1\n",
    "counts"
   ]
  },
  {
   "cell_type": "code",
   "execution_count": 58,
   "metadata": {},
   "outputs": [
    {
     "name": "stdout",
     "output_type": "stream",
     "text": [
      "A\n",
      "Exception occurred!\n",
      "What happened to me?\n",
      "A\n",
      "Exception occurred!\n",
      "What happened to me?\n",
      "A\n",
      "Exception occurred!\n",
      "What happened to me?\n",
      "A\n",
      "Exception occurred!\n",
      "What happened to me?\n",
      "A\n",
      "Exception occurred!\n",
      "What happened to me?\n",
      "Exception occurred!\n",
      "What happened to me?\n",
      "Exception occurred!\n",
      "What happened to me?\n",
      "Exception occurred!\n",
      "What happened to me?\n",
      "Exception occurred!\n",
      "What happened to me?\n",
      "Exception occurred!\n",
      "What happened to me?\n"
     ]
    }
   ],
   "source": [
    "for i in range(10):\n",
    "    try:\n",
    "        m = movies[i]\n",
    "        print(m[\"title\"])\n",
    "        year = m[\"DATE\"]\n",
    "        print(year)\n",
    "    except:\n",
    "        print(\"Exception occurred!\")\n",
    "        print(\"What happened to me?\")"
   ]
  },
  {
   "cell_type": "code",
   "execution_count": 59,
   "metadata": {},
   "outputs": [
    {
     "data": {
      "text/plain": [
       "2"
      ]
     },
     "execution_count": 59,
     "metadata": {},
     "output_type": "execute_result"
    }
   ],
   "source": [
    "movies[3][\"genres\"].index(movies[1][\"genres\"][1])"
   ]
  },
  {
   "cell_type": "code",
   "execution_count": 60,
   "metadata": {},
   "outputs": [],
   "source": [
    "#19 == 2"
   ]
  },
  {
   "cell_type": "code",
   "execution_count": 62,
   "metadata": {},
   "outputs": [
    {
     "ename": "KeyError",
     "evalue": "'long'",
     "output_type": "error",
     "traceback": [
      "\u001b[0;31m---------------------------------------------------------------------------\u001b[0m",
      "\u001b[0;31mKeyError\u001b[0m                                  Traceback (most recent call last)",
      "\u001b[0;32m<ipython-input-62-01410368afdb>\u001b[0m in \u001b[0;36m<module>\u001b[0;34m\u001b[0m\n\u001b[1;32m      1\u001b[0m \u001b[0ma\u001b[0m \u001b[0;34m=\u001b[0m \u001b[0mmovies\u001b[0m\u001b[0;34m.\u001b[0m\u001b[0mpop\u001b[0m\u001b[0;34m(\u001b[0m\u001b[0;34m-\u001b[0m\u001b[0;36m1\u001b[0m\u001b[0;34m)\u001b[0m\u001b[0;34m\u001b[0m\u001b[0;34m\u001b[0m\u001b[0m\n\u001b[0;32m----> 2\u001b[0;31m \u001b[0mb\u001b[0m \u001b[0;34m=\u001b[0m \u001b[0ma\u001b[0m\u001b[0;34m.\u001b[0m\u001b[0mpop\u001b[0m\u001b[0;34m(\u001b[0m\u001b[0;34m\"long\"\u001b[0m\u001b[0;34m)\u001b[0m\u001b[0;34m\u001b[0m\u001b[0;34m\u001b[0m\u001b[0m\n\u001b[0m\u001b[1;32m      3\u001b[0m \u001b[0mprint\u001b[0m\u001b[0;34m(\u001b[0m\u001b[0mb\u001b[0m\u001b[0;34m)\u001b[0m\u001b[0;34m\u001b[0m\u001b[0;34m\u001b[0m\u001b[0m\n",
      "\u001b[0;31mKeyError\u001b[0m: 'long'"
     ]
    }
   ],
   "source": [
    "a = movies.pop(-1)\n",
    "b = a.pop(\"long\")\n",
    "print(b)"
   ]
  },
  {
   "cell_type": "code",
   "execution_count": 63,
   "metadata": {},
   "outputs": [
    {
     "ename": "SyntaxError",
     "evalue": "invalid character in identifier (<ipython-input-63-39aa46d5ed38>, line 1)",
     "output_type": "error",
     "traceback": [
      "\u001b[0;36m  File \u001b[0;32m\"<ipython-input-63-39aa46d5ed38>\"\u001b[0;36m, line \u001b[0;32m1\u001b[0m\n\u001b[0;31m    shopping_cart_mom = [[\"Face Mask\"， \"Hand Santitizer\"， \"Thermometer\"]，\u001b[0m\n\u001b[0m                                     ^\u001b[0m\n\u001b[0;31mSyntaxError\u001b[0m\u001b[0;31m:\u001b[0m invalid character in identifier\n"
     ]
    }
   ],
   "source": [
    "shopping_cart_mom = [[\"Face Mask\"， \"Hand Santitizer\"， \"Thermometer\"]，\n",
    "                     [\"Lipsticks\"， \"Face Cream\"]，\n",
    "                     [\"Milk\"， \"Eggs\"]]"
   ]
  },
  {
   "cell_type": "code",
   "execution_count": 69,
   "metadata": {},
   "outputs": [
    {
     "ename": "ValueError",
     "evalue": "list.remove(x): x not in list",
     "output_type": "error",
     "traceback": [
      "\u001b[0;31m---------------------------------------------------------------------------\u001b[0m",
      "\u001b[0;31mValueError\u001b[0m                                Traceback (most recent call last)",
      "\u001b[0;32m<ipython-input-69-0323056ce726>\u001b[0m in \u001b[0;36m<module>\u001b[0;34m\u001b[0m\n\u001b[1;32m      2\u001b[0m \u001b[0mshopping_cart_dad\u001b[0m \u001b[0;34m=\u001b[0m \u001b[0mshopping_cart_mom\u001b[0m\u001b[0;34m\u001b[0m\u001b[0;34m\u001b[0m\u001b[0m\n\u001b[1;32m      3\u001b[0m \u001b[0mshopping_cart_dad\u001b[0m\u001b[0;34m.\u001b[0m\u001b[0mappend\u001b[0m\u001b[0;34m(\u001b[0m\u001b[0;34m\"Thermometer\"\u001b[0m\u001b[0;34m)\u001b[0m\u001b[0;34m\u001b[0m\u001b[0;34m\u001b[0m\u001b[0m\n\u001b[0;32m----> 4\u001b[0;31m \u001b[0mshopping_cart_mom\u001b[0m\u001b[0;34m.\u001b[0m\u001b[0mremove\u001b[0m\u001b[0;34m(\u001b[0m\u001b[0;34m\"Scarf\"\u001b[0m\u001b[0;34m)\u001b[0m\u001b[0;34m\u001b[0m\u001b[0;34m\u001b[0m\u001b[0m\n\u001b[0m\u001b[1;32m      5\u001b[0m \u001b[0mshopping_cart_dad\u001b[0m\u001b[0;34m.\u001b[0m\u001b[0mappend\u001b[0m\u001b[0;34m(\u001b[0m\u001b[0;34m\"Oreo\"\u001b[0m\u001b[0;34m)\u001b[0m\u001b[0;34m\u001b[0m\u001b[0;34m\u001b[0m\u001b[0m\n",
      "\u001b[0;31mValueError\u001b[0m: list.remove(x): x not in list"
     ]
    }
   ],
   "source": [
    "shopping_cart_mom = [[\"something\"], [\"another thing\"], [\"last thing\"], [\"Scarf\"]]\n",
    "shopping_cart_dad = shopping_cart_mom\n",
    "shopping_cart_dad.append(\"Thermometer\")\n",
    "shopping_cart_mom.remove(\"Scarf\")\n",
    "shopping_cart_dad.append(\"Oreo\")"
   ]
  },
  {
   "cell_type": "code",
   "execution_count": 65,
   "metadata": {},
   "outputs": [
    {
     "ename": "NameError",
     "evalue": "name 'shopping_cart_mom' is not defined",
     "output_type": "error",
     "traceback": [
      "\u001b[0;31m---------------------------------------------------------------------------\u001b[0m",
      "\u001b[0;31mNameError\u001b[0m                                 Traceback (most recent call last)",
      "\u001b[0;32m<ipython-input-65-2aa594d54990>\u001b[0m in \u001b[0;36m<module>\u001b[0;34m\u001b[0m\n\u001b[0;32m----> 1\u001b[0;31m \u001b[0mshopping_cart_mom\u001b[0m\u001b[0;34m[\u001b[0m\u001b[0;36m1\u001b[0m\u001b[0;34m]\u001b[0m\u001b[0;34m\u001b[0m\u001b[0;34m\u001b[0m\u001b[0m\n\u001b[0m",
      "\u001b[0;31mNameError\u001b[0m: name 'shopping_cart_mom' is not defined"
     ]
    }
   ],
   "source": [
    "shopping_cart_mom[1]"
   ]
  },
  {
   "cell_type": "code",
   "execution_count": 71,
   "metadata": {},
   "outputs": [],
   "source": [
    "def alpha(obj_a, obj_B):\n",
    "     if obj_B > obj_a:\n",
    "          return obj_B + obj_a\n",
    "     return obj_B\n",
    "\n",
    "y = alpha\n",
    "a = 1\n",
    "b = 2\n",
    "c = 3\n",
    "d = 4"
   ]
  },
  {
   "cell_type": "code",
   "execution_count": 72,
   "metadata": {},
   "outputs": [
    {
     "name": "stdout",
     "output_type": "stream",
     "text": [
      "3\n"
     ]
    }
   ],
   "source": [
    "print(y(d,b)+y(c,a))"
   ]
  },
  {
   "cell_type": "code",
   "execution_count": 73,
   "metadata": {},
   "outputs": [
    {
     "name": "stdout",
     "output_type": "stream",
     "text": [
      "10\n"
     ]
    }
   ],
   "source": [
    "print(y(a,c)+y(b,d))"
   ]
  },
  {
   "cell_type": "code",
   "execution_count": 76,
   "metadata": {},
   "outputs": [
    {
     "ename": "SyntaxError",
     "evalue": "invalid character in identifier (<ipython-input-76-269ba59c1686>, line 1)",
     "output_type": "error",
     "traceback": [
      "\u001b[0;36m  File \u001b[0;32m\"<ipython-input-76-269ba59c1686>\"\u001b[0;36m, line \u001b[0;32m1\u001b[0m\n\u001b[0;31m    apartment_list = [[\"GC 2b1b\"，1140]，[\"Regent 2b1b\"，799]，\u001b[0m\n\u001b[0m                                    ^\u001b[0m\n\u001b[0;31mSyntaxError\u001b[0m\u001b[0;31m:\u001b[0m invalid character in identifier\n"
     ]
    }
   ],
   "source": [
    "apartment_list = [[\"GC 2b1b\"，1140]，[\"Regent 2b1b\"，799]，\n",
    "                   [\"Saxony 2b1b\"，745]， [\"Lucky 2b1b\"，1010]]\n",
    "def price(apartment):\n",
    "    return ???\n",
    "apartment_list.sort(key＝price)\n",
    "apartment_list"
   ]
  },
  {
   "cell_type": "code",
   "execution_count": 77,
   "metadata": {},
   "outputs": [
    {
     "data": {
      "text/plain": [
       "[['c', 745], ['b', 799], ['d', 1010], ['a', 1140]]"
      ]
     },
     "execution_count": 77,
     "metadata": {},
     "output_type": "execute_result"
    }
   ],
   "source": [
    "lists = [[\"a\", 1140], [\"b\", 799], [\"c\", 745], [\"d\", 1010]]\n",
    "def price(apartment):\n",
    "    return apartment[1]\n",
    "lists.sort(key=price)\n",
    "lists"
   ]
  },
  {
   "cell_type": "code",
   "execution_count": 78,
   "metadata": {},
   "outputs": [
    {
     "ename": "SyntaxError",
     "evalue": "invalid character in identifier (<ipython-input-78-2871763b9ea6>, line 2)",
     "output_type": "error",
     "traceback": [
      "\u001b[0;36m  File \u001b[0;32m\"<ipython-input-78-2871763b9ea6>\"\u001b[0;36m, line \u001b[0;32m2\u001b[0m\n\u001b[0;31m    return “Welcome to CS 220 :)!”\u001b[0m\n\u001b[0m                  ^\u001b[0m\n\u001b[0;31mSyntaxError\u001b[0m\u001b[0;31m:\u001b[0m invalid character in identifier\n"
     ]
    }
   ],
   "source": [
    "def greeting_spring():\n",
    "    return “Welcome to CS 220 :)!”\n",
    "\n",
    "greeting_fall ＝ greeting_spring\n",
    "greeting ＝ greeting_spring()"
   ]
  },
  {
   "cell_type": "code",
   "execution_count": 80,
   "metadata": {},
   "outputs": [
    {
     "name": "stdout",
     "output_type": "stream",
     "text": [
      "<class 'function'>\n"
     ]
    },
    {
     "data": {
      "text/plain": [
       "str"
      ]
     },
     "execution_count": 80,
     "metadata": {},
     "output_type": "execute_result"
    }
   ],
   "source": [
    "def greeting_spring():\n",
    "    return \"Welcome to CS 220 :)\"\n",
    "\n",
    "greeting_fall = greeting_spring\n",
    "greeting = greeting_spring()\n",
    "\n",
    "print(type(greeting_fall))\n",
    "type((greeting))"
   ]
  },
  {
   "cell_type": "code",
   "execution_count": 82,
   "metadata": {},
   "outputs": [
    {
     "name": "stdout",
     "output_type": "stream",
     "text": [
      "It's my secret.\n"
     ]
    }
   ],
   "source": [
    "def secret():\n",
    "    yield \"It's my secret.\"\n",
    "    yield \"I won't tell you!\"\n",
    "    yield \"You will never know.\"\n",
    "    yield \"My mom doesn't know, either.\"\n",
    "\n",
    "g = secret()\n",
    "print(next(g))"
   ]
  },
  {
   "cell_type": "code",
   "execution_count": 85,
   "metadata": {},
   "outputs": [],
   "source": [
    "f = open('file.txt','w')\n",
    "f.write('alohomora')\n",
    "f.close()\n",
    "\n",
    "f = open('file.txt')\n",
    "data1 = f.read()\n",
    "data2 = data1.split('o')\n",
    "f.close()\n",
    "\n",
    "data3 = data1[3] + data2[3]"
   ]
  },
  {
   "cell_type": "code",
   "execution_count": 86,
   "metadata": {},
   "outputs": [
    {
     "data": {
      "text/plain": [
       "'hra'"
      ]
     },
     "execution_count": 86,
     "metadata": {},
     "output_type": "execute_result"
    }
   ],
   "source": [
    "data3"
   ]
  },
  {
   "cell_type": "code",
   "execution_count": 89,
   "metadata": {},
   "outputs": [],
   "source": [
    "import os\n",
    "f = open('file.txt','w')\n",
    "f.write('Rock ')\n",
    "f.close()\n",
    "\n",
    "os.mkdir('d1')\n",
    "f = open(os.path.join(\"d1\", \"file.txt\"),'w')\n",
    "f.write('Paper ')\n",
    "f.close()\n",
    "\n",
    "f = open('file.txt','w')\n",
    "f.write('Scissors ')\n",
    "f.write('I won!')\n",
    "f.close()\n",
    "\n",
    "f = open('file.txt')\n",
    "foo = f.read()\n",
    "f.close()"
   ]
  },
  {
   "cell_type": "code",
   "execution_count": null,
   "metadata": {},
   "outputs": [],
   "source": []
  }
 ],
 "metadata": {
  "kernelspec": {
   "display_name": "Python 3",
   "language": "python",
   "name": "python3"
  },
  "language_info": {
   "codemirror_mode": {
    "name": "ipython",
    "version": 3
   },
   "file_extension": ".py",
   "mimetype": "text/x-python",
   "name": "python",
   "nbconvert_exporter": "python",
   "pygments_lexer": "ipython3",
   "version": "3.8.5"
  }
 },
 "nbformat": 4,
 "nbformat_minor": 4
}
