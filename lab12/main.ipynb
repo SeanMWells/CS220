{
 "cells": [
  {
   "cell_type": "code",
   "execution_count": 1,
   "metadata": {},
   "outputs": [],
   "source": [
    "# project: p12\n",
    "# submitter: Smwells3\n",
    "# partner: none"
   ]
  },
  {
   "cell_type": "code",
   "execution_count": 2,
   "metadata": {},
   "outputs": [],
   "source": [
    "import time, requests, os, sqlite3, math, collections, copy, json\n",
    "import pandas as pd\n",
    "from pandas import DataFrame, Series\n",
    "from collections import defaultdict\n",
    "from bs4 import BeautifulSoup"
   ]
  },
  {
   "cell_type": "code",
   "execution_count": 3,
   "metadata": {},
   "outputs": [],
   "source": [
    "def download(filename, url):\n",
    "    if os.path.exists(filename):\n",
    "        return (str(filename) + \" already exists!\")\n",
    "    r = requests.get(url)\n",
    "    urltxt = r.text\n",
    "    f = open(filename, \"w\")\n",
    "    f.write(urltxt)\n",
    "    f.close()\n",
    "    return (str(filename) + \" created!\")"
   ]
  },
  {
   "cell_type": "code",
   "execution_count": 4,
   "metadata": {},
   "outputs": [
    {
     "data": {
      "text/plain": [
       "'countries.json already exists!'"
      ]
     },
     "execution_count": 4,
     "metadata": {},
     "output_type": "execute_result"
    }
   ],
   "source": [
    "download(\"countries.json\", \"https://raw.githubusercontent.com/msyamkumar/cs220-f20-projects/master/p12/countries.json\")"
   ]
  },
  {
   "cell_type": "code",
   "execution_count": 5,
   "metadata": {},
   "outputs": [
    {
     "data": {
      "text/html": [
       "<div>\n",
       "<style scoped>\n",
       "    .dataframe tbody tr th:only-of-type {\n",
       "        vertical-align: middle;\n",
       "    }\n",
       "\n",
       "    .dataframe tbody tr th {\n",
       "        vertical-align: top;\n",
       "    }\n",
       "\n",
       "    .dataframe thead th {\n",
       "        text-align: right;\n",
       "    }\n",
       "</style>\n",
       "<table border=\"1\" class=\"dataframe\">\n",
       "  <thead>\n",
       "    <tr style=\"text-align: right;\">\n",
       "      <th></th>\n",
       "      <th>area</th>\n",
       "      <th>birth-rate</th>\n",
       "      <th>coastline</th>\n",
       "      <th>continent</th>\n",
       "      <th>country</th>\n",
       "      <th>death-rate</th>\n",
       "      <th>gdp-per-capita</th>\n",
       "      <th>infant-mortality</th>\n",
       "      <th>literacy</th>\n",
       "      <th>net-migration</th>\n",
       "      <th>phones</th>\n",
       "      <th>population</th>\n",
       "      <th>region</th>\n",
       "    </tr>\n",
       "  </thead>\n",
       "  <tbody>\n",
       "    <tr>\n",
       "      <th>0</th>\n",
       "      <td>756950</td>\n",
       "      <td>15.23</td>\n",
       "      <td>0.85</td>\n",
       "      <td>South America</td>\n",
       "      <td>Chile</td>\n",
       "      <td>5.81</td>\n",
       "      <td>9900</td>\n",
       "      <td>8.80</td>\n",
       "      <td>96,2</td>\n",
       "      <td>0.00</td>\n",
       "      <td>213,0</td>\n",
       "      <td>16134219</td>\n",
       "      <td>LATIN AMER. &amp; CARIB</td>\n",
       "    </tr>\n",
       "    <tr>\n",
       "      <th>1</th>\n",
       "      <td>665</td>\n",
       "      <td>17.80</td>\n",
       "      <td>24.21</td>\n",
       "      <td>Asia</td>\n",
       "      <td>Bahrain</td>\n",
       "      <td>4.14</td>\n",
       "      <td>16900</td>\n",
       "      <td>17.27</td>\n",
       "      <td>89,1</td>\n",
       "      <td>1.05</td>\n",
       "      <td>281,3</td>\n",
       "      <td>698585</td>\n",
       "      <td>NEAR EAST</td>\n",
       "    </tr>\n",
       "    <tr>\n",
       "      <th>2</th>\n",
       "      <td>22966</td>\n",
       "      <td>28.84</td>\n",
       "      <td>1.68</td>\n",
       "      <td>North America</td>\n",
       "      <td>Belize</td>\n",
       "      <td>5.72</td>\n",
       "      <td>4900</td>\n",
       "      <td>25.69</td>\n",
       "      <td>94,1</td>\n",
       "      <td>0.00</td>\n",
       "      <td>115,7</td>\n",
       "      <td>287730</td>\n",
       "      <td>LATIN AMER. &amp; CARIB</td>\n",
       "    </tr>\n",
       "    <tr>\n",
       "      <th>3</th>\n",
       "      <td>582650</td>\n",
       "      <td>39.72</td>\n",
       "      <td>0.09</td>\n",
       "      <td>Africa</td>\n",
       "      <td>Kenya</td>\n",
       "      <td>14.02</td>\n",
       "      <td>1000</td>\n",
       "      <td>61.47</td>\n",
       "      <td>85,1</td>\n",
       "      <td>-0.10</td>\n",
       "      <td>8,1</td>\n",
       "      <td>34707817</td>\n",
       "      <td>SUB-SAHARAN AFRICA</td>\n",
       "    </tr>\n",
       "    <tr>\n",
       "      <th>4</th>\n",
       "      <td>11854</td>\n",
       "      <td>33.05</td>\n",
       "      <td>3.12</td>\n",
       "      <td>Australia</td>\n",
       "      <td>Marshall Islands</td>\n",
       "      <td>4.78</td>\n",
       "      <td>1600</td>\n",
       "      <td>29.45</td>\n",
       "      <td>93,7</td>\n",
       "      <td>-6.04</td>\n",
       "      <td>91,2</td>\n",
       "      <td>60422</td>\n",
       "      <td>OCEANIA</td>\n",
       "    </tr>\n",
       "  </tbody>\n",
       "</table>\n",
       "</div>"
      ],
      "text/plain": [
       "     area  birth-rate  coastline      continent           country  death-rate  \\\n",
       "0  756950       15.23       0.85  South America             Chile        5.81   \n",
       "1     665       17.80      24.21           Asia           Bahrain        4.14   \n",
       "2   22966       28.84       1.68  North America            Belize        5.72   \n",
       "3  582650       39.72       0.09         Africa             Kenya       14.02   \n",
       "4   11854       33.05       3.12      Australia  Marshall Islands        4.78   \n",
       "\n",
       "   gdp-per-capita  infant-mortality literacy  net-migration phones  \\\n",
       "0            9900              8.80     96,2           0.00  213,0   \n",
       "1           16900             17.27     89,1           1.05  281,3   \n",
       "2            4900             25.69     94,1           0.00  115,7   \n",
       "3            1000             61.47     85,1          -0.10    8,1   \n",
       "4            1600             29.45     93,7          -6.04   91,2   \n",
       "\n",
       "   population               region  \n",
       "0    16134219  LATIN AMER. & CARIB  \n",
       "1      698585            NEAR EAST  \n",
       "2      287730  LATIN AMER. & CARIB  \n",
       "3    34707817   SUB-SAHARAN AFRICA  \n",
       "4       60422              OCEANIA  "
      ]
     },
     "execution_count": 5,
     "metadata": {},
     "output_type": "execute_result"
    }
   ],
   "source": [
    "countries = pd.read_json(\"countries.json\")\n",
    "countries.head()"
   ]
  },
  {
   "cell_type": "code",
   "execution_count": 6,
   "metadata": {},
   "outputs": [
    {
     "data": {
      "text/plain": [
       "174"
      ]
     },
     "execution_count": 6,
     "metadata": {},
     "output_type": "execute_result"
    }
   ],
   "source": [
    "#q1\n",
    "len(countries)"
   ]
  },
  {
   "cell_type": "code",
   "execution_count": 7,
   "metadata": {},
   "outputs": [
    {
     "data": {
      "text/plain": [
       "6261901793"
      ]
     },
     "execution_count": 7,
     "metadata": {},
     "output_type": "execute_result"
    }
   ],
   "source": [
    "#q2\n",
    "countries[\"population\"].sum()"
   ]
  },
  {
   "cell_type": "code",
   "execution_count": 8,
   "metadata": {},
   "outputs": [
    {
     "data": {
      "text/plain": [
       "'capitals.json already exists!'"
      ]
     },
     "execution_count": 8,
     "metadata": {},
     "output_type": "execute_result"
    }
   ],
   "source": [
    "download(\"capitals.json\",\"https://raw.githubusercontent.com/msyamkumar/cs220-f20-projects/master/p12/capitals.json\")"
   ]
  },
  {
   "cell_type": "code",
   "execution_count": 9,
   "metadata": {},
   "outputs": [
    {
     "data": {
      "text/html": [
       "<div>\n",
       "<style scoped>\n",
       "    .dataframe tbody tr th:only-of-type {\n",
       "        vertical-align: middle;\n",
       "    }\n",
       "\n",
       "    .dataframe tbody tr th {\n",
       "        vertical-align: top;\n",
       "    }\n",
       "\n",
       "    .dataframe thead th {\n",
       "        text-align: right;\n",
       "    }\n",
       "</style>\n",
       "<table border=\"1\" class=\"dataframe\">\n",
       "  <thead>\n",
       "    <tr style=\"text-align: right;\">\n",
       "      <th></th>\n",
       "      <th>country</th>\n",
       "      <th>capital</th>\n",
       "      <th>latitude</th>\n",
       "      <th>longitude</th>\n",
       "    </tr>\n",
       "  </thead>\n",
       "  <tbody>\n",
       "    <tr>\n",
       "      <th>0</th>\n",
       "      <td>Afghanistan</td>\n",
       "      <td>Kabul</td>\n",
       "      <td>34.516667</td>\n",
       "      <td>69.183333</td>\n",
       "    </tr>\n",
       "    <tr>\n",
       "      <th>1</th>\n",
       "      <td>Albania</td>\n",
       "      <td>Tirana</td>\n",
       "      <td>41.316667</td>\n",
       "      <td>19.816667</td>\n",
       "    </tr>\n",
       "    <tr>\n",
       "      <th>2</th>\n",
       "      <td>Algeria</td>\n",
       "      <td>Algiers</td>\n",
       "      <td>36.750000</td>\n",
       "      <td>3.050000</td>\n",
       "    </tr>\n",
       "    <tr>\n",
       "      <th>3</th>\n",
       "      <td>Anguilla</td>\n",
       "      <td>The Valley</td>\n",
       "      <td>18.216667</td>\n",
       "      <td>-63.050000</td>\n",
       "    </tr>\n",
       "    <tr>\n",
       "      <th>4</th>\n",
       "      <td>Argentina</td>\n",
       "      <td>Buenos Aires</td>\n",
       "      <td>-34.583333</td>\n",
       "      <td>-58.666667</td>\n",
       "    </tr>\n",
       "  </tbody>\n",
       "</table>\n",
       "</div>"
      ],
      "text/plain": [
       "       country       capital   latitude  longitude\n",
       "0  Afghanistan         Kabul  34.516667  69.183333\n",
       "1      Albania        Tirana  41.316667  19.816667\n",
       "2      Algeria       Algiers  36.750000   3.050000\n",
       "3     Anguilla    The Valley  18.216667 -63.050000\n",
       "4    Argentina  Buenos Aires -34.583333 -58.666667"
      ]
     },
     "execution_count": 9,
     "metadata": {},
     "output_type": "execute_result"
    }
   ],
   "source": [
    "capitals = pd.read_json(\"capitals.json\")\n",
    "capitals.head()"
   ]
  },
  {
   "cell_type": "code",
   "execution_count": 10,
   "metadata": {},
   "outputs": [
    {
     "data": {
      "text/plain": [
       "['Abu Dhabi',\n",
       " 'Abuja',\n",
       " 'Accra',\n",
       " 'Addis Ababa',\n",
       " 'Algiers',\n",
       " 'Amman',\n",
       " 'Amsterdam',\n",
       " 'Ankara',\n",
       " 'Antananarivo',\n",
       " 'Apia',\n",
       " 'Ashgabat',\n",
       " 'Asmara',\n",
       " 'Astana',\n",
       " 'Asuncion',\n",
       " 'Athens',\n",
       " 'Baghdad',\n",
       " 'Baku',\n",
       " 'Bamako',\n",
       " 'Bangkok',\n",
       " 'Beijing',\n",
       " 'Beirut',\n",
       " 'Belmopan',\n",
       " 'Berlin',\n",
       " 'Bern',\n",
       " 'Bishkek',\n",
       " 'Bissau',\n",
       " 'Bogota',\n",
       " 'Brasilia',\n",
       " 'Bridgetown',\n",
       " 'Brussels',\n",
       " 'Bucharest',\n",
       " 'Budapest',\n",
       " 'Buenos Aires',\n",
       " 'Bujumbura',\n",
       " 'Cairo',\n",
       " 'Canberra',\n",
       " 'Caracas',\n",
       " 'Castries',\n",
       " 'Chisinau',\n",
       " 'Colombo',\n",
       " 'Conakry',\n",
       " 'Copenhagen',\n",
       " 'Dakar',\n",
       " 'Damascus',\n",
       " 'Dar es Salaam',\n",
       " 'Dhaka',\n",
       " 'Djibouti',\n",
       " 'Doha',\n",
       " 'Dublin',\n",
       " 'Dushanbe',\n",
       " 'Freetown',\n",
       " 'Gaborone',\n",
       " 'George Town',\n",
       " 'Georgetown',\n",
       " 'Guatemala City',\n",
       " 'Hagatna',\n",
       " 'Hamilton',\n",
       " 'Hanoi',\n",
       " 'Harare',\n",
       " 'Havana',\n",
       " 'Helsinki',\n",
       " 'Islamabad',\n",
       " 'Jakarta',\n",
       " 'Jamestown',\n",
       " 'Jerusalem',\n",
       " 'Kabul',\n",
       " 'Kampala',\n",
       " 'Kathmandu',\n",
       " 'Khartoum',\n",
       " 'Kigali',\n",
       " 'Kingston',\n",
       " 'Kingstown',\n",
       " 'Kuala Lumpur',\n",
       " 'Kuwait City',\n",
       " 'Kyiv',\n",
       " 'La Paz',\n",
       " 'Libreville',\n",
       " 'Lilongwe',\n",
       " 'Lima',\n",
       " 'Lisbon',\n",
       " 'Ljubljana',\n",
       " 'Lome',\n",
       " 'London',\n",
       " 'Lusaka',\n",
       " 'Luxembourg',\n",
       " 'Madrid',\n",
       " 'Majuro',\n",
       " 'Malabo',\n",
       " 'Male',\n",
       " 'Managua',\n",
       " 'Manama',\n",
       " 'Manila',\n",
       " 'Maputo',\n",
       " 'Maseru',\n",
       " 'Mbabane',\n",
       " 'Melekeok',\n",
       " 'Mexico City',\n",
       " 'Minsk',\n",
       " 'Mogadishu',\n",
       " 'Monaco',\n",
       " 'Monrovia',\n",
       " 'Montevideo',\n",
       " 'Moroni',\n",
       " 'Moscow',\n",
       " 'Muscat',\n",
       " 'Nairobi',\n",
       " 'New Delhi',\n",
       " 'Niamey',\n",
       " 'Nouakchott',\n",
       " 'Noumea',\n",
       " 'Nuku’alofa',\n",
       " 'N’Djamena',\n",
       " 'Oranjestad',\n",
       " 'Oslo',\n",
       " 'Ottawa',\n",
       " 'Ouagadougou',\n",
       " 'Panama City',\n",
       " 'Papeete',\n",
       " 'Paramaribo',\n",
       " 'Paris',\n",
       " 'Phnom Penh',\n",
       " 'Port Louis',\n",
       " 'Port Moresby',\n",
       " 'Port-Vila',\n",
       " 'Port-au-Prince',\n",
       " 'Porto-Novo',\n",
       " 'Prague',\n",
       " 'Praia',\n",
       " 'Pretoria',\n",
       " 'Quito',\n",
       " 'Rabat',\n",
       " 'Reykjavik',\n",
       " 'Riga',\n",
       " 'Riyadh',\n",
       " 'Rome',\n",
       " 'Roseau',\n",
       " 'Saint George’s',\n",
       " 'San Jose',\n",
       " 'San Juan',\n",
       " 'San Marino',\n",
       " 'San Salvador',\n",
       " 'Sanaa',\n",
       " 'Santiago',\n",
       " 'Santo Domingo',\n",
       " 'Singapore',\n",
       " 'Sofia',\n",
       " 'Stockholm',\n",
       " 'Suva',\n",
       " 'Taipei',\n",
       " 'Tallinn',\n",
       " 'Tashkent',\n",
       " 'Tbilisi',\n",
       " 'Tegucigalpa',\n",
       " 'Tehran',\n",
       " 'The Valley',\n",
       " 'Thimphu',\n",
       " 'Tirana',\n",
       " 'Tokyo',\n",
       " 'Tripoli',\n",
       " 'Tunis',\n",
       " 'Ulaanbaatar',\n",
       " 'Vaduz',\n",
       " 'Valletta',\n",
       " 'Victoria',\n",
       " 'Vienna',\n",
       " 'Vientiane',\n",
       " 'Vilnius',\n",
       " 'Warsaw',\n",
       " 'Washington, D.C.',\n",
       " 'Wellington',\n",
       " 'Windhoek',\n",
       " 'Yaounde',\n",
       " 'Yerevan',\n",
       " 'Zagreb']"
      ]
     },
     "execution_count": 10,
     "metadata": {},
     "output_type": "execute_result"
    }
   ],
   "source": [
    "#q3\n",
    "sorted(list(capitals[\"capital\"]))"
   ]
  },
  {
   "cell_type": "code",
   "execution_count": 11,
   "metadata": {},
   "outputs": [
    {
     "data": {
      "text/plain": [
       "'Rome'"
      ]
     },
     "execution_count": 11,
     "metadata": {},
     "output_type": "execute_result"
    }
   ],
   "source": [
    "#q4\n",
    "next(iter(capitals[capitals[\"country\"] == \"Italy\"][\"capital\"]))"
   ]
  },
  {
   "cell_type": "code",
   "execution_count": 12,
   "metadata": {},
   "outputs": [
    {
     "data": {
      "text/plain": [
       "'Belgium'"
      ]
     },
     "execution_count": 12,
     "metadata": {},
     "output_type": "execute_result"
    }
   ],
   "source": [
    "#q5\n",
    "next(iter(capitals[capitals[\"capital\"] == \"Brussels\"][\"country\"]))"
   ]
  },
  {
   "cell_type": "code",
   "execution_count": 13,
   "metadata": {},
   "outputs": [
    {
     "data": {
      "text/plain": [
       "['New Zealand',\n",
       " 'Australia',\n",
       " 'Uruguay',\n",
       " 'Argentina',\n",
       " 'Chile',\n",
       " 'Lesotho',\n",
       " 'Swaziland']"
      ]
     },
     "execution_count": 13,
     "metadata": {},
     "output_type": "execute_result"
    }
   ],
   "source": [
    "#q6\n",
    "def get_latitude(country):\n",
    "    latitude = next(iter(capitals[capitals[\"country\"] == country][\"latitude\"]))\n",
    "    return latitude\n",
    "country_list = []\n",
    "for country in countries['country']:\n",
    "    country_list.append(country)\n",
    "south_sorted = sorted(country_list, key=get_latitude)\n",
    "south_sorted[:7]"
   ]
  },
  {
   "cell_type": "code",
   "execution_count": 14,
   "metadata": {},
   "outputs": [
    {
     "data": {
      "text/plain": [
       "['Iceland',\n",
       " 'Finland',\n",
       " 'Norway',\n",
       " 'Estonia',\n",
       " 'Sweden',\n",
       " 'Latvia',\n",
       " 'Russia',\n",
       " 'Denmark',\n",
       " 'Lithuania',\n",
       " 'Belarus']"
      ]
     },
     "execution_count": 14,
     "metadata": {},
     "output_type": "execute_result"
    }
   ],
   "source": [
    "#q7\n",
    "sorted(country_list, key=get_latitude, reverse=True)[:10]"
   ]
  },
  {
   "cell_type": "code",
   "execution_count": 15,
   "metadata": {},
   "outputs": [
    {
     "data": {
      "text/plain": [
       "'Bhutan'"
      ]
     },
     "execution_count": 15,
     "metadata": {},
     "output_type": "execute_result"
    }
   ],
   "source": [
    "#q8\n",
    "def get_area(country):\n",
    "    area = next(iter(countries[countries[\"country\"] == country][\"area\"]))\n",
    "    return area    \n",
    "land_locked = countries[countries[\"coastline\"] == 0]\n",
    "asian_land_locked = land_locked[land_locked[\"continent\"] == \"Asia\"]\n",
    "asian_ll = []\n",
    "for country in asian_land_locked[\"country\"]:\n",
    "    asian_ll.append(country)\n",
    "sorted(asian_ll, key=get_area)[0]"
   ]
  },
  {
   "cell_type": "code",
   "execution_count": 16,
   "metadata": {},
   "outputs": [
    {
     "data": {
      "text/plain": [
       "'China'"
      ]
     },
     "execution_count": 16,
     "metadata": {},
     "output_type": "execute_result"
    }
   ],
   "source": [
    "#q9\n",
    "coastal = countries[countries[\"coastline\"] != 0]\n",
    "asian_coastal = coastal[coastal[\"continent\"] == \"Asia\"]\n",
    "coastal_asian = []\n",
    "for country in asian_coastal[\"country\"]:\n",
    "    coastal_asian.append(country)\n",
    "sorted(coastal_asian, key=get_area, reverse=True)[0]"
   ]
  },
  {
   "cell_type": "code",
   "execution_count": 17,
   "metadata": {},
   "outputs": [],
   "source": [
    "def get_population(country):\n",
    "    population = next(iter(countries[countries[\"country\"] == country][\"population\"]))\n",
    "    return population"
   ]
  },
  {
   "cell_type": "code",
   "execution_count": 18,
   "metadata": {},
   "outputs": [
    {
     "data": {
      "text/plain": [
       "'Suriname'"
      ]
     },
     "execution_count": 18,
     "metadata": {},
     "output_type": "execute_result"
    }
   ],
   "source": [
    "#q10\n",
    "south_american_coastal = coastal[coastal[\"continent\"] == \"South America\"]\n",
    "coastal_south_american = []\n",
    "for country in south_american_coastal[\"country\"]:\n",
    "    coastal_south_american.append(country)\n",
    "sorted(coastal_south_american, key=get_population)[0]"
   ]
  },
  {
   "cell_type": "code",
   "execution_count": 19,
   "metadata": {},
   "outputs": [],
   "source": [
    "#formula from http://www.movable-type.co.uk/scripts/gis-faq-5.1.html\n",
    "def distance(lon1, lat1, lon2, lat2):\n",
    "    lon1 *= math.pi/180\n",
    "    lon2 *= math.pi/180\n",
    "    lat1 *= math.pi/180\n",
    "    lat2 *= math.pi/180\n",
    "    dlon = lon2 - lon1\n",
    "    dlat = lat2 - lat1\n",
    "    a = math.sin(dlat/2)**2 + math.cos(lat1) * math.cos(lat2) * math.sin(dlon/2)**2\n",
    "    c = 2 * math.asin(min(1,math.sqrt(a)))\n",
    "    d = 3956 * c\n",
    "    return d"
   ]
  },
  {
   "cell_type": "code",
   "execution_count": 20,
   "metadata": {},
   "outputs": [
    {
     "data": {
      "text/plain": [
       "1.433899492072933"
      ]
     },
     "execution_count": 20,
     "metadata": {},
     "output_type": "execute_result"
    }
   ],
   "source": [
    "#q11\n",
    "distance(-89.411893, 43.070231, -89.384113, 43.074645)"
   ]
  },
  {
   "cell_type": "code",
   "execution_count": 21,
   "metadata": {},
   "outputs": [],
   "source": [
    "def distance_countries(country1, country2):\n",
    "    lat1 = next(iter(capitals[capitals[\"country\"] == country1][\"latitude\"]))\n",
    "    lon1 = next(iter(capitals[capitals[\"country\"] == country1][\"longitude\"]))\n",
    "    lat2 = next(iter(capitals[capitals[\"country\"] == country2][\"latitude\"]))\n",
    "    lon2 = next(iter(capitals[capitals[\"country\"] == country2][\"longitude\"]))\n",
    "    return distance(lon1, lat1, lon2, lat2)"
   ]
  },
  {
   "cell_type": "code",
   "execution_count": 22,
   "metadata": {},
   "outputs": [
    {
     "data": {
      "text/plain": [
       "520.8581822565818"
      ]
     },
     "execution_count": 22,
     "metadata": {},
     "output_type": "execute_result"
    }
   ],
   "source": [
    "#q12\n",
    "distance_countries(\"Germany\", \"Norway\")"
   ]
  },
  {
   "cell_type": "code",
   "execution_count": 23,
   "metadata": {},
   "outputs": [],
   "source": [
    "def distance_dict(country_list): \n",
    "    all_distance = defaultdict(dict)\n",
    "    for country in country_list:\n",
    "        all_distance[country] = {}\n",
    "        for each in country_list:\n",
    "            if each == country:\n",
    "                all_distance[country][each] = \"NaN\"\n",
    "            else:\n",
    "                all_distance[country][each] = distance_countries(each, country)\n",
    "    return dict(all_distance)"
   ]
  },
  {
   "cell_type": "code",
   "execution_count": 24,
   "metadata": {},
   "outputs": [
    {
     "data": {
      "text/html": [
       "<div>\n",
       "<style scoped>\n",
       "    .dataframe tbody tr th:only-of-type {\n",
       "        vertical-align: middle;\n",
       "    }\n",
       "\n",
       "    .dataframe tbody tr th {\n",
       "        vertical-align: top;\n",
       "    }\n",
       "\n",
       "    .dataframe thead th {\n",
       "        text-align: right;\n",
       "    }\n",
       "</style>\n",
       "<table border=\"1\" class=\"dataframe\">\n",
       "  <thead>\n",
       "    <tr style=\"text-align: right;\">\n",
       "      <th></th>\n",
       "      <th>Italy</th>\n",
       "      <th>United Kingdom</th>\n",
       "      <th>Germany</th>\n",
       "    </tr>\n",
       "  </thead>\n",
       "  <tbody>\n",
       "    <tr>\n",
       "      <th>Italy</th>\n",
       "      <td>NaN</td>\n",
       "      <td>888.293</td>\n",
       "      <td>734.274</td>\n",
       "    </tr>\n",
       "    <tr>\n",
       "      <th>United Kingdom</th>\n",
       "      <td>888.293</td>\n",
       "      <td>NaN</td>\n",
       "      <td>576.472</td>\n",
       "    </tr>\n",
       "    <tr>\n",
       "      <th>Germany</th>\n",
       "      <td>734.274</td>\n",
       "      <td>576.472</td>\n",
       "      <td>NaN</td>\n",
       "    </tr>\n",
       "  </tbody>\n",
       "</table>\n",
       "</div>"
      ],
      "text/plain": [
       "                  Italy United Kingdom  Germany\n",
       "Italy               NaN        888.293  734.274\n",
       "United Kingdom  888.293            NaN  576.472\n",
       "Germany         734.274        576.472      NaN"
      ]
     },
     "execution_count": 24,
     "metadata": {},
     "output_type": "execute_result"
    }
   ],
   "source": [
    "#q13\n",
    "data = distance_dict([\"Italy\", \"United Kingdom\", \"Germany\"])\n",
    "DataFrame(data)"
   ]
  },
  {
   "cell_type": "code",
   "execution_count": 25,
   "metadata": {},
   "outputs": [],
   "source": [
    "north_american = list(countries[countries[\"continent\"] == \"North America\"][\"country\"])"
   ]
  },
  {
   "cell_type": "code",
   "execution_count": 26,
   "metadata": {
    "scrolled": true
   },
   "outputs": [
    {
     "data": {
      "text/html": [
       "<div>\n",
       "<style scoped>\n",
       "    .dataframe tbody tr th:only-of-type {\n",
       "        vertical-align: middle;\n",
       "    }\n",
       "\n",
       "    .dataframe tbody tr th {\n",
       "        vertical-align: top;\n",
       "    }\n",
       "\n",
       "    .dataframe thead th {\n",
       "        text-align: right;\n",
       "    }\n",
       "</style>\n",
       "<table border=\"1\" class=\"dataframe\">\n",
       "  <thead>\n",
       "    <tr style=\"text-align: right;\">\n",
       "      <th></th>\n",
       "      <th>Belize</th>\n",
       "      <th>Jamaica</th>\n",
       "      <th>Bermuda</th>\n",
       "      <th>Saint Vincent and the Grenadines</th>\n",
       "      <th>Cuba</th>\n",
       "      <th>Saint Lucia</th>\n",
       "      <th>United States</th>\n",
       "      <th>Anguilla</th>\n",
       "      <th>Grenada</th>\n",
       "      <th>Dominican Republic</th>\n",
       "      <th>...</th>\n",
       "      <th>Guatemala</th>\n",
       "      <th>Panama</th>\n",
       "      <th>El Salvador</th>\n",
       "      <th>Mexico</th>\n",
       "      <th>Honduras</th>\n",
       "      <th>Aruba</th>\n",
       "      <th>Puerto Rico</th>\n",
       "      <th>Canada</th>\n",
       "      <th>Cayman Islands</th>\n",
       "      <th>Haiti</th>\n",
       "    </tr>\n",
       "  </thead>\n",
       "  <tbody>\n",
       "    <tr>\n",
       "      <th>Belize</th>\n",
       "      <td>NaN</td>\n",
       "      <td>789.018</td>\n",
       "      <td>1819.62</td>\n",
       "      <td>1855.89</td>\n",
       "      <td>580.312</td>\n",
       "      <td>1858.26</td>\n",
       "      <td>1653.24</td>\n",
       "      <td>1691.19</td>\n",
       "      <td>1838.29</td>\n",
       "      <td>1242.17</td>\n",
       "      <td>...</td>\n",
       "      <td>215.765</td>\n",
       "      <td>843.681</td>\n",
       "      <td>246.8</td>\n",
       "      <td>695.786</td>\n",
       "      <td>240.659</td>\n",
       "      <td>1291.29</td>\n",
       "      <td>1489.93</td>\n",
       "      <td>2085.59</td>\n",
       "      <td>504.276</td>\n",
       "      <td>1083.02</td>\n",
       "    </tr>\n",
       "    <tr>\n",
       "      <th>Jamaica</th>\n",
       "      <td>789.018</td>\n",
       "      <td>NaN</td>\n",
       "      <td>1237.53</td>\n",
       "      <td>1089.01</td>\n",
       "      <td>503.397</td>\n",
       "      <td>1083.91</td>\n",
       "      <td>1441.94</td>\n",
       "      <td>902.263</td>\n",
       "      <td>1083.74</td>\n",
       "      <td>453.609</td>\n",
       "      <td>...</td>\n",
       "      <td>938.175</td>\n",
       "      <td>650.085</td>\n",
       "      <td>875.148</td>\n",
       "      <td>1462.8</td>\n",
       "      <td>741.564</td>\n",
       "      <td>588.467</td>\n",
       "      <td>701.235</td>\n",
       "      <td>1894.05</td>\n",
       "      <td>312.971</td>\n",
       "      <td>295.158</td>\n",
       "    </tr>\n",
       "    <tr>\n",
       "      <th>Bermuda</th>\n",
       "      <td>1819.62</td>\n",
       "      <td>1237.53</td>\n",
       "      <td>NaN</td>\n",
       "      <td>1341.31</td>\n",
       "      <td>1243.92</td>\n",
       "      <td>1284.73</td>\n",
       "      <td>822.389</td>\n",
       "      <td>977.199</td>\n",
       "      <td>1410.21</td>\n",
       "      <td>1005.54</td>\n",
       "      <td>...</td>\n",
       "      <td>2025.95</td>\n",
       "      <td>1865.92</td>\n",
       "      <td>2004.09</td>\n",
       "      <td>2298.4</td>\n",
       "      <td>1890.14</td>\n",
       "      <td>1404.73</td>\n",
       "      <td>957.565</td>\n",
       "      <td>1077.95</td>\n",
       "      <td>1363.59</td>\n",
       "      <td>1058.86</td>\n",
       "    </tr>\n",
       "    <tr>\n",
       "      <th>Saint Vincent and the Grenadines</th>\n",
       "      <td>1855.89</td>\n",
       "      <td>1089.01</td>\n",
       "      <td>1341.31</td>\n",
       "      <td>NaN</td>\n",
       "      <td>1545.84</td>\n",
       "      <td>61.5809</td>\n",
       "      <td>2022.64</td>\n",
       "      <td>371.522</td>\n",
       "      <td>82.9844</td>\n",
       "      <td>684.148</td>\n",
       "      <td>...</td>\n",
       "      <td>1965.34</td>\n",
       "      <td>1273.65</td>\n",
       "      <td>1878.75</td>\n",
       "      <td>2545.04</td>\n",
       "      <td>1745.12</td>\n",
       "      <td>595.055</td>\n",
       "      <td>491.404</td>\n",
       "      <td>2385.08</td>\n",
       "      <td>1401.88</td>\n",
       "      <td>826.84</td>\n",
       "    </tr>\n",
       "    <tr>\n",
       "      <th>Cuba</th>\n",
       "      <td>580.312</td>\n",
       "      <td>503.397</td>\n",
       "      <td>1243.92</td>\n",
       "      <td>1545.84</td>\n",
       "      <td>NaN</td>\n",
       "      <td>1530.12</td>\n",
       "      <td>1133.13</td>\n",
       "      <td>1290.67</td>\n",
       "      <td>1553.37</td>\n",
       "      <td>864.914</td>\n",
       "      <td>...</td>\n",
       "      <td>792.704</td>\n",
       "      <td>994.595</td>\n",
       "      <td>789.61</td>\n",
       "      <td>1108.62</td>\n",
       "      <td>699.074</td>\n",
       "      <td>1090.16</td>\n",
       "      <td>1095.11</td>\n",
       "      <td>1584.38</td>\n",
       "      <td>270.765</td>\n",
       "      <td>719.41</td>\n",
       "    </tr>\n",
       "    <tr>\n",
       "      <th>Saint Lucia</th>\n",
       "      <td>1858.26</td>\n",
       "      <td>1083.91</td>\n",
       "      <td>1284.73</td>\n",
       "      <td>61.5809</td>\n",
       "      <td>1530.12</td>\n",
       "      <td>NaN</td>\n",
       "      <td>1975.32</td>\n",
       "      <td>321.317</td>\n",
       "      <td>143.779</td>\n",
       "      <td>665.537</td>\n",
       "      <td>...</td>\n",
       "      <td>1973.85</td>\n",
       "      <td>1300.64</td>\n",
       "      <td>1889.46</td>\n",
       "      <td>2544.24</td>\n",
       "      <td>1755.08</td>\n",
       "      <td>615.61</td>\n",
       "      <td>458.352</td>\n",
       "      <td>2332.87</td>\n",
       "      <td>1395.98</td>\n",
       "      <td>813.474</td>\n",
       "    </tr>\n",
       "    <tr>\n",
       "      <th>United States</th>\n",
       "      <td>1653.24</td>\n",
       "      <td>1441.94</td>\n",
       "      <td>822.389</td>\n",
       "      <td>2022.64</td>\n",
       "      <td>1133.13</td>\n",
       "      <td>1975.32</td>\n",
       "      <td>NaN</td>\n",
       "      <td>1654.2</td>\n",
       "      <td>2075.38</td>\n",
       "      <td>1472.54</td>\n",
       "      <td>...</td>\n",
       "      <td>1866.2</td>\n",
       "      <td>2071.56</td>\n",
       "      <td>1891.36</td>\n",
       "      <td>1883.03</td>\n",
       "      <td>1820.86</td>\n",
       "      <td>1869.85</td>\n",
       "      <td>1553.3</td>\n",
       "      <td>455.959</td>\n",
       "      <td>1377.27</td>\n",
       "      <td>1432.65</td>\n",
       "    </tr>\n",
       "    <tr>\n",
       "      <th>Anguilla</th>\n",
       "      <td>1691.19</td>\n",
       "      <td>902.263</td>\n",
       "      <td>977.199</td>\n",
       "      <td>371.522</td>\n",
       "      <td>1290.67</td>\n",
       "      <td>321.317</td>\n",
       "      <td>1654.2</td>\n",
       "      <td>NaN</td>\n",
       "      <td>434.495</td>\n",
       "      <td>449.237</td>\n",
       "      <td>...</td>\n",
       "      <td>1834.25</td>\n",
       "      <td>1275.94</td>\n",
       "      <td>1762.04</td>\n",
       "      <td>2355.35</td>\n",
       "      <td>1626.34</td>\n",
       "      <td>608.94</td>\n",
       "      <td>201.719</td>\n",
       "      <td>2013.61</td>\n",
       "      <td>1200.37</td>\n",
       "      <td>608.615</td>\n",
       "    </tr>\n",
       "    <tr>\n",
       "      <th>Grenada</th>\n",
       "      <td>1838.29</td>\n",
       "      <td>1083.74</td>\n",
       "      <td>1410.21</td>\n",
       "      <td>82.9844</td>\n",
       "      <td>1553.37</td>\n",
       "      <td>143.779</td>\n",
       "      <td>2075.38</td>\n",
       "      <td>434.495</td>\n",
       "      <td>NaN</td>\n",
       "      <td>700.424</td>\n",
       "      <td>...</td>\n",
       "      <td>1939.48</td>\n",
       "      <td>1225.57</td>\n",
       "      <td>1850.18</td>\n",
       "      <td>2530.68</td>\n",
       "      <td>1717.77</td>\n",
       "      <td>559.736</td>\n",
       "      <td>529.885</td>\n",
       "      <td>2445.61</td>\n",
       "      <td>1396.43</td>\n",
       "      <td>834.542</td>\n",
       "    </tr>\n",
       "    <tr>\n",
       "      <th>Dominican Republic</th>\n",
       "      <td>1242.17</td>\n",
       "      <td>453.609</td>\n",
       "      <td>1005.54</td>\n",
       "      <td>684.148</td>\n",
       "      <td>864.914</td>\n",
       "      <td>665.537</td>\n",
       "      <td>1472.54</td>\n",
       "      <td>449.237</td>\n",
       "      <td>700.424</td>\n",
       "      <td>NaN</td>\n",
       "      <td>...</td>\n",
       "      <td>1389.31</td>\n",
       "      <td>920.103</td>\n",
       "      <td>1321.13</td>\n",
       "      <td>1907.93</td>\n",
       "      <td>1185.94</td>\n",
       "      <td>410.915</td>\n",
       "      <td>247.766</td>\n",
       "      <td>1890.3</td>\n",
       "      <td>752.259</td>\n",
       "      <td>159.393</td>\n",
       "    </tr>\n",
       "    <tr>\n",
       "      <th>Nicaragua</th>\n",
       "      <td>391.199</td>\n",
       "      <td>748.702</td>\n",
       "      <td>1945.78</td>\n",
       "      <td>1687.32</td>\n",
       "      <td>800.429</td>\n",
       "      <td>1702.33</td>\n",
       "      <td>1932.13</td>\n",
       "      <td>1600.47</td>\n",
       "      <td>1653.52</td>\n",
       "      <td>1172.53</td>\n",
       "      <td>...</td>\n",
       "      <td>333.951</td>\n",
       "      <td>505.565</td>\n",
       "      <td>226.079</td>\n",
       "      <td>992.629</td>\n",
       "      <td>150.544</td>\n",
       "      <td>1094.03</td>\n",
       "      <td>1409.09</td>\n",
       "      <td>2380.38</td>\n",
       "      <td>591.018</td>\n",
       "      <td>1025.96</td>\n",
       "    </tr>\n",
       "    <tr>\n",
       "      <th>Barbados</th>\n",
       "      <td>1961.54</td>\n",
       "      <td>1191.31</td>\n",
       "      <td>1364.22</td>\n",
       "      <td>107.615</td>\n",
       "      <td>1641.24</td>\n",
       "      <td>111.728</td>\n",
       "      <td>2073</td>\n",
       "      <td>420.554</td>\n",
       "      <td>161.006</td>\n",
       "      <td>776.923</td>\n",
       "      <td>...</td>\n",
       "      <td>2072.49</td>\n",
       "      <td>1379.01</td>\n",
       "      <td>1986.19</td>\n",
       "      <td>2649.59</td>\n",
       "      <td>1852.46</td>\n",
       "      <td>702.429</td>\n",
       "      <td>568.887</td>\n",
       "      <td>2422.13</td>\n",
       "      <td>1503.85</td>\n",
       "      <td>923.855</td>\n",
       "    </tr>\n",
       "    <tr>\n",
       "      <th>Dominica</th>\n",
       "      <td>1817.32</td>\n",
       "      <td>1035.27</td>\n",
       "      <td>1191.72</td>\n",
       "      <td>150.1</td>\n",
       "      <td>1466.6</td>\n",
       "      <td>93.6513</td>\n",
       "      <td>1883.18</td>\n",
       "      <td>229.022</td>\n",
       "      <td>225.622</td>\n",
       "      <td>602.524</td>\n",
       "      <td>...</td>\n",
       "      <td>1941.38</td>\n",
       "      <td>1298.93</td>\n",
       "      <td>1860.36</td>\n",
       "      <td>2498.03</td>\n",
       "      <td>1725.17</td>\n",
       "      <td>609.599</td>\n",
       "      <td>380.631</td>\n",
       "      <td>2239.29</td>\n",
       "      <td>1345.05</td>\n",
       "      <td>755.74</td>\n",
       "    </tr>\n",
       "    <tr>\n",
       "      <th>Costa Rica</th>\n",
       "      <td>594.84</td>\n",
       "      <td>740.189</td>\n",
       "      <td>1973.9</td>\n",
       "      <td>1562.02</td>\n",
       "      <td>917.409</td>\n",
       "      <td>1583.42</td>\n",
       "      <td>2046.18</td>\n",
       "      <td>1518.53</td>\n",
       "      <td>1520.31</td>\n",
       "      <td>1116.32</td>\n",
       "      <td>...</td>\n",
       "      <td>541.13</td>\n",
       "      <td>316.992</td>\n",
       "      <td>432.618</td>\n",
       "      <td>1198.95</td>\n",
       "      <td>357.095</td>\n",
       "      <td>967.923</td>\n",
       "      <td>1337.72</td>\n",
       "      <td>2499.87</td>\n",
       "      <td>671.345</td>\n",
       "      <td>984.609</td>\n",
       "    </tr>\n",
       "    <tr>\n",
       "      <th>Guatemala</th>\n",
       "      <td>215.765</td>\n",
       "      <td>938.175</td>\n",
       "      <td>2025.95</td>\n",
       "      <td>1965.34</td>\n",
       "      <td>792.704</td>\n",
       "      <td>1973.85</td>\n",
       "      <td>1866.2</td>\n",
       "      <td>1834.25</td>\n",
       "      <td>1939.48</td>\n",
       "      <td>1389.31</td>\n",
       "      <td>...</td>\n",
       "      <td>NaN</td>\n",
       "      <td>838.26</td>\n",
       "      <td>108.516</td>\n",
       "      <td>658.722</td>\n",
       "      <td>223.593</td>\n",
       "      <td>1381.94</td>\n",
       "      <td>1635.34</td>\n",
       "      <td>2295.11</td>\n",
       "      <td>684.163</td>\n",
       "      <td>1232.62</td>\n",
       "    </tr>\n",
       "    <tr>\n",
       "      <th>Panama</th>\n",
       "      <td>843.681</td>\n",
       "      <td>650.085</td>\n",
       "      <td>1865.92</td>\n",
       "      <td>1273.65</td>\n",
       "      <td>994.595</td>\n",
       "      <td>1300.64</td>\n",
       "      <td>2071.56</td>\n",
       "      <td>1275.94</td>\n",
       "      <td>1225.57</td>\n",
       "      <td>920.103</td>\n",
       "      <td>...</td>\n",
       "      <td>838.26</td>\n",
       "      <td>NaN</td>\n",
       "      <td>731.275</td>\n",
       "      <td>1495.56</td>\n",
       "      <td>628.952</td>\n",
       "      <td>689.345</td>\n",
       "      <td>1112.53</td>\n",
       "      <td>2527.01</td>\n",
       "      <td>724.106</td>\n",
       "      <td>817.813</td>\n",
       "    </tr>\n",
       "    <tr>\n",
       "      <th>El Salvador</th>\n",
       "      <td>246.8</td>\n",
       "      <td>875.148</td>\n",
       "      <td>2004.09</td>\n",
       "      <td>1878.75</td>\n",
       "      <td>789.61</td>\n",
       "      <td>1889.46</td>\n",
       "      <td>1891.36</td>\n",
       "      <td>1762.04</td>\n",
       "      <td>1850.18</td>\n",
       "      <td>1321.13</td>\n",
       "      <td>...</td>\n",
       "      <td>108.516</td>\n",
       "      <td>731.275</td>\n",
       "      <td>NaN</td>\n",
       "      <td>767.011</td>\n",
       "      <td>135.768</td>\n",
       "      <td>1291.13</td>\n",
       "      <td>1565.05</td>\n",
       "      <td>2327.81</td>\n",
       "      <td>645.741</td>\n",
       "      <td>1166.81</td>\n",
       "    </tr>\n",
       "    <tr>\n",
       "      <th>Mexico</th>\n",
       "      <td>695.786</td>\n",
       "      <td>1462.8</td>\n",
       "      <td>2298.4</td>\n",
       "      <td>2545.04</td>\n",
       "      <td>1108.62</td>\n",
       "      <td>2544.24</td>\n",
       "      <td>1883.03</td>\n",
       "      <td>2355.35</td>\n",
       "      <td>2530.68</td>\n",
       "      <td>1907.93</td>\n",
       "      <td>...</td>\n",
       "      <td>658.722</td>\n",
       "      <td>1495.56</td>\n",
       "      <td>767.011</td>\n",
       "      <td>NaN</td>\n",
       "      <td>869.188</td>\n",
       "      <td>1986.79</td>\n",
       "      <td>2153.85</td>\n",
       "      <td>2237.08</td>\n",
       "      <td>1155.73</td>\n",
       "      <td>1749.13</td>\n",
       "    </tr>\n",
       "    <tr>\n",
       "      <th>Honduras</th>\n",
       "      <td>240.659</td>\n",
       "      <td>741.564</td>\n",
       "      <td>1890.14</td>\n",
       "      <td>1745.12</td>\n",
       "      <td>699.074</td>\n",
       "      <td>1755.08</td>\n",
       "      <td>1820.86</td>\n",
       "      <td>1626.34</td>\n",
       "      <td>1717.77</td>\n",
       "      <td>1185.94</td>\n",
       "      <td>...</td>\n",
       "      <td>223.593</td>\n",
       "      <td>628.952</td>\n",
       "      <td>135.768</td>\n",
       "      <td>869.188</td>\n",
       "      <td>NaN</td>\n",
       "      <td>1159.46</td>\n",
       "      <td>1429.52</td>\n",
       "      <td>2264.43</td>\n",
       "      <td>526.867</td>\n",
       "      <td>1032.14</td>\n",
       "    </tr>\n",
       "    <tr>\n",
       "      <th>Aruba</th>\n",
       "      <td>1291.29</td>\n",
       "      <td>588.467</td>\n",
       "      <td>1404.73</td>\n",
       "      <td>595.055</td>\n",
       "      <td>1090.16</td>\n",
       "      <td>615.61</td>\n",
       "      <td>1869.85</td>\n",
       "      <td>608.94</td>\n",
       "      <td>559.736</td>\n",
       "      <td>410.915</td>\n",
       "      <td>...</td>\n",
       "      <td>1381.94</td>\n",
       "      <td>689.345</td>\n",
       "      <td>1291.13</td>\n",
       "      <td>1986.79</td>\n",
       "      <td>1159.46</td>\n",
       "      <td>NaN</td>\n",
       "      <td>486.425</td>\n",
       "      <td>2295.86</td>\n",
       "      <td>886.781</td>\n",
       "      <td>442.675</td>\n",
       "    </tr>\n",
       "    <tr>\n",
       "      <th>Puerto Rico</th>\n",
       "      <td>1489.93</td>\n",
       "      <td>701.235</td>\n",
       "      <td>957.565</td>\n",
       "      <td>491.404</td>\n",
       "      <td>1095.11</td>\n",
       "      <td>458.352</td>\n",
       "      <td>1553.3</td>\n",
       "      <td>201.719</td>\n",
       "      <td>529.885</td>\n",
       "      <td>247.766</td>\n",
       "      <td>...</td>\n",
       "      <td>1635.34</td>\n",
       "      <td>1112.53</td>\n",
       "      <td>1565.05</td>\n",
       "      <td>2153.85</td>\n",
       "      <td>1429.52</td>\n",
       "      <td>486.425</td>\n",
       "      <td>NaN</td>\n",
       "      <td>1940.31</td>\n",
       "      <td>998.695</td>\n",
       "      <td>407.056</td>\n",
       "    </tr>\n",
       "    <tr>\n",
       "      <th>Canada</th>\n",
       "      <td>2085.59</td>\n",
       "      <td>1894.05</td>\n",
       "      <td>1077.95</td>\n",
       "      <td>2385.08</td>\n",
       "      <td>1584.38</td>\n",
       "      <td>2332.87</td>\n",
       "      <td>455.959</td>\n",
       "      <td>2013.61</td>\n",
       "      <td>2445.61</td>\n",
       "      <td>1890.3</td>\n",
       "      <td>...</td>\n",
       "      <td>2295.11</td>\n",
       "      <td>2527.01</td>\n",
       "      <td>2327.81</td>\n",
       "      <td>2237.08</td>\n",
       "      <td>2264.43</td>\n",
       "      <td>2295.86</td>\n",
       "      <td>1940.31</td>\n",
       "      <td>NaN</td>\n",
       "      <td>1832.28</td>\n",
       "      <td>1866.19</td>\n",
       "    </tr>\n",
       "    <tr>\n",
       "      <th>Cayman Islands</th>\n",
       "      <td>504.276</td>\n",
       "      <td>312.971</td>\n",
       "      <td>1363.59</td>\n",
       "      <td>1401.88</td>\n",
       "      <td>270.765</td>\n",
       "      <td>1395.98</td>\n",
       "      <td>1377.27</td>\n",
       "      <td>1200.37</td>\n",
       "      <td>1396.43</td>\n",
       "      <td>752.259</td>\n",
       "      <td>...</td>\n",
       "      <td>684.163</td>\n",
       "      <td>724.106</td>\n",
       "      <td>645.741</td>\n",
       "      <td>1155.73</td>\n",
       "      <td>526.867</td>\n",
       "      <td>886.781</td>\n",
       "      <td>998.695</td>\n",
       "      <td>1832.28</td>\n",
       "      <td>NaN</td>\n",
       "      <td>593.406</td>\n",
       "    </tr>\n",
       "    <tr>\n",
       "      <th>Haiti</th>\n",
       "      <td>1083.02</td>\n",
       "      <td>295.158</td>\n",
       "      <td>1058.86</td>\n",
       "      <td>826.84</td>\n",
       "      <td>719.41</td>\n",
       "      <td>813.474</td>\n",
       "      <td>1432.65</td>\n",
       "      <td>608.615</td>\n",
       "      <td>834.542</td>\n",
       "      <td>159.393</td>\n",
       "      <td>...</td>\n",
       "      <td>1232.62</td>\n",
       "      <td>817.813</td>\n",
       "      <td>1166.81</td>\n",
       "      <td>1749.13</td>\n",
       "      <td>1032.14</td>\n",
       "      <td>442.675</td>\n",
       "      <td>407.056</td>\n",
       "      <td>1866.19</td>\n",
       "      <td>593.406</td>\n",
       "      <td>NaN</td>\n",
       "    </tr>\n",
       "  </tbody>\n",
       "</table>\n",
       "<p>24 rows × 24 columns</p>\n",
       "</div>"
      ],
      "text/plain": [
       "                                   Belize  Jamaica  Bermuda  \\\n",
       "Belize                                NaN  789.018  1819.62   \n",
       "Jamaica                           789.018      NaN  1237.53   \n",
       "Bermuda                           1819.62  1237.53      NaN   \n",
       "Saint Vincent and the Grenadines  1855.89  1089.01  1341.31   \n",
       "Cuba                              580.312  503.397  1243.92   \n",
       "Saint Lucia                       1858.26  1083.91  1284.73   \n",
       "United States                     1653.24  1441.94  822.389   \n",
       "Anguilla                          1691.19  902.263  977.199   \n",
       "Grenada                           1838.29  1083.74  1410.21   \n",
       "Dominican Republic                1242.17  453.609  1005.54   \n",
       "Nicaragua                         391.199  748.702  1945.78   \n",
       "Barbados                          1961.54  1191.31  1364.22   \n",
       "Dominica                          1817.32  1035.27  1191.72   \n",
       "Costa Rica                         594.84  740.189   1973.9   \n",
       "Guatemala                         215.765  938.175  2025.95   \n",
       "Panama                            843.681  650.085  1865.92   \n",
       "El Salvador                         246.8  875.148  2004.09   \n",
       "Mexico                            695.786   1462.8   2298.4   \n",
       "Honduras                          240.659  741.564  1890.14   \n",
       "Aruba                             1291.29  588.467  1404.73   \n",
       "Puerto Rico                       1489.93  701.235  957.565   \n",
       "Canada                            2085.59  1894.05  1077.95   \n",
       "Cayman Islands                    504.276  312.971  1363.59   \n",
       "Haiti                             1083.02  295.158  1058.86   \n",
       "\n",
       "                                 Saint Vincent and the Grenadines     Cuba  \\\n",
       "Belize                                                    1855.89  580.312   \n",
       "Jamaica                                                   1089.01  503.397   \n",
       "Bermuda                                                   1341.31  1243.92   \n",
       "Saint Vincent and the Grenadines                              NaN  1545.84   \n",
       "Cuba                                                      1545.84      NaN   \n",
       "Saint Lucia                                               61.5809  1530.12   \n",
       "United States                                             2022.64  1133.13   \n",
       "Anguilla                                                  371.522  1290.67   \n",
       "Grenada                                                   82.9844  1553.37   \n",
       "Dominican Republic                                        684.148  864.914   \n",
       "Nicaragua                                                 1687.32  800.429   \n",
       "Barbados                                                  107.615  1641.24   \n",
       "Dominica                                                    150.1   1466.6   \n",
       "Costa Rica                                                1562.02  917.409   \n",
       "Guatemala                                                 1965.34  792.704   \n",
       "Panama                                                    1273.65  994.595   \n",
       "El Salvador                                               1878.75   789.61   \n",
       "Mexico                                                    2545.04  1108.62   \n",
       "Honduras                                                  1745.12  699.074   \n",
       "Aruba                                                     595.055  1090.16   \n",
       "Puerto Rico                                               491.404  1095.11   \n",
       "Canada                                                    2385.08  1584.38   \n",
       "Cayman Islands                                            1401.88  270.765   \n",
       "Haiti                                                      826.84   719.41   \n",
       "\n",
       "                                 Saint Lucia United States Anguilla  Grenada  \\\n",
       "Belize                               1858.26       1653.24  1691.19  1838.29   \n",
       "Jamaica                              1083.91       1441.94  902.263  1083.74   \n",
       "Bermuda                              1284.73       822.389  977.199  1410.21   \n",
       "Saint Vincent and the Grenadines     61.5809       2022.64  371.522  82.9844   \n",
       "Cuba                                 1530.12       1133.13  1290.67  1553.37   \n",
       "Saint Lucia                              NaN       1975.32  321.317  143.779   \n",
       "United States                        1975.32           NaN   1654.2  2075.38   \n",
       "Anguilla                             321.317        1654.2      NaN  434.495   \n",
       "Grenada                              143.779       2075.38  434.495      NaN   \n",
       "Dominican Republic                   665.537       1472.54  449.237  700.424   \n",
       "Nicaragua                            1702.33       1932.13  1600.47  1653.52   \n",
       "Barbados                             111.728          2073  420.554  161.006   \n",
       "Dominica                             93.6513       1883.18  229.022  225.622   \n",
       "Costa Rica                           1583.42       2046.18  1518.53  1520.31   \n",
       "Guatemala                            1973.85        1866.2  1834.25  1939.48   \n",
       "Panama                               1300.64       2071.56  1275.94  1225.57   \n",
       "El Salvador                          1889.46       1891.36  1762.04  1850.18   \n",
       "Mexico                               2544.24       1883.03  2355.35  2530.68   \n",
       "Honduras                             1755.08       1820.86  1626.34  1717.77   \n",
       "Aruba                                 615.61       1869.85   608.94  559.736   \n",
       "Puerto Rico                          458.352        1553.3  201.719  529.885   \n",
       "Canada                               2332.87       455.959  2013.61  2445.61   \n",
       "Cayman Islands                       1395.98       1377.27  1200.37  1396.43   \n",
       "Haiti                                813.474       1432.65  608.615  834.542   \n",
       "\n",
       "                                 Dominican Republic  ... Guatemala   Panama  \\\n",
       "Belize                                      1242.17  ...   215.765  843.681   \n",
       "Jamaica                                     453.609  ...   938.175  650.085   \n",
       "Bermuda                                     1005.54  ...   2025.95  1865.92   \n",
       "Saint Vincent and the Grenadines            684.148  ...   1965.34  1273.65   \n",
       "Cuba                                        864.914  ...   792.704  994.595   \n",
       "Saint Lucia                                 665.537  ...   1973.85  1300.64   \n",
       "United States                               1472.54  ...    1866.2  2071.56   \n",
       "Anguilla                                    449.237  ...   1834.25  1275.94   \n",
       "Grenada                                     700.424  ...   1939.48  1225.57   \n",
       "Dominican Republic                              NaN  ...   1389.31  920.103   \n",
       "Nicaragua                                   1172.53  ...   333.951  505.565   \n",
       "Barbados                                    776.923  ...   2072.49  1379.01   \n",
       "Dominica                                    602.524  ...   1941.38  1298.93   \n",
       "Costa Rica                                  1116.32  ...    541.13  316.992   \n",
       "Guatemala                                   1389.31  ...       NaN   838.26   \n",
       "Panama                                      920.103  ...    838.26      NaN   \n",
       "El Salvador                                 1321.13  ...   108.516  731.275   \n",
       "Mexico                                      1907.93  ...   658.722  1495.56   \n",
       "Honduras                                    1185.94  ...   223.593  628.952   \n",
       "Aruba                                       410.915  ...   1381.94  689.345   \n",
       "Puerto Rico                                 247.766  ...   1635.34  1112.53   \n",
       "Canada                                       1890.3  ...   2295.11  2527.01   \n",
       "Cayman Islands                              752.259  ...   684.163  724.106   \n",
       "Haiti                                       159.393  ...   1232.62  817.813   \n",
       "\n",
       "                                 El Salvador   Mexico Honduras    Aruba  \\\n",
       "Belize                                 246.8  695.786  240.659  1291.29   \n",
       "Jamaica                              875.148   1462.8  741.564  588.467   \n",
       "Bermuda                              2004.09   2298.4  1890.14  1404.73   \n",
       "Saint Vincent and the Grenadines     1878.75  2545.04  1745.12  595.055   \n",
       "Cuba                                  789.61  1108.62  699.074  1090.16   \n",
       "Saint Lucia                          1889.46  2544.24  1755.08   615.61   \n",
       "United States                        1891.36  1883.03  1820.86  1869.85   \n",
       "Anguilla                             1762.04  2355.35  1626.34   608.94   \n",
       "Grenada                              1850.18  2530.68  1717.77  559.736   \n",
       "Dominican Republic                   1321.13  1907.93  1185.94  410.915   \n",
       "Nicaragua                            226.079  992.629  150.544  1094.03   \n",
       "Barbados                             1986.19  2649.59  1852.46  702.429   \n",
       "Dominica                             1860.36  2498.03  1725.17  609.599   \n",
       "Costa Rica                           432.618  1198.95  357.095  967.923   \n",
       "Guatemala                            108.516  658.722  223.593  1381.94   \n",
       "Panama                               731.275  1495.56  628.952  689.345   \n",
       "El Salvador                              NaN  767.011  135.768  1291.13   \n",
       "Mexico                               767.011      NaN  869.188  1986.79   \n",
       "Honduras                             135.768  869.188      NaN  1159.46   \n",
       "Aruba                                1291.13  1986.79  1159.46      NaN   \n",
       "Puerto Rico                          1565.05  2153.85  1429.52  486.425   \n",
       "Canada                               2327.81  2237.08  2264.43  2295.86   \n",
       "Cayman Islands                       645.741  1155.73  526.867  886.781   \n",
       "Haiti                                1166.81  1749.13  1032.14  442.675   \n",
       "\n",
       "                                 Puerto Rico   Canada Cayman Islands    Haiti  \n",
       "Belize                               1489.93  2085.59        504.276  1083.02  \n",
       "Jamaica                              701.235  1894.05        312.971  295.158  \n",
       "Bermuda                              957.565  1077.95        1363.59  1058.86  \n",
       "Saint Vincent and the Grenadines     491.404  2385.08        1401.88   826.84  \n",
       "Cuba                                 1095.11  1584.38        270.765   719.41  \n",
       "Saint Lucia                          458.352  2332.87        1395.98  813.474  \n",
       "United States                         1553.3  455.959        1377.27  1432.65  \n",
       "Anguilla                             201.719  2013.61        1200.37  608.615  \n",
       "Grenada                              529.885  2445.61        1396.43  834.542  \n",
       "Dominican Republic                   247.766   1890.3        752.259  159.393  \n",
       "Nicaragua                            1409.09  2380.38        591.018  1025.96  \n",
       "Barbados                             568.887  2422.13        1503.85  923.855  \n",
       "Dominica                             380.631  2239.29        1345.05   755.74  \n",
       "Costa Rica                           1337.72  2499.87        671.345  984.609  \n",
       "Guatemala                            1635.34  2295.11        684.163  1232.62  \n",
       "Panama                               1112.53  2527.01        724.106  817.813  \n",
       "El Salvador                          1565.05  2327.81        645.741  1166.81  \n",
       "Mexico                               2153.85  2237.08        1155.73  1749.13  \n",
       "Honduras                             1429.52  2264.43        526.867  1032.14  \n",
       "Aruba                                486.425  2295.86        886.781  442.675  \n",
       "Puerto Rico                              NaN  1940.31        998.695  407.056  \n",
       "Canada                               1940.31      NaN        1832.28  1866.19  \n",
       "Cayman Islands                       998.695  1832.28            NaN  593.406  \n",
       "Haiti                                407.056  1866.19        593.406      NaN  \n",
       "\n",
       "[24 rows x 24 columns]"
      ]
     },
     "execution_count": 26,
     "metadata": {},
     "output_type": "execute_result"
    }
   ],
   "source": [
    "#q14\n",
    "data = distance_dict(north_american)\n",
    "na_data = DataFrame(data)\n",
    "na_data"
   ]
  },
  {
   "cell_type": "code",
   "execution_count": 27,
   "metadata": {
    "scrolled": true
   },
   "outputs": [
    {
     "data": {
      "text/plain": [
       "'Jamaica'"
      ]
     },
     "execution_count": 27,
     "metadata": {},
     "output_type": "execute_result"
    }
   ],
   "source": [
    "#q15\n",
    "copy_na_data = copy.copy(na_data)\n",
    "avg_distance = defaultdict(float)\n",
    "for country in north_american:\n",
    "    for data in copy_na_data[country]:\n",
    "        if data == \"NaN\":\n",
    "            copy_na_data[country][country] = 0\n",
    "    avg_distance[country] = copy_na_data[country].mean()\n",
    "def get_avg(country):\n",
    "    return avg_distance[country]\n",
    "sorted(north_american, key=get_avg)[0]"
   ]
  },
  {
   "cell_type": "code",
   "execution_count": 28,
   "metadata": {
    "scrolled": true
   },
   "outputs": [
    {
     "data": {
      "text/plain": [
       "'Canada'"
      ]
     },
     "execution_count": 28,
     "metadata": {},
     "output_type": "execute_result"
    }
   ],
   "source": [
    "#q16\n",
    "sorted(north_american, key=get_avg, reverse=True)[0]"
   ]
  },
  {
   "cell_type": "code",
   "execution_count": 29,
   "metadata": {},
   "outputs": [
    {
     "data": {
      "text/html": [
       "<div>\n",
       "<style scoped>\n",
       "    .dataframe tbody tr th:only-of-type {\n",
       "        vertical-align: middle;\n",
       "    }\n",
       "\n",
       "    .dataframe tbody tr th {\n",
       "        vertical-align: top;\n",
       "    }\n",
       "\n",
       "    .dataframe thead th {\n",
       "        text-align: right;\n",
       "    }\n",
       "</style>\n",
       "<table border=\"1\" class=\"dataframe\">\n",
       "  <thead>\n",
       "    <tr style=\"text-align: right;\">\n",
       "      <th></th>\n",
       "      <th>nearest</th>\n",
       "      <th>distance</th>\n",
       "    </tr>\n",
       "  </thead>\n",
       "  <tbody>\n",
       "    <tr>\n",
       "      <th>Belize</th>\n",
       "      <td>Guatemala</td>\n",
       "      <td>215.765123</td>\n",
       "    </tr>\n",
       "    <tr>\n",
       "      <th>Jamaica</th>\n",
       "      <td>Haiti</td>\n",
       "      <td>295.158445</td>\n",
       "    </tr>\n",
       "    <tr>\n",
       "      <th>Bermuda</th>\n",
       "      <td>United States</td>\n",
       "      <td>822.389478</td>\n",
       "    </tr>\n",
       "    <tr>\n",
       "      <th>Saint Vincent and the Grenadines</th>\n",
       "      <td>Saint Lucia</td>\n",
       "      <td>61.580891</td>\n",
       "    </tr>\n",
       "    <tr>\n",
       "      <th>Cuba</th>\n",
       "      <td>Cayman Islands</td>\n",
       "      <td>270.765230</td>\n",
       "    </tr>\n",
       "    <tr>\n",
       "      <th>Saint Lucia</th>\n",
       "      <td>Saint Vincent and the Grenadines</td>\n",
       "      <td>61.580891</td>\n",
       "    </tr>\n",
       "    <tr>\n",
       "      <th>United States</th>\n",
       "      <td>Canada</td>\n",
       "      <td>455.959281</td>\n",
       "    </tr>\n",
       "    <tr>\n",
       "      <th>Anguilla</th>\n",
       "      <td>Puerto Rico</td>\n",
       "      <td>201.719030</td>\n",
       "    </tr>\n",
       "    <tr>\n",
       "      <th>Grenada</th>\n",
       "      <td>Saint Vincent and the Grenadines</td>\n",
       "      <td>82.984426</td>\n",
       "    </tr>\n",
       "    <tr>\n",
       "      <th>Dominican Republic</th>\n",
       "      <td>Haiti</td>\n",
       "      <td>159.393141</td>\n",
       "    </tr>\n",
       "    <tr>\n",
       "      <th>Nicaragua</th>\n",
       "      <td>Honduras</td>\n",
       "      <td>150.543884</td>\n",
       "    </tr>\n",
       "    <tr>\n",
       "      <th>Barbados</th>\n",
       "      <td>Saint Vincent and the Grenadines</td>\n",
       "      <td>107.614568</td>\n",
       "    </tr>\n",
       "    <tr>\n",
       "      <th>Dominica</th>\n",
       "      <td>Saint Lucia</td>\n",
       "      <td>93.651335</td>\n",
       "    </tr>\n",
       "    <tr>\n",
       "      <th>Costa Rica</th>\n",
       "      <td>Nicaragua</td>\n",
       "      <td>211.258834</td>\n",
       "    </tr>\n",
       "    <tr>\n",
       "      <th>Guatemala</th>\n",
       "      <td>El Salvador</td>\n",
       "      <td>108.515759</td>\n",
       "    </tr>\n",
       "    <tr>\n",
       "      <th>Panama</th>\n",
       "      <td>Costa Rica</td>\n",
       "      <td>316.992467</td>\n",
       "    </tr>\n",
       "    <tr>\n",
       "      <th>El Salvador</th>\n",
       "      <td>Guatemala</td>\n",
       "      <td>108.515759</td>\n",
       "    </tr>\n",
       "    <tr>\n",
       "      <th>Mexico</th>\n",
       "      <td>Guatemala</td>\n",
       "      <td>658.722264</td>\n",
       "    </tr>\n",
       "    <tr>\n",
       "      <th>Honduras</th>\n",
       "      <td>El Salvador</td>\n",
       "      <td>135.767633</td>\n",
       "    </tr>\n",
       "    <tr>\n",
       "      <th>Aruba</th>\n",
       "      <td>Dominican Republic</td>\n",
       "      <td>410.914762</td>\n",
       "    </tr>\n",
       "    <tr>\n",
       "      <th>Puerto Rico</th>\n",
       "      <td>Anguilla</td>\n",
       "      <td>201.719030</td>\n",
       "    </tr>\n",
       "    <tr>\n",
       "      <th>Canada</th>\n",
       "      <td>United States</td>\n",
       "      <td>455.959281</td>\n",
       "    </tr>\n",
       "    <tr>\n",
       "      <th>Cayman Islands</th>\n",
       "      <td>Cuba</td>\n",
       "      <td>270.765230</td>\n",
       "    </tr>\n",
       "    <tr>\n",
       "      <th>Haiti</th>\n",
       "      <td>Dominican Republic</td>\n",
       "      <td>159.393141</td>\n",
       "    </tr>\n",
       "  </tbody>\n",
       "</table>\n",
       "</div>"
      ],
      "text/plain": [
       "                                                           nearest    distance\n",
       "Belize                                                   Guatemala  215.765123\n",
       "Jamaica                                                      Haiti  295.158445\n",
       "Bermuda                                              United States  822.389478\n",
       "Saint Vincent and the Grenadines                       Saint Lucia   61.580891\n",
       "Cuba                                                Cayman Islands  270.765230\n",
       "Saint Lucia                       Saint Vincent and the Grenadines   61.580891\n",
       "United States                                               Canada  455.959281\n",
       "Anguilla                                               Puerto Rico  201.719030\n",
       "Grenada                           Saint Vincent and the Grenadines   82.984426\n",
       "Dominican Republic                                           Haiti  159.393141\n",
       "Nicaragua                                                 Honduras  150.543884\n",
       "Barbados                          Saint Vincent and the Grenadines  107.614568\n",
       "Dominica                                               Saint Lucia   93.651335\n",
       "Costa Rica                                               Nicaragua  211.258834\n",
       "Guatemala                                              El Salvador  108.515759\n",
       "Panama                                                  Costa Rica  316.992467\n",
       "El Salvador                                              Guatemala  108.515759\n",
       "Mexico                                                   Guatemala  658.722264\n",
       "Honduras                                               El Salvador  135.767633\n",
       "Aruba                                           Dominican Republic  410.914762\n",
       "Puerto Rico                                               Anguilla  201.719030\n",
       "Canada                                               United States  455.959281\n",
       "Cayman Islands                                                Cuba  270.765230\n",
       "Haiti                                           Dominican Republic  159.393141"
      ]
     },
     "execution_count": 29,
     "metadata": {},
     "output_type": "execute_result"
    }
   ],
   "source": [
    "#q17\n",
    "min_distance = na_data.astype(float).min()\n",
    "min_idx = na_data.astype(float).idxmin()\n",
    "nearest = defaultdict(dict)\n",
    "distance = defaultdict(float)\n",
    "for country in na_data:\n",
    "    nearest[country] = min_idx[country]\n",
    "    distance[country] = min_distance[country]\n",
    "DataFrame({\"nearest\": nearest, \"distance\": distance})"
   ]
  },
  {
   "cell_type": "code",
   "execution_count": 30,
   "metadata": {},
   "outputs": [
    {
     "data": {
      "text/html": [
       "<div>\n",
       "<style scoped>\n",
       "    .dataframe tbody tr th:only-of-type {\n",
       "        vertical-align: middle;\n",
       "    }\n",
       "\n",
       "    .dataframe tbody tr th {\n",
       "        vertical-align: top;\n",
       "    }\n",
       "\n",
       "    .dataframe thead th {\n",
       "        text-align: right;\n",
       "    }\n",
       "</style>\n",
       "<table border=\"1\" class=\"dataframe\">\n",
       "  <thead>\n",
       "    <tr style=\"text-align: right;\">\n",
       "      <th></th>\n",
       "      <th>furthest</th>\n",
       "      <th>distance</th>\n",
       "    </tr>\n",
       "  </thead>\n",
       "  <tbody>\n",
       "    <tr>\n",
       "      <th>Belize</th>\n",
       "      <td>Canada</td>\n",
       "      <td>2085.591134</td>\n",
       "    </tr>\n",
       "    <tr>\n",
       "      <th>Jamaica</th>\n",
       "      <td>Canada</td>\n",
       "      <td>1894.046648</td>\n",
       "    </tr>\n",
       "    <tr>\n",
       "      <th>Bermuda</th>\n",
       "      <td>Mexico</td>\n",
       "      <td>2298.396835</td>\n",
       "    </tr>\n",
       "    <tr>\n",
       "      <th>Saint Vincent and the Grenadines</th>\n",
       "      <td>Mexico</td>\n",
       "      <td>2545.035009</td>\n",
       "    </tr>\n",
       "    <tr>\n",
       "      <th>Cuba</th>\n",
       "      <td>Barbados</td>\n",
       "      <td>1641.236050</td>\n",
       "    </tr>\n",
       "    <tr>\n",
       "      <th>Saint Lucia</th>\n",
       "      <td>Mexico</td>\n",
       "      <td>2544.237348</td>\n",
       "    </tr>\n",
       "    <tr>\n",
       "      <th>United States</th>\n",
       "      <td>Grenada</td>\n",
       "      <td>2075.376717</td>\n",
       "    </tr>\n",
       "    <tr>\n",
       "      <th>Anguilla</th>\n",
       "      <td>Mexico</td>\n",
       "      <td>2355.347815</td>\n",
       "    </tr>\n",
       "    <tr>\n",
       "      <th>Grenada</th>\n",
       "      <td>Mexico</td>\n",
       "      <td>2530.683480</td>\n",
       "    </tr>\n",
       "    <tr>\n",
       "      <th>Dominican Republic</th>\n",
       "      <td>Mexico</td>\n",
       "      <td>1907.930275</td>\n",
       "    </tr>\n",
       "    <tr>\n",
       "      <th>Nicaragua</th>\n",
       "      <td>Canada</td>\n",
       "      <td>2380.384387</td>\n",
       "    </tr>\n",
       "    <tr>\n",
       "      <th>Barbados</th>\n",
       "      <td>Mexico</td>\n",
       "      <td>2649.594414</td>\n",
       "    </tr>\n",
       "    <tr>\n",
       "      <th>Dominica</th>\n",
       "      <td>Mexico</td>\n",
       "      <td>2498.025650</td>\n",
       "    </tr>\n",
       "    <tr>\n",
       "      <th>Costa Rica</th>\n",
       "      <td>Canada</td>\n",
       "      <td>2499.865223</td>\n",
       "    </tr>\n",
       "    <tr>\n",
       "      <th>Guatemala</th>\n",
       "      <td>Canada</td>\n",
       "      <td>2295.113257</td>\n",
       "    </tr>\n",
       "    <tr>\n",
       "      <th>Panama</th>\n",
       "      <td>Canada</td>\n",
       "      <td>2527.009335</td>\n",
       "    </tr>\n",
       "    <tr>\n",
       "      <th>El Salvador</th>\n",
       "      <td>Canada</td>\n",
       "      <td>2327.814419</td>\n",
       "    </tr>\n",
       "    <tr>\n",
       "      <th>Mexico</th>\n",
       "      <td>Barbados</td>\n",
       "      <td>2649.594414</td>\n",
       "    </tr>\n",
       "    <tr>\n",
       "      <th>Honduras</th>\n",
       "      <td>Canada</td>\n",
       "      <td>2264.432575</td>\n",
       "    </tr>\n",
       "    <tr>\n",
       "      <th>Aruba</th>\n",
       "      <td>Canada</td>\n",
       "      <td>2295.862288</td>\n",
       "    </tr>\n",
       "    <tr>\n",
       "      <th>Puerto Rico</th>\n",
       "      <td>Mexico</td>\n",
       "      <td>2153.850522</td>\n",
       "    </tr>\n",
       "    <tr>\n",
       "      <th>Canada</th>\n",
       "      <td>Panama</td>\n",
       "      <td>2527.009335</td>\n",
       "    </tr>\n",
       "    <tr>\n",
       "      <th>Cayman Islands</th>\n",
       "      <td>Canada</td>\n",
       "      <td>1832.279943</td>\n",
       "    </tr>\n",
       "    <tr>\n",
       "      <th>Haiti</th>\n",
       "      <td>Canada</td>\n",
       "      <td>1866.189819</td>\n",
       "    </tr>\n",
       "  </tbody>\n",
       "</table>\n",
       "</div>"
      ],
      "text/plain": [
       "                                  furthest     distance\n",
       "Belize                              Canada  2085.591134\n",
       "Jamaica                             Canada  1894.046648\n",
       "Bermuda                             Mexico  2298.396835\n",
       "Saint Vincent and the Grenadines    Mexico  2545.035009\n",
       "Cuba                              Barbados  1641.236050\n",
       "Saint Lucia                         Mexico  2544.237348\n",
       "United States                      Grenada  2075.376717\n",
       "Anguilla                            Mexico  2355.347815\n",
       "Grenada                             Mexico  2530.683480\n",
       "Dominican Republic                  Mexico  1907.930275\n",
       "Nicaragua                           Canada  2380.384387\n",
       "Barbados                            Mexico  2649.594414\n",
       "Dominica                            Mexico  2498.025650\n",
       "Costa Rica                          Canada  2499.865223\n",
       "Guatemala                           Canada  2295.113257\n",
       "Panama                              Canada  2527.009335\n",
       "El Salvador                         Canada  2327.814419\n",
       "Mexico                            Barbados  2649.594414\n",
       "Honduras                            Canada  2264.432575\n",
       "Aruba                               Canada  2295.862288\n",
       "Puerto Rico                         Mexico  2153.850522\n",
       "Canada                              Panama  2527.009335\n",
       "Cayman Islands                      Canada  1832.279943\n",
       "Haiti                               Canada  1866.189819"
      ]
     },
     "execution_count": 30,
     "metadata": {},
     "output_type": "execute_result"
    }
   ],
   "source": [
    "#q18\n",
    "max_distance = na_data.astype(float).max()\n",
    "max_idx = na_data.astype(float).idxmax()\n",
    "furthest = defaultdict(dict)\n",
    "distance = defaultdict(float)\n",
    "for country in na_data:\n",
    "    furthest[country] = max_idx[country]\n",
    "    distance[country] = max_distance[country]\n",
    "DataFrame({\"furthest\": furthest, \"distance\": distance})"
   ]
  },
  {
   "cell_type": "code",
   "execution_count": 31,
   "metadata": {},
   "outputs": [
    {
     "data": {
      "text/html": [
       "<div>\n",
       "<style scoped>\n",
       "    .dataframe tbody tr th:only-of-type {\n",
       "        vertical-align: middle;\n",
       "    }\n",
       "\n",
       "    .dataframe tbody tr th {\n",
       "        vertical-align: top;\n",
       "    }\n",
       "\n",
       "    .dataframe thead th {\n",
       "        text-align: right;\n",
       "    }\n",
       "</style>\n",
       "<table border=\"1\" class=\"dataframe\">\n",
       "  <thead>\n",
       "    <tr style=\"text-align: right;\">\n",
       "      <th></th>\n",
       "      <th>birth-rate</th>\n",
       "      <th>death-rate</th>\n",
       "    </tr>\n",
       "  </thead>\n",
       "  <tbody>\n",
       "    <tr>\n",
       "      <th>count</th>\n",
       "      <td>174.000000</td>\n",
       "      <td>174.000000</td>\n",
       "    </tr>\n",
       "    <tr>\n",
       "      <th>mean</th>\n",
       "      <td>22.463851</td>\n",
       "      <td>9.625172</td>\n",
       "    </tr>\n",
       "    <tr>\n",
       "      <th>std</th>\n",
       "      <td>11.278992</td>\n",
       "      <td>5.187143</td>\n",
       "    </tr>\n",
       "    <tr>\n",
       "      <th>min</th>\n",
       "      <td>8.250000</td>\n",
       "      <td>2.410000</td>\n",
       "    </tr>\n",
       "    <tr>\n",
       "      <th>25%</th>\n",
       "      <td>12.597500</td>\n",
       "      <td>6.027500</td>\n",
       "    </tr>\n",
       "    <tr>\n",
       "      <th>50%</th>\n",
       "      <td>20.010000</td>\n",
       "      <td>8.230000</td>\n",
       "    </tr>\n",
       "    <tr>\n",
       "      <th>75%</th>\n",
       "      <td>29.860000</td>\n",
       "      <td>11.715000</td>\n",
       "    </tr>\n",
       "    <tr>\n",
       "      <th>max</th>\n",
       "      <td>50.730000</td>\n",
       "      <td>29.740000</td>\n",
       "    </tr>\n",
       "  </tbody>\n",
       "</table>\n",
       "</div>"
      ],
      "text/plain": [
       "       birth-rate  death-rate\n",
       "count  174.000000  174.000000\n",
       "mean    22.463851    9.625172\n",
       "std     11.278992    5.187143\n",
       "min      8.250000    2.410000\n",
       "25%     12.597500    6.027500\n",
       "50%     20.010000    8.230000\n",
       "75%     29.860000   11.715000\n",
       "max     50.730000   29.740000"
      ]
     },
     "execution_count": 31,
     "metadata": {},
     "output_type": "execute_result"
    }
   ],
   "source": [
    "#q19\n",
    "death_rate = countries[\"death-rate\"].describe()\n",
    "birth_rate = countries[\"birth-rate\"].describe()\n",
    "DataFrame({\"birth-rate\": birth_rate, \"death-rate\": death_rate})"
   ]
  },
  {
   "cell_type": "code",
   "execution_count": 32,
   "metadata": {},
   "outputs": [
    {
     "data": {
      "text/plain": [
       "'capitals.html already exists!'"
      ]
     },
     "execution_count": 32,
     "metadata": {},
     "output_type": "execute_result"
    }
   ],
   "source": [
    "download('capitals.html', 'https://raw.githubusercontent.com/msyamkumar/cs220-f20-projects/master/p12/techslides-snapshot.html')"
   ]
  },
  {
   "cell_type": "code",
   "execution_count": 33,
   "metadata": {},
   "outputs": [],
   "source": [
    "request = requests.get('https://raw.githubusercontent.com/msyamkumar/cs220-f20-projects/master/p12/techslides-snapshot.html')\n",
    "request.raise_for_status()\n",
    "soup = BeautifulSoup(request.text, \"html.parser\")\n",
    "data_table = soup.find(\"table\")\n",
    "rows = data_table.find_all(\"tr\")\n",
    "data = data_table.find_all(\"tr\")\n",
    "data_dict = []\n",
    "\n",
    "for each in range(len(data)):\n",
    "    country = data[each].find_all(\"td\")[0].get_text()\n",
    "    if country not in country_list:\n",
    "        pass\n",
    "    data_dict.append({})\n",
    "    data_dict[each][\"country\"] = country\n",
    "    data_dict[each][\"capital\"] = data[each].find_all(\"td\")[1].get_text()\n",
    "    data_dict[each][\"latitude\"] = data[each].find_all(\"td\")[2].get_text()\n",
    "    data_dict[each][\"longitude\"] = data[each].find_all(\"td\")[3].get_text()\n",
    "data_dict = data_dict[1:]"
   ]
  },
  {
   "cell_type": "code",
   "execution_count": 34,
   "metadata": {
    "scrolled": false
   },
   "outputs": [],
   "source": [
    "data_list = []\n",
    "for each in data_dict:\n",
    "    if each[\"country\"] in country_list:\n",
    "        data_list.append(each)"
   ]
  },
  {
   "cell_type": "code",
   "execution_count": 35,
   "metadata": {},
   "outputs": [],
   "source": [
    "file = open(\"my_capitals.json\", \"w\")\n",
    "json.dump(data_list, file)\n",
    "file.close()"
   ]
  },
  {
   "cell_type": "code",
   "execution_count": 36,
   "metadata": {},
   "outputs": [
    {
     "data": {
      "text/plain": [
       "'[{\"country\": \"Afghanistan\", \"capital\": \"Kabul\", \"latitude\": \"34.51666667\", \"longitude\": \"69.183333\"}, {\"country\": \"Albania\", \"capital\": \"Tirana\", \"latitude\": \"41.31666667\", \"longitude\": \"19.816667\"}, {\"country\": \"Algeria\", \"capital\": \"Algiers\", \"latitude\": \"36.75\", \"longitude\": \"3.05\"}, {\"country\": \"Anguilla\", \"capital\": \"The Valley\", \"latitude\": \"18.21666667\", \"longitude\": \"-63.05\"}, {\"country\": \"Argentina\", \"capital\": \"Buenos Aires\", \"latitude\": \"-34.58333333\", \"longitude\": \"-58.666667\"}, {\"country\": \"Armenia\", \"capital\": \"Yerevan\", \"latitude\": \"40.16666667\", \"longitude\": \"44.5\"}, {\"country\": \"Aruba\", \"capital\": \"Oranjestad\", \"latitude\": \"12.51666667\", \"longitude\": \"-70.033333\"}, {\"country\": \"Australia\", \"capital\": \"Canberra\", \"latitude\": \"-35.26666667\", \"longitude\": \"149.133333\"}, {\"country\": \"Austria\", \"capital\": \"Vienna\", \"latitude\": \"48.2\", \"longitude\": \"16.366667\"}, {\"country\": \"Azerbaijan\", \"capital\": \"Baku\", \"latitude\": \"40.38333333\", \"longitude\": \"49.866667\"}, {\"country\": \"Bahrain\", \"capital\": \"Manama\", \"latitude\": \"26.23333333\", \"longitude\": \"50.566667\"}, {\"country\": \"Bangladesh\", \"capital\": \"Dhaka\", \"latitude\": \"23.71666667\", \"longitude\": \"90.4\"}, {\"country\": \"Barbados\", \"capital\": \"Bridgetown\", \"latitude\": \"13.1\", \"longitude\": \"-59.616667\"}, {\"country\": \"Belarus\", \"capital\": \"Minsk\", \"latitude\": \"53.9\", \"longitude\": \"27.566667\"}, {\"country\": \"Belgium\", \"capital\": \"Brussels\", \"latitude\": \"50.83333333\", \"longitude\": \"4.333333\"}, {\"country\": \"Belize\", \"capital\": \"Belmopan\", \"latitude\": \"17.25\", \"longitude\": \"-88.766667\"}, {\"country\": \"Benin\", \"capital\": \"Porto-Novo\", \"latitude\": \"6.483333333\", \"longitude\": \"2.616667\"}, {\"country\": \"Bermuda\", \"capital\": \"Hamilton\", \"latitude\": \"32.28333333\", \"longitude\": \"-64.783333\"}, {\"country\": \"Bhutan\", \"capital\": \"Thimphu\", \"latitude\": \"27.46666667\", \"longitude\": \"89.633333\"}, {\"country\": \"Bolivia\", \"capital\": \"La Paz\", \"latitude\": \"-16.5\", \"longitude\": \"-68.15\"}, {\"country\": \"Botswana\", \"capital\": \"Gaborone\", \"latitude\": \"-24.63333333\", \"longitude\": \"25.9\"}, {\"country\": \"Brazil\", \"capital\": \"Brasilia\", \"latitude\": \"-15.78333333\", \"longitude\": \"-47.916667\"}, {\"country\": \"Bulgaria\", \"capital\": \"Sofia\", \"latitude\": \"42.68333333\", \"longitude\": \"23.316667\"}, {\"country\": \"Burkina Faso\", \"capital\": \"Ouagadougou\", \"latitude\": \"12.36666667\", \"longitude\": \"-1.516667\"}, {\"country\": \"Burundi\", \"capital\": \"Bujumbura\", \"latitude\": \"-3.366666667\", \"longitude\": \"29.35\"}, {\"country\": \"Cambodia\", \"capital\": \"Phnom Penh\", \"latitude\": \"11.55\", \"longitude\": \"104.916667\"}, {\"country\": \"Cameroon\", \"capital\": \"Yaounde\", \"latitude\": \"3.866666667\", \"longitude\": \"11.516667\"}, {\"country\": \"Canada\", \"capital\": \"Ottawa\", \"latitude\": \"45.41666667\", \"longitude\": \"-75.7\"}, {\"country\": \"Cape Verde\", \"capital\": \"Praia\", \"latitude\": \"14.91666667\", \"longitude\": \"-23.516667\"}, {\"country\": \"Cayman Islands\", \"capital\": \"George Town\", \"latitude\": \"19.3\", \"longitude\": \"-81.383333\"}, {\"country\": \"Chad\", \"capital\": \"N\\\\u2019Djamena\", \"latitude\": \"12.1\", \"longitude\": \"15.033333\"}, {\"country\": \"Chile\", \"capital\": \"Santiago\", \"latitude\": \"-33.45\", \"longitude\": \"-70.666667\"}, {\"country\": \"China\", \"capital\": \"Beijing\", \"latitude\": \"39.91666667\", \"longitude\": \"116.383333\"}, {\"country\": \"Colombia\", \"capital\": \"Bogota\", \"latitude\": \"4.6\", \"longitude\": \"-74.083333\"}, {\"country\": \"Comoros\", \"capital\": \"Moroni\", \"latitude\": \"-11.7\", \"longitude\": \"43.233333\"}, {\"country\": \"Costa Rica\", \"capital\": \"San Jose\", \"latitude\": \"9.933333333\", \"longitude\": \"-84.083333\"}, {\"country\": \"Croatia\", \"capital\": \"Zagreb\", \"latitude\": \"45.8\", \"longitude\": \"16\"}, {\"country\": \"Cuba\", \"capital\": \"Havana\", \"latitude\": \"23.11666667\", \"longitude\": \"-82.35\"}, {\"country\": \"Czech Republic\", \"capital\": \"Prague\", \"latitude\": \"50.08333333\", \"longitude\": \"14.466667\"}, {\"country\": \"Denmark\", \"capital\": \"Copenhagen\", \"latitude\": \"55.66666667\", \"longitude\": \"12.583333\"}, {\"country\": \"Djibouti\", \"capital\": \"Djibouti\", \"latitude\": \"11.58333333\", \"longitude\": \"43.15\"}, {\"country\": \"Dominica\", \"capital\": \"Roseau\", \"latitude\": \"15.3\", \"longitude\": \"-61.4\"}, {\"country\": \"Dominican Republic\", \"capital\": \"Santo Domingo\", \"latitude\": \"18.46666667\", \"longitude\": \"-69.9\"}, {\"country\": \"Ecuador\", \"capital\": \"Quito\", \"latitude\": \"-0.216666667\", \"longitude\": \"-78.5\"}, {\"country\": \"Egypt\", \"capital\": \"Cairo\", \"latitude\": \"30.05\", \"longitude\": \"31.25\"}, {\"country\": \"El Salvador\", \"capital\": \"San Salvador\", \"latitude\": \"13.7\", \"longitude\": \"-89.2\"}, {\"country\": \"Equatorial Guinea\", \"capital\": \"Malabo\", \"latitude\": \"3.75\", \"longitude\": \"8.783333\"}, {\"country\": \"Eritrea\", \"capital\": \"Asmara\", \"latitude\": \"15.33333333\", \"longitude\": \"38.933333\"}, {\"country\": \"Estonia\", \"capital\": \"Tallinn\", \"latitude\": \"59.43333333\", \"longitude\": \"24.716667\"}, {\"country\": \"Ethiopia\", \"capital\": \"Addis Ababa\", \"latitude\": \"9.033333333\", \"longitude\": \"38.7\"}, {\"country\": \"Fiji\", \"capital\": \"Suva\", \"latitude\": \"-18.13333333\", \"longitude\": \"178.416667\"}, {\"country\": \"Finland\", \"capital\": \"Helsinki\", \"latitude\": \"60.16666667\", \"longitude\": \"24.933333\"}, {\"country\": \"France\", \"capital\": \"Paris\", \"latitude\": \"48.86666667\", \"longitude\": \"2.333333\"}, {\"country\": \"French Polynesia\", \"capital\": \"Papeete\", \"latitude\": \"-17.53333333\", \"longitude\": \"-149.566667\"}, {\"country\": \"Gabon\", \"capital\": \"Libreville\", \"latitude\": \"0.383333333\", \"longitude\": \"9.45\"}, {\"country\": \"Georgia\", \"capital\": \"Tbilisi\", \"latitude\": \"41.68333333\", \"longitude\": \"44.833333\"}, {\"country\": \"Germany\", \"capital\": \"Berlin\", \"latitude\": \"52.51666667\", \"longitude\": \"13.4\"}, {\"country\": \"Ghana\", \"capital\": \"Accra\", \"latitude\": \"5.55\", \"longitude\": \"-0.216667\"}, {\"country\": \"Greece\", \"capital\": \"Athens\", \"latitude\": \"37.98333333\", \"longitude\": \"23.733333\"}, {\"country\": \"Grenada\", \"capital\": \"Saint George\\\\u2019s\", \"latitude\": \"12.05\", \"longitude\": \"-61.75\"}, {\"country\": \"Guam\", \"capital\": \"Hagatna\", \"latitude\": \"13.46666667\", \"longitude\": \"144.733333\"}, {\"country\": \"Guatemala\", \"capital\": \"Guatemala City\", \"latitude\": \"14.61666667\", \"longitude\": \"-90.516667\"}, {\"country\": \"Guinea\", \"capital\": \"Conakry\", \"latitude\": \"9.5\", \"longitude\": \"-13.7\"}, {\"country\": \"Guinea-Bissau\", \"capital\": \"Bissau\", \"latitude\": \"11.85\", \"longitude\": \"-15.583333\"}, {\"country\": \"Guyana\", \"capital\": \"Georgetown\", \"latitude\": \"6.8\", \"longitude\": \"-58.15\"}, {\"country\": \"Haiti\", \"capital\": \"Port-au-Prince\", \"latitude\": \"18.53333333\", \"longitude\": \"-72.333333\"}, {\"country\": \"Honduras\", \"capital\": \"Tegucigalpa\", \"latitude\": \"14.1\", \"longitude\": \"-87.216667\"}, {\"country\": \"Hungary\", \"capital\": \"Budapest\", \"latitude\": \"47.5\", \"longitude\": \"19.083333\"}, {\"country\": \"Iceland\", \"capital\": \"Reykjavik\", \"latitude\": \"64.15\", \"longitude\": \"-21.95\"}, {\"country\": \"India\", \"capital\": \"New Delhi\", \"latitude\": \"28.6\", \"longitude\": \"77.2\"}, {\"country\": \"Indonesia\", \"capital\": \"Jakarta\", \"latitude\": \"-6.166666667\", \"longitude\": \"106.816667\"}, {\"country\": \"Iran\", \"capital\": \"Tehran\", \"latitude\": \"35.7\", \"longitude\": \"51.416667\"}, {\"country\": \"Iraq\", \"capital\": \"Baghdad\", \"latitude\": \"33.33333333\", \"longitude\": \"44.4\"}, {\"country\": \"Ireland\", \"capital\": \"Dublin\", \"latitude\": \"53.31666667\", \"longitude\": \"-6.233333\"}, {\"country\": \"Israel\", \"capital\": \"Jerusalem\", \"latitude\": \"31.76666667\", \"longitude\": \"35.233333\"}, {\"country\": \"Italy\", \"capital\": \"Rome\", \"latitude\": \"41.9\", \"longitude\": \"12.483333\"}, {\"country\": \"Jamaica\", \"capital\": \"Kingston\", \"latitude\": \"18\", \"longitude\": \"-76.8\"}, {\"country\": \"Japan\", \"capital\": \"Tokyo\", \"latitude\": \"35.68333333\", \"longitude\": \"139.75\"}, {\"country\": \"Jordan\", \"capital\": \"Amman\", \"latitude\": \"31.95\", \"longitude\": \"35.933333\"}, {\"country\": \"Kazakhstan\", \"capital\": \"Astana\", \"latitude\": \"51.16666667\", \"longitude\": \"71.416667\"}, {\"country\": \"Kenya\", \"capital\": \"Nairobi\", \"latitude\": \"-1.283333333\", \"longitude\": \"36.816667\"}, {\"country\": \"Kuwait\", \"capital\": \"Kuwait City\", \"latitude\": \"29.36666667\", \"longitude\": \"47.966667\"}, {\"country\": \"Kyrgyzstan\", \"capital\": \"Bishkek\", \"latitude\": \"42.86666667\", \"longitude\": \"74.6\"}, {\"country\": \"Laos\", \"capital\": \"Vientiane\", \"latitude\": \"17.96666667\", \"longitude\": \"102.6\"}, {\"country\": \"Latvia\", \"capital\": \"Riga\", \"latitude\": \"56.95\", \"longitude\": \"24.1\"}, {\"country\": \"Lebanon\", \"capital\": \"Beirut\", \"latitude\": \"33.86666667\", \"longitude\": \"35.5\"}, {\"country\": \"Lesotho\", \"capital\": \"Maseru\", \"latitude\": \"-29.31666667\", \"longitude\": \"27.483333\"}, {\"country\": \"Liberia\", \"capital\": \"Monrovia\", \"latitude\": \"6.3\", \"longitude\": \"-10.8\"}, {\"country\": \"Libya\", \"capital\": \"Tripoli\", \"latitude\": \"32.88333333\", \"longitude\": \"13.166667\"}, {\"country\": \"Liechtenstein\", \"capital\": \"Vaduz\", \"latitude\": \"47.13333333\", \"longitude\": \"9.516667\"}, {\"country\": \"Lithuania\", \"capital\": \"Vilnius\", \"latitude\": \"54.68333333\", \"longitude\": \"25.316667\"}, {\"country\": \"Luxembourg\", \"capital\": \"Luxembourg\", \"latitude\": \"49.6\", \"longitude\": \"6.116667\"}, {\"country\": \"Madagascar\", \"capital\": \"Antananarivo\", \"latitude\": \"-18.91666667\", \"longitude\": \"47.516667\"}, {\"country\": \"Malawi\", \"capital\": \"Lilongwe\", \"latitude\": \"-13.96666667\", \"longitude\": \"33.783333\"}, {\"country\": \"Malaysia\", \"capital\": \"Kuala Lumpur\", \"latitude\": \"3.166666667\", \"longitude\": \"101.7\"}, {\"country\": \"Maldives\", \"capital\": \"Male\", \"latitude\": \"4.166666667\", \"longitude\": \"73.5\"}, {\"country\": \"Mali\", \"capital\": \"Bamako\", \"latitude\": \"12.65\", \"longitude\": \"-8\"}, {\"country\": \"Malta\", \"capital\": \"Valletta\", \"latitude\": \"35.88333333\", \"longitude\": \"14.5\"}, {\"country\": \"Marshall Islands\", \"capital\": \"Majuro\", \"latitude\": \"7.1\", \"longitude\": \"171.383333\"}, {\"country\": \"Mauritania\", \"capital\": \"Nouakchott\", \"latitude\": \"18.06666667\", \"longitude\": \"-15.966667\"}, {\"country\": \"Mauritius\", \"capital\": \"Port Louis\", \"latitude\": \"-20.15\", \"longitude\": \"57.483333\"}, {\"country\": \"Mexico\", \"capital\": \"Mexico City\", \"latitude\": \"19.43333333\", \"longitude\": \"-99.133333\"}, {\"country\": \"Moldova\", \"capital\": \"Chisinau\", \"latitude\": \"47\", \"longitude\": \"28.85\"}, {\"country\": \"Monaco\", \"capital\": \"Monaco\", \"latitude\": \"43.73333333\", \"longitude\": \"7.416667\"}, {\"country\": \"Mongolia\", \"capital\": \"Ulaanbaatar\", \"latitude\": \"47.91666667\", \"longitude\": \"106.916667\"}, {\"country\": \"Morocco\", \"capital\": \"Rabat\", \"latitude\": \"34.01666667\", \"longitude\": \"-6.816667\"}, {\"country\": \"Mozambique\", \"capital\": \"Maputo\", \"latitude\": \"-25.95\", \"longitude\": \"32.583333\"}, {\"country\": \"Namibia\", \"capital\": \"Windhoek\", \"latitude\": \"-22.56666667\", \"longitude\": \"17.083333\"}, {\"country\": \"Nepal\", \"capital\": \"Kathmandu\", \"latitude\": \"27.71666667\", \"longitude\": \"85.316667\"}, {\"country\": \"Netherlands\", \"capital\": \"Amsterdam\", \"latitude\": \"52.35\", \"longitude\": \"4.916667\"}, {\"country\": \"New Caledonia\", \"capital\": \"Noumea\", \"latitude\": \"-22.26666667\", \"longitude\": \"166.45\"}, {\"country\": \"New Zealand\", \"capital\": \"Wellington\", \"latitude\": \"-41.3\", \"longitude\": \"174.783333\"}, {\"country\": \"Nicaragua\", \"capital\": \"Managua\", \"latitude\": \"12.13333333\", \"longitude\": \"-86.25\"}, {\"country\": \"Niger\", \"capital\": \"Niamey\", \"latitude\": \"13.51666667\", \"longitude\": \"2.116667\"}, {\"country\": \"Nigeria\", \"capital\": \"Abuja\", \"latitude\": \"9.083333333\", \"longitude\": \"7.533333\"}, {\"country\": \"Norway\", \"capital\": \"Oslo\", \"latitude\": \"59.91666667\", \"longitude\": \"10.75\"}, {\"country\": \"Oman\", \"capital\": \"Muscat\", \"latitude\": \"23.61666667\", \"longitude\": \"58.583333\"}, {\"country\": \"Pakistan\", \"capital\": \"Islamabad\", \"latitude\": \"33.68333333\", \"longitude\": \"73.05\"}, {\"country\": \"Palau\", \"capital\": \"Melekeok\", \"latitude\": \"7.483333333\", \"longitude\": \"134.633333\"}, {\"country\": \"Panama\", \"capital\": \"Panama City\", \"latitude\": \"8.966666667\", \"longitude\": \"-79.533333\"}, {\"country\": \"Papua New Guinea\", \"capital\": \"Port Moresby\", \"latitude\": \"-9.45\", \"longitude\": \"147.183333\"}, {\"country\": \"Paraguay\", \"capital\": \"Asuncion\", \"latitude\": \"-25.26666667\", \"longitude\": \"-57.666667\"}, {\"country\": \"Peru\", \"capital\": \"Lima\", \"latitude\": \"-12.05\", \"longitude\": \"-77.05\"}, {\"country\": \"Philippines\", \"capital\": \"Manila\", \"latitude\": \"14.6\", \"longitude\": \"120.966667\"}, {\"country\": \"Poland\", \"capital\": \"Warsaw\", \"latitude\": \"52.25\", \"longitude\": \"21\"}, {\"country\": \"Portugal\", \"capital\": \"Lisbon\", \"latitude\": \"38.71666667\", \"longitude\": \"-9.133333\"}, {\"country\": \"Puerto Rico\", \"capital\": \"San Juan\", \"latitude\": \"18.46666667\", \"longitude\": \"-66.116667\"}, {\"country\": \"Qatar\", \"capital\": \"Doha\", \"latitude\": \"25.28333333\", \"longitude\": \"51.533333\"}, {\"country\": \"Romania\", \"capital\": \"Bucharest\", \"latitude\": \"44.43333333\", \"longitude\": \"26.1\"}, {\"country\": \"Russia\", \"capital\": \"Moscow\", \"latitude\": \"55.75\", \"longitude\": \"37.6\"}, {\"country\": \"Rwanda\", \"capital\": \"Kigali\", \"latitude\": \"-1.95\", \"longitude\": \"30.05\"}, {\"country\": \"Saint Helena\", \"capital\": \"Jamestown\", \"latitude\": \"-15.93333333\", \"longitude\": \"-5.716667\"}, {\"country\": \"Saint Lucia\", \"capital\": \"Castries\", \"latitude\": \"14\", \"longitude\": \"-61\"}, {\"country\": \"Saint Vincent and the Grenadines\", \"capital\": \"Kingstown\", \"latitude\": \"13.13333333\", \"longitude\": \"-61.216667\"}, {\"country\": \"Samoa\", \"capital\": \"Apia\", \"latitude\": \"-13.81666667\", \"longitude\": \"-171.766667\"}, {\"country\": \"San Marino\", \"capital\": \"San Marino\", \"latitude\": \"43.93333333\", \"longitude\": \"12.416667\"}, {\"country\": \"Saudi Arabia\", \"capital\": \"Riyadh\", \"latitude\": \"24.65\", \"longitude\": \"46.7\"}, {\"country\": \"Senegal\", \"capital\": \"Dakar\", \"latitude\": \"14.73333333\", \"longitude\": \"-17.633333\"}, {\"country\": \"Seychelles\", \"capital\": \"Victoria\", \"latitude\": \"-4.616666667\", \"longitude\": \"55.45\"}, {\"country\": \"Sierra Leone\", \"capital\": \"Freetown\", \"latitude\": \"8.483333333\", \"longitude\": \"-13.233333\"}, {\"country\": \"Singapore\", \"capital\": \"Singapore\", \"latitude\": \"1.283333333\", \"longitude\": \"103.85\"}, {\"country\": \"Slovenia\", \"capital\": \"Ljubljana\", \"latitude\": \"46.05\", \"longitude\": \"14.516667\"}, {\"country\": \"Somalia\", \"capital\": \"Mogadishu\", \"latitude\": \"2.066666667\", \"longitude\": \"45.333333\"}, {\"country\": \"South Africa\", \"capital\": \"Pretoria\", \"latitude\": \"-25.7\", \"longitude\": \"28.216667\"}, {\"country\": \"Spain\", \"capital\": \"Madrid\", \"latitude\": \"40.4\", \"longitude\": \"-3.683333\"}, {\"country\": \"Sri Lanka\", \"capital\": \"Colombo\", \"latitude\": \"6.916666667\", \"longitude\": \"79.833333\"}, {\"country\": \"Sudan\", \"capital\": \"Khartoum\", \"latitude\": \"15.6\", \"longitude\": \"32.533333\"}, {\"country\": \"Suriname\", \"capital\": \"Paramaribo\", \"latitude\": \"5.833333333\", \"longitude\": \"-55.166667\"}, {\"country\": \"Swaziland\", \"capital\": \"Mbabane\", \"latitude\": \"-26.31666667\", \"longitude\": \"31.133333\"}, {\"country\": \"Sweden\", \"capital\": \"Stockholm\", \"latitude\": \"59.33333333\", \"longitude\": \"18.05\"}, {\"country\": \"Switzerland\", \"capital\": \"Bern\", \"latitude\": \"46.91666667\", \"longitude\": \"7.466667\"}, {\"country\": \"Syria\", \"capital\": \"Damascus\", \"latitude\": \"33.5\", \"longitude\": \"36.3\"}, {\"country\": \"Taiwan\", \"capital\": \"Taipei\", \"latitude\": \"25.03333333\", \"longitude\": \"121.516667\"}, {\"country\": \"Tajikistan\", \"capital\": \"Dushanbe\", \"latitude\": \"38.55\", \"longitude\": \"68.766667\"}, {\"country\": \"Tanzania\", \"capital\": \"Dar es Salaam\", \"latitude\": \"-6.8\", \"longitude\": \"39.283333\"}, {\"country\": \"Thailand\", \"capital\": \"Bangkok\", \"latitude\": \"13.75\", \"longitude\": \"100.516667\"}, {\"country\": \"Togo\", \"capital\": \"Lome\", \"latitude\": \"6.116666667\", \"longitude\": \"1.216667\"}, {\"country\": \"Tonga\", \"capital\": \"Nuku\\\\u2019alofa\", \"latitude\": \"-21.13333333\", \"longitude\": \"-175.2\"}, {\"country\": \"Tunisia\", \"capital\": \"Tunis\", \"latitude\": \"36.8\", \"longitude\": \"10.183333\"}, {\"country\": \"Turkey\", \"capital\": \"Ankara\", \"latitude\": \"39.93333333\", \"longitude\": \"32.866667\"}, {\"country\": \"Turkmenistan\", \"capital\": \"Ashgabat\", \"latitude\": \"37.95\", \"longitude\": \"58.383333\"}, {\"country\": \"Uganda\", \"capital\": \"Kampala\", \"latitude\": \"0.316666667\", \"longitude\": \"32.55\"}, {\"country\": \"Ukraine\", \"capital\": \"Kyiv\", \"latitude\": \"50.43333333\", \"longitude\": \"30.516667\"}, {\"country\": \"United Arab Emirates\", \"capital\": \"Abu Dhabi\", \"latitude\": \"24.46666667\", \"longitude\": \"54.366667\"}, {\"country\": \"United Kingdom\", \"capital\": \"London\", \"latitude\": \"51.5\", \"longitude\": \"-0.083333\"}, {\"country\": \"United States\", \"capital\": \"Washington, D.C.\", \"latitude\": \"38.883333\", \"longitude\": \"-77\"}, {\"country\": \"Uruguay\", \"capital\": \"Montevideo\", \"latitude\": \"-34.85\", \"longitude\": \"-56.166667\"}, {\"country\": \"Uzbekistan\", \"capital\": \"Tashkent\", \"latitude\": \"41.31666667\", \"longitude\": \"69.25\"}, {\"country\": \"Vanuatu\", \"capital\": \"Port-Vila\", \"latitude\": \"-17.73333333\", \"longitude\": \"168.316667\"}, {\"country\": \"Venezuela\", \"capital\": \"Caracas\", \"latitude\": \"10.48333333\", \"longitude\": \"-66.866667\"}, {\"country\": \"Vietnam\", \"capital\": \"Hanoi\", \"latitude\": \"21.03333333\", \"longitude\": \"105.85\"}, {\"country\": \"Yemen\", \"capital\": \"Sanaa\", \"latitude\": \"15.35\", \"longitude\": \"44.2\"}, {\"country\": \"Zambia\", \"capital\": \"Lusaka\", \"latitude\": \"-15.41666667\", \"longitude\": \"28.283333\"}, {\"country\": \"Zimbabwe\", \"capital\": \"Harare\", \"latitude\": \"-17.81666667\", \"longitude\": \"31.033333\"}]'"
      ]
     },
     "execution_count": 36,
     "metadata": {},
     "output_type": "execute_result"
    }
   ],
   "source": [
    "#q20\n",
    "open(\"my_capitals.json\", \"r\").read()"
   ]
  },
  {
   "cell_type": "code",
   "execution_count": 52,
   "metadata": {},
   "outputs": [
    {
     "data": {
      "text/plain": [
       "<a href=\"http://techslides.com/category/uncategorized\" title=\"View all posts filed under Uncategorized\">Uncategorized</a>"
      ]
     },
     "execution_count": 52,
     "metadata": {},
     "output_type": "execute_result"
    }
   ],
   "source": [
    "soup.find_all(\"a\")[-1]"
   ]
  },
  {
   "cell_type": "code",
   "execution_count": 55,
   "metadata": {},
   "outputs": [],
   "source": [
    "df = {\"HW1\": {\"Sheldon\": 6, \"Penny\": 7, \"Leonard\": 9, \"Howard\": 8}, \"HW2\": {\"Sheldon\": 6, \"Penny\": 7, \"Leonard\": 9, \"Howard\": 8}, \"Final\": {\"Sheldon\": 6, \"Penny\": \"NaN\", \"Leonard\": 9, \"Howard\": 8}}"
   ]
  },
  {
   "cell_type": "code",
   "execution_count": 58,
   "metadata": {},
   "outputs": [
    {
     "data": {
      "text/html": [
       "<div>\n",
       "<style scoped>\n",
       "    .dataframe tbody tr th:only-of-type {\n",
       "        vertical-align: middle;\n",
       "    }\n",
       "\n",
       "    .dataframe tbody tr th {\n",
       "        vertical-align: top;\n",
       "    }\n",
       "\n",
       "    .dataframe thead th {\n",
       "        text-align: right;\n",
       "    }\n",
       "</style>\n",
       "<table border=\"1\" class=\"dataframe\">\n",
       "  <thead>\n",
       "    <tr style=\"text-align: right;\">\n",
       "      <th></th>\n",
       "      <th>HW1</th>\n",
       "      <th>HW2</th>\n",
       "      <th>Final</th>\n",
       "    </tr>\n",
       "  </thead>\n",
       "  <tbody>\n",
       "    <tr>\n",
       "      <th>Sheldon</th>\n",
       "      <td>6</td>\n",
       "      <td>6</td>\n",
       "      <td>6</td>\n",
       "    </tr>\n",
       "    <tr>\n",
       "      <th>Penny</th>\n",
       "      <td>7</td>\n",
       "      <td>7</td>\n",
       "      <td>NaN</td>\n",
       "    </tr>\n",
       "    <tr>\n",
       "      <th>Leonard</th>\n",
       "      <td>9</td>\n",
       "      <td>9</td>\n",
       "      <td>9</td>\n",
       "    </tr>\n",
       "    <tr>\n",
       "      <th>Howard</th>\n",
       "      <td>8</td>\n",
       "      <td>8</td>\n",
       "      <td>8</td>\n",
       "    </tr>\n",
       "  </tbody>\n",
       "</table>\n",
       "</div>"
      ],
      "text/plain": [
       "         HW1  HW2 Final\n",
       "Sheldon    6    6     6\n",
       "Penny      7    7   NaN\n",
       "Leonard    9    9     9\n",
       "Howard     8    8     8"
      ]
     },
     "execution_count": 58,
     "metadata": {},
     "output_type": "execute_result"
    }
   ],
   "source": [
    "df = DataFrame(df)\n",
    "df"
   ]
  },
  {
   "cell_type": "code",
   "execution_count": 65,
   "metadata": {},
   "outputs": [
    {
     "data": {
      "text/html": [
       "<div>\n",
       "<style scoped>\n",
       "    .dataframe tbody tr th:only-of-type {\n",
       "        vertical-align: middle;\n",
       "    }\n",
       "\n",
       "    .dataframe tbody tr th {\n",
       "        vertical-align: top;\n",
       "    }\n",
       "\n",
       "    .dataframe thead th {\n",
       "        text-align: right;\n",
       "    }\n",
       "</style>\n",
       "<table border=\"1\" class=\"dataframe\">\n",
       "  <thead>\n",
       "    <tr style=\"text-align: right;\">\n",
       "      <th></th>\n",
       "      <th>HW1</th>\n",
       "      <th>HW2</th>\n",
       "      <th>Final</th>\n",
       "    </tr>\n",
       "  </thead>\n",
       "  <tbody>\n",
       "    <tr>\n",
       "      <th>Sheldon</th>\n",
       "      <td>6</td>\n",
       "      <td>6</td>\n",
       "      <td>6</td>\n",
       "    </tr>\n",
       "    <tr>\n",
       "      <th>Leonard</th>\n",
       "      <td>9</td>\n",
       "      <td>9</td>\n",
       "      <td>9</td>\n",
       "    </tr>\n",
       "  </tbody>\n",
       "</table>\n",
       "</div>"
      ],
      "text/plain": [
       "         HW1  HW2 Final\n",
       "Sheldon    6    6     6\n",
       "Leonard    9    9     9"
      ]
     },
     "execution_count": 65,
     "metadata": {},
     "output_type": "execute_result"
    }
   ],
   "source": [
    "df.loc[[\"Sheldon\", \"Leonard\"]]"
   ]
  },
  {
   "cell_type": "code",
   "execution_count": 66,
   "metadata": {},
   "outputs": [
    {
     "name": "stdout",
     "output_type": "stream",
     "text": [
      "         HW1  HW2 Final\n",
      "Leonard    9    9     9\n",
      "<class 'pandas.core.frame.DataFrame'>\n",
      "HW1      9\n",
      "HW2      9\n",
      "Final    9\n",
      "Name: Leonard, dtype: object\n",
      "<class 'pandas.core.series.Series'>\n"
     ]
    }
   ],
   "source": [
    "x = 2\n",
    "print(df.iloc[[x]])\n",
    "print(type(df.iloc[[x]]))\n",
    "print(df.iloc[x])\n",
    "print(type(df.iloc[x]))"
   ]
  },
  {
   "cell_type": "code",
   "execution_count": 68,
   "metadata": {},
   "outputs": [],
   "source": [
    "campus_id = {\n",
    "    1510121: \"Yifan\",\n",
    "    2010333: \"Pikachu\",\n",
    "    2194790: \"Jay\",\n",
    "    4328132: \"Sehun\",\n",
    "    4187523: \"Oliver\"\n",
    "}"
   ]
  },
  {
   "cell_type": "code",
   "execution_count": 69,
   "metadata": {},
   "outputs": [
    {
     "name": "stdout",
     "output_type": "stream",
     "text": [
      "<class 'dict'> <class 'NoneType'> <class 'int'> <class 'str'>\n"
     ]
    }
   ],
   "source": [
    "print(type(campus_id), type(campus_id.get(\"Jay\")), type(campus_id.get(\"1510121\", 0)), type(campus_id.get(2194790)))\n"
   ]
  },
  {
   "cell_type": "code",
   "execution_count": 77,
   "metadata": {},
   "outputs": [],
   "source": [
    "df = pd.DataFrame({\n",
    "    \"fruit\": [\"apple\", \"apple\", \"pear\", \"pear\", \"orange\"],\n",
    "    \"color\": [\"red\", \"green\", \"red\", \"green\", \"orange\"],\n",
    "    \"count\": [50, 25, 8, 10, 20]\n",
    "})"
   ]
  },
  {
   "cell_type": "code",
   "execution_count": 78,
   "metadata": {},
   "outputs": [
    {
     "data": {
      "text/html": [
       "<div>\n",
       "<style scoped>\n",
       "    .dataframe tbody tr th:only-of-type {\n",
       "        vertical-align: middle;\n",
       "    }\n",
       "\n",
       "    .dataframe tbody tr th {\n",
       "        vertical-align: top;\n",
       "    }\n",
       "\n",
       "    .dataframe thead th {\n",
       "        text-align: right;\n",
       "    }\n",
       "</style>\n",
       "<table border=\"1\" class=\"dataframe\">\n",
       "  <thead>\n",
       "    <tr style=\"text-align: right;\">\n",
       "      <th></th>\n",
       "      <th>fruit</th>\n",
       "      <th>color</th>\n",
       "      <th>count</th>\n",
       "    </tr>\n",
       "  </thead>\n",
       "  <tbody>\n",
       "    <tr>\n",
       "      <th>0</th>\n",
       "      <td>apple</td>\n",
       "      <td>red</td>\n",
       "      <td>50</td>\n",
       "    </tr>\n",
       "    <tr>\n",
       "      <th>1</th>\n",
       "      <td>apple</td>\n",
       "      <td>green</td>\n",
       "      <td>25</td>\n",
       "    </tr>\n",
       "    <tr>\n",
       "      <th>2</th>\n",
       "      <td>pear</td>\n",
       "      <td>red</td>\n",
       "      <td>8</td>\n",
       "    </tr>\n",
       "    <tr>\n",
       "      <th>3</th>\n",
       "      <td>pear</td>\n",
       "      <td>green</td>\n",
       "      <td>10</td>\n",
       "    </tr>\n",
       "    <tr>\n",
       "      <th>4</th>\n",
       "      <td>orange</td>\n",
       "      <td>orange</td>\n",
       "      <td>20</td>\n",
       "    </tr>\n",
       "  </tbody>\n",
       "</table>\n",
       "</div>"
      ],
      "text/plain": [
       "    fruit   color  count\n",
       "0   apple     red     50\n",
       "1   apple   green     25\n",
       "2    pear     red      8\n",
       "3    pear   green     10\n",
       "4  orange  orange     20"
      ]
     },
     "execution_count": 78,
     "metadata": {},
     "output_type": "execute_result"
    }
   ],
   "source": [
    "df"
   ]
  },
  {
   "cell_type": "code",
   "execution_count": 73,
   "metadata": {},
   "outputs": [
    {
     "name": "stderr",
     "output_type": "stream",
     "text": [
      "<ipython-input-73-0c68db2b281b>:1: DeprecationWarning: The default dtype for empty Series will be 'object' instead of 'float64' in a future version. Specify a dtype explicitly to silence this warning.\n",
      "  s_fruit_count = Series()\n"
     ]
    },
    {
     "data": {
      "text/plain": [
       "Text(0, 0.5, 'count')"
      ]
     },
     "execution_count": 73,
     "metadata": {},
     "output_type": "execute_result"
    },
    {
     "data": {
      "image/png": "[encoded data removed]",
      "text/plain": [
       "<Figure size 432x288 with 1 Axes>"
      ]
     },
     "metadata": {
      "needs_background": "light"
     },
     "output_type": "display_data"
    }
   ],
   "source": [
    "s_fruit_count = Series()\n",
    "s_fruit_count[\"apple\"]=df[df[\"fruit\"] == \"apple\"][\"count\"].sum()\n",
    "s_fruit_count[\"orange\"]=df[df[\"fruit\"]==\"orange\"][\"count\"].sum()\n",
    "s_fruit_count[\"pear\"]=df[df[\"fruit\"]==\"pear\"][\"count\"].sum()\n",
    "ax =s_fruit_count.plot.bar()\n",
    "ax.set_xlabel(\"fruit\")\n",
    "ax.set_ylabel(\"count\")"
   ]
  },
  {
   "cell_type": "code",
   "execution_count": 79,
   "metadata": {},
   "outputs": [
    {
     "name": "stderr",
     "output_type": "stream",
     "text": [
      "<ipython-input-79-42cf642ac1c4>:1: DeprecationWarning: The default dtype for empty Series will be 'object' instead of 'float64' in a future version. Specify a dtype explicitly to silence this warning.\n",
      "  s_fruit_count = Series()\n"
     ]
    },
    {
     "ename": "TypeError",
     "evalue": "no numeric data to plot",
     "output_type": "error",
     "traceback": [
      "\u001b[0;31m---------------------------------------------------------------------------\u001b[0m",
      "\u001b[0;31mTypeError\u001b[0m                                 Traceback (most recent call last)",
      "\u001b[0;32m<ipython-input-79-42cf642ac1c4>\u001b[0m in \u001b[0;36m<module>\u001b[0;34m\u001b[0m\n\u001b[1;32m      3\u001b[0m \u001b[0ms_fruit_count\u001b[0m\u001b[0;34m[\u001b[0m\u001b[0;34m\"orange\"\u001b[0m\u001b[0;34m]\u001b[0m \u001b[0;34m=\u001b[0m \u001b[0mdf\u001b[0m\u001b[0;34m[\u001b[0m\u001b[0mdf\u001b[0m\u001b[0;34m[\u001b[0m\u001b[0;34m\"count\"\u001b[0m\u001b[0;34m]\u001b[0m \u001b[0;34m==\u001b[0m \u001b[0;36m20\u001b[0m\u001b[0;34m]\u001b[0m\u001b[0;34m[\u001b[0m\u001b[0;34m\"fruit\"\u001b[0m\u001b[0;34m]\u001b[0m\u001b[0;34m\u001b[0m\u001b[0;34m\u001b[0m\u001b[0m\n\u001b[1;32m      4\u001b[0m \u001b[0ms_fruit_count\u001b[0m\u001b[0;34m[\u001b[0m\u001b[0;34m\"pear\"\u001b[0m\u001b[0;34m]\u001b[0m \u001b[0;34m=\u001b[0m \u001b[0mdf\u001b[0m\u001b[0;34m[\u001b[0m\u001b[0mdf\u001b[0m\u001b[0;34m[\u001b[0m\u001b[0;34m\"count\"\u001b[0m\u001b[0;34m]\u001b[0m\u001b[0;34m==\u001b[0m \u001b[0;36m18\u001b[0m\u001b[0;34m]\u001b[0m\u001b[0;34m[\u001b[0m\u001b[0;34m\"fruit\"\u001b[0m\u001b[0;34m]\u001b[0m\u001b[0;34m\u001b[0m\u001b[0;34m\u001b[0m\u001b[0m\n\u001b[0;32m----> 5\u001b[0;31m \u001b[0max\u001b[0m \u001b[0;34m=\u001b[0m \u001b[0ms_fruit_count\u001b[0m\u001b[0;34m.\u001b[0m\u001b[0mplot\u001b[0m\u001b[0;34m.\u001b[0m\u001b[0mbar\u001b[0m\u001b[0;34m(\u001b[0m\u001b[0;34m)\u001b[0m\u001b[0;34m\u001b[0m\u001b[0;34m\u001b[0m\u001b[0m\n\u001b[0m\u001b[1;32m      6\u001b[0m \u001b[0max\u001b[0m\u001b[0;34m.\u001b[0m\u001b[0mset_xlabel\u001b[0m\u001b[0;34m(\u001b[0m\u001b[0;34m\"fruit\"\u001b[0m\u001b[0;34m)\u001b[0m\u001b[0;34m\u001b[0m\u001b[0;34m\u001b[0m\u001b[0m\n\u001b[1;32m      7\u001b[0m \u001b[0max\u001b[0m\u001b[0;34m.\u001b[0m\u001b[0mset_ylabel\u001b[0m\u001b[0;34m(\u001b[0m\u001b[0;34m\"count\"\u001b[0m\u001b[0;34m)\u001b[0m\u001b[0;34m\u001b[0m\u001b[0;34m\u001b[0m\u001b[0m\n",
      "\u001b[0;32m/Library/Frameworks/Python.framework/Versions/3.8/lib/python3.8/site-packages/pandas/plotting/_core.py\u001b[0m in \u001b[0;36mbar\u001b[0;34m(self, x, y, **kwargs)\u001b[0m\n\u001b[1;32m   1105\u001b[0m         \u001b[0mother\u001b[0m \u001b[0maxis\u001b[0m \u001b[0mrepresents\u001b[0m \u001b[0ma\u001b[0m \u001b[0mmeasured\u001b[0m \u001b[0mvalue\u001b[0m\u001b[0;34m.\u001b[0m\u001b[0;34m\u001b[0m\u001b[0;34m\u001b[0m\u001b[0m\n\u001b[1;32m   1106\u001b[0m         \"\"\"\n\u001b[0;32m-> 1107\u001b[0;31m         \u001b[0;32mreturn\u001b[0m \u001b[0mself\u001b[0m\u001b[0;34m(\u001b[0m\u001b[0mkind\u001b[0m\u001b[0;34m=\u001b[0m\u001b[0;34m\"bar\"\u001b[0m\u001b[0;34m,\u001b[0m \u001b[0mx\u001b[0m\u001b[0;34m=\u001b[0m\u001b[0mx\u001b[0m\u001b[0;34m,\u001b[0m \u001b[0my\u001b[0m\u001b[0;34m=\u001b[0m\u001b[0my\u001b[0m\u001b[0;34m,\u001b[0m \u001b[0;34m**\u001b[0m\u001b[0mkwargs\u001b[0m\u001b[0;34m)\u001b[0m\u001b[0;34m\u001b[0m\u001b[0;34m\u001b[0m\u001b[0m\n\u001b[0m\u001b[1;32m   1108\u001b[0m \u001b[0;34m\u001b[0m\u001b[0m\n\u001b[1;32m   1109\u001b[0m     @Appender(\n",
      "\u001b[0;32m/Library/Frameworks/Python.framework/Versions/3.8/lib/python3.8/site-packages/pandas/plotting/_core.py\u001b[0m in \u001b[0;36m__call__\u001b[0;34m(self, *args, **kwargs)\u001b[0m\n\u001b[1;32m    947\u001b[0m                     \u001b[0mdata\u001b[0m\u001b[0;34m.\u001b[0m\u001b[0mcolumns\u001b[0m \u001b[0;34m=\u001b[0m \u001b[0mlabel_name\u001b[0m\u001b[0;34m\u001b[0m\u001b[0;34m\u001b[0m\u001b[0m\n\u001b[1;32m    948\u001b[0m \u001b[0;34m\u001b[0m\u001b[0m\n\u001b[0;32m--> 949\u001b[0;31m         \u001b[0;32mreturn\u001b[0m \u001b[0mplot_backend\u001b[0m\u001b[0;34m.\u001b[0m\u001b[0mplot\u001b[0m\u001b[0;34m(\u001b[0m\u001b[0mdata\u001b[0m\u001b[0;34m,\u001b[0m \u001b[0mkind\u001b[0m\u001b[0;34m=\u001b[0m\u001b[0mkind\u001b[0m\u001b[0;34m,\u001b[0m \u001b[0;34m**\u001b[0m\u001b[0mkwargs\u001b[0m\u001b[0;34m)\u001b[0m\u001b[0;34m\u001b[0m\u001b[0;34m\u001b[0m\u001b[0m\n\u001b[0m\u001b[1;32m    950\u001b[0m \u001b[0;34m\u001b[0m\u001b[0m\n\u001b[1;32m    951\u001b[0m     \u001b[0m__call__\u001b[0m\u001b[0;34m.\u001b[0m\u001b[0m__doc__\u001b[0m \u001b[0;34m=\u001b[0m \u001b[0m__doc__\u001b[0m\u001b[0;34m\u001b[0m\u001b[0;34m\u001b[0m\u001b[0m\n",
      "\u001b[0;32m/Library/Frameworks/Python.framework/Versions/3.8/lib/python3.8/site-packages/pandas/plotting/_matplotlib/__init__.py\u001b[0m in \u001b[0;36mplot\u001b[0;34m(data, kind, **kwargs)\u001b[0m\n\u001b[1;32m     59\u001b[0m             \u001b[0mkwargs\u001b[0m\u001b[0;34m[\u001b[0m\u001b[0;34m\"ax\"\u001b[0m\u001b[0;34m]\u001b[0m \u001b[0;34m=\u001b[0m \u001b[0mgetattr\u001b[0m\u001b[0;34m(\u001b[0m\u001b[0max\u001b[0m\u001b[0;34m,\u001b[0m \u001b[0;34m\"left_ax\"\u001b[0m\u001b[0;34m,\u001b[0m \u001b[0max\u001b[0m\u001b[0;34m)\u001b[0m\u001b[0;34m\u001b[0m\u001b[0;34m\u001b[0m\u001b[0m\n\u001b[1;32m     60\u001b[0m     \u001b[0mplot_obj\u001b[0m \u001b[0;34m=\u001b[0m \u001b[0mPLOT_CLASSES\u001b[0m\u001b[0;34m[\u001b[0m\u001b[0mkind\u001b[0m\u001b[0;34m]\u001b[0m\u001b[0;34m(\u001b[0m\u001b[0mdata\u001b[0m\u001b[0;34m,\u001b[0m \u001b[0;34m**\u001b[0m\u001b[0mkwargs\u001b[0m\u001b[0;34m)\u001b[0m\u001b[0;34m\u001b[0m\u001b[0;34m\u001b[0m\u001b[0m\n\u001b[0;32m---> 61\u001b[0;31m     \u001b[0mplot_obj\u001b[0m\u001b[0;34m.\u001b[0m\u001b[0mgenerate\u001b[0m\u001b[0;34m(\u001b[0m\u001b[0;34m)\u001b[0m\u001b[0;34m\u001b[0m\u001b[0;34m\u001b[0m\u001b[0m\n\u001b[0m\u001b[1;32m     62\u001b[0m     \u001b[0mplot_obj\u001b[0m\u001b[0;34m.\u001b[0m\u001b[0mdraw\u001b[0m\u001b[0;34m(\u001b[0m\u001b[0;34m)\u001b[0m\u001b[0;34m\u001b[0m\u001b[0;34m\u001b[0m\u001b[0m\n\u001b[1;32m     63\u001b[0m     \u001b[0;32mreturn\u001b[0m \u001b[0mplot_obj\u001b[0m\u001b[0;34m.\u001b[0m\u001b[0mresult\u001b[0m\u001b[0;34m\u001b[0m\u001b[0;34m\u001b[0m\u001b[0m\n",
      "\u001b[0;32m/Library/Frameworks/Python.framework/Versions/3.8/lib/python3.8/site-packages/pandas/plotting/_matplotlib/core.py\u001b[0m in \u001b[0;36mgenerate\u001b[0;34m(self)\u001b[0m\n\u001b[1;32m    267\u001b[0m     \u001b[0;32mdef\u001b[0m \u001b[0mgenerate\u001b[0m\u001b[0;34m(\u001b[0m\u001b[0mself\u001b[0m\u001b[0;34m)\u001b[0m\u001b[0;34m:\u001b[0m\u001b[0;34m\u001b[0m\u001b[0;34m\u001b[0m\u001b[0m\n\u001b[1;32m    268\u001b[0m         \u001b[0mself\u001b[0m\u001b[0;34m.\u001b[0m\u001b[0m_args_adjust\u001b[0m\u001b[0;34m(\u001b[0m\u001b[0;34m)\u001b[0m\u001b[0;34m\u001b[0m\u001b[0;34m\u001b[0m\u001b[0m\n\u001b[0;32m--> 269\u001b[0;31m         \u001b[0mself\u001b[0m\u001b[0;34m.\u001b[0m\u001b[0m_compute_plot_data\u001b[0m\u001b[0;34m(\u001b[0m\u001b[0;34m)\u001b[0m\u001b[0;34m\u001b[0m\u001b[0;34m\u001b[0m\u001b[0m\n\u001b[0m\u001b[1;32m    270\u001b[0m         \u001b[0mself\u001b[0m\u001b[0;34m.\u001b[0m\u001b[0m_setup_subplots\u001b[0m\u001b[0;34m(\u001b[0m\u001b[0;34m)\u001b[0m\u001b[0;34m\u001b[0m\u001b[0;34m\u001b[0m\u001b[0m\n\u001b[1;32m    271\u001b[0m         \u001b[0mself\u001b[0m\u001b[0;34m.\u001b[0m\u001b[0m_make_plot\u001b[0m\u001b[0;34m(\u001b[0m\u001b[0;34m)\u001b[0m\u001b[0;34m\u001b[0m\u001b[0;34m\u001b[0m\u001b[0m\n",
      "\u001b[0;32m/Library/Frameworks/Python.framework/Versions/3.8/lib/python3.8/site-packages/pandas/plotting/_matplotlib/core.py\u001b[0m in \u001b[0;36m_compute_plot_data\u001b[0;34m(self)\u001b[0m\n\u001b[1;32m    416\u001b[0m         \u001b[0;31m# no non-numeric frames or series allowed\u001b[0m\u001b[0;34m\u001b[0m\u001b[0;34m\u001b[0m\u001b[0;34m\u001b[0m\u001b[0m\n\u001b[1;32m    417\u001b[0m         \u001b[0;32mif\u001b[0m \u001b[0mis_empty\u001b[0m\u001b[0;34m:\u001b[0m\u001b[0;34m\u001b[0m\u001b[0;34m\u001b[0m\u001b[0m\n\u001b[0;32m--> 418\u001b[0;31m             \u001b[0;32mraise\u001b[0m \u001b[0mTypeError\u001b[0m\u001b[0;34m(\u001b[0m\u001b[0;34m\"no numeric data to plot\"\u001b[0m\u001b[0;34m)\u001b[0m\u001b[0;34m\u001b[0m\u001b[0;34m\u001b[0m\u001b[0m\n\u001b[0m\u001b[1;32m    419\u001b[0m \u001b[0;34m\u001b[0m\u001b[0m\n\u001b[1;32m    420\u001b[0m         \u001b[0;31m# GH25587: cast ExtensionArray of pandas (IntegerArray, etc.) to\u001b[0m\u001b[0;34m\u001b[0m\u001b[0;34m\u001b[0m\u001b[0;34m\u001b[0m\u001b[0m\n",
      "\u001b[0;31mTypeError\u001b[0m: no numeric data to plot"
     ]
    }
   ],
   "source": [
    "\n",
    "s_fruit_count = Series()\n",
    "s_fruit_count[\"apple\"] = df[df[\"count\"] == 75][\"fruit\"]\n",
    "s_fruit_count[\"orange\"] = df[df[\"count\"] == 20][\"fruit\"]\n",
    "s_fruit_count[\"pear\"] = df[df[\"count\"]== 18][\"fruit\"]\n",
    "ax = s_fruit_count.plot.bar()\n",
    "ax.set_xlabel(\"fruit\")\n",
    "ax.set_ylabel(\"count\")"
   ]
  },
  {
   "cell_type": "code",
   "execution_count": 81,
   "metadata": {},
   "outputs": [
    {
     "data": {
      "text/plain": [
       "Text(17.200000000000003, 0.5, 'count')"
      ]
     },
     "execution_count": 81,
     "metadata": {},
     "output_type": "execute_result"
    },
    {
     "data": {
      "image/png": "[encoded data removed]",
      "text/plain": [
       "<Figure size 432x288 with 1 Axes>"
      ]
     },
     "metadata": {
      "needs_background": "light"
     },
     "output_type": "display_data"
    }
   ],
   "source": [
    "\n",
    "df.set_index(\"fruit\")[\"count\"].sort_index()[:3].plot.bar()\n",
    "ax.set_xlabel(\"fruit\")\n",
    "ax.set_ylabel(\"count\")"
   ]
  },
  {
   "cell_type": "code",
   "execution_count": 82,
   "metadata": {},
   "outputs": [
    {
     "ename": "TypeError",
     "evalue": "no numeric data to plot",
     "output_type": "error",
     "traceback": [
      "\u001b[0;31m---------------------------------------------------------------------------\u001b[0m",
      "\u001b[0;31mTypeError\u001b[0m                                 Traceback (most recent call last)",
      "\u001b[0;32m<ipython-input-82-87a0f638403e>\u001b[0m in \u001b[0;36m<module>\u001b[0;34m\u001b[0m\n\u001b[0;32m----> 1\u001b[0;31m \u001b[0max\u001b[0m \u001b[0;34m=\u001b[0m \u001b[0mdf\u001b[0m\u001b[0;34m.\u001b[0m\u001b[0mset_index\u001b[0m\u001b[0;34m(\u001b[0m\u001b[0;34m\"fruit\"\u001b[0m\u001b[0;34m)\u001b[0m\u001b[0;34m.\u001b[0m\u001b[0msum\u001b[0m\u001b[0;34m(\u001b[0m\u001b[0;34m)\u001b[0m\u001b[0;34m.\u001b[0m\u001b[0mplot\u001b[0m\u001b[0;34m.\u001b[0m\u001b[0mbar\u001b[0m\u001b[0;34m(\u001b[0m\u001b[0;34m)\u001b[0m\u001b[0;34m\u001b[0m\u001b[0;34m\u001b[0m\u001b[0m\n\u001b[0m\u001b[1;32m      2\u001b[0m \u001b[0max\u001b[0m\u001b[0;34m.\u001b[0m\u001b[0mset_xlabel\u001b[0m\u001b[0;34m(\u001b[0m\u001b[0;34m\"fruit\"\u001b[0m\u001b[0;34m)\u001b[0m\u001b[0;34m\u001b[0m\u001b[0;34m\u001b[0m\u001b[0m\n\u001b[1;32m      3\u001b[0m \u001b[0max\u001b[0m\u001b[0;34m.\u001b[0m\u001b[0mset_ylabel\u001b[0m\u001b[0;34m(\u001b[0m\u001b[0;34m\"count\"\u001b[0m\u001b[0;34m)\u001b[0m\u001b[0;34m\u001b[0m\u001b[0;34m\u001b[0m\u001b[0m\n",
      "\u001b[0;32m/Library/Frameworks/Python.framework/Versions/3.8/lib/python3.8/site-packages/pandas/plotting/_core.py\u001b[0m in \u001b[0;36mbar\u001b[0;34m(self, x, y, **kwargs)\u001b[0m\n\u001b[1;32m   1105\u001b[0m         \u001b[0mother\u001b[0m \u001b[0maxis\u001b[0m \u001b[0mrepresents\u001b[0m \u001b[0ma\u001b[0m \u001b[0mmeasured\u001b[0m \u001b[0mvalue\u001b[0m\u001b[0;34m.\u001b[0m\u001b[0;34m\u001b[0m\u001b[0;34m\u001b[0m\u001b[0m\n\u001b[1;32m   1106\u001b[0m         \"\"\"\n\u001b[0;32m-> 1107\u001b[0;31m         \u001b[0;32mreturn\u001b[0m \u001b[0mself\u001b[0m\u001b[0;34m(\u001b[0m\u001b[0mkind\u001b[0m\u001b[0;34m=\u001b[0m\u001b[0;34m\"bar\"\u001b[0m\u001b[0;34m,\u001b[0m \u001b[0mx\u001b[0m\u001b[0;34m=\u001b[0m\u001b[0mx\u001b[0m\u001b[0;34m,\u001b[0m \u001b[0my\u001b[0m\u001b[0;34m=\u001b[0m\u001b[0my\u001b[0m\u001b[0;34m,\u001b[0m \u001b[0;34m**\u001b[0m\u001b[0mkwargs\u001b[0m\u001b[0;34m)\u001b[0m\u001b[0;34m\u001b[0m\u001b[0;34m\u001b[0m\u001b[0m\n\u001b[0m\u001b[1;32m   1108\u001b[0m \u001b[0;34m\u001b[0m\u001b[0m\n\u001b[1;32m   1109\u001b[0m     @Appender(\n",
      "\u001b[0;32m/Library/Frameworks/Python.framework/Versions/3.8/lib/python3.8/site-packages/pandas/plotting/_core.py\u001b[0m in \u001b[0;36m__call__\u001b[0;34m(self, *args, **kwargs)\u001b[0m\n\u001b[1;32m    947\u001b[0m                     \u001b[0mdata\u001b[0m\u001b[0;34m.\u001b[0m\u001b[0mcolumns\u001b[0m \u001b[0;34m=\u001b[0m \u001b[0mlabel_name\u001b[0m\u001b[0;34m\u001b[0m\u001b[0;34m\u001b[0m\u001b[0m\n\u001b[1;32m    948\u001b[0m \u001b[0;34m\u001b[0m\u001b[0m\n\u001b[0;32m--> 949\u001b[0;31m         \u001b[0;32mreturn\u001b[0m \u001b[0mplot_backend\u001b[0m\u001b[0;34m.\u001b[0m\u001b[0mplot\u001b[0m\u001b[0;34m(\u001b[0m\u001b[0mdata\u001b[0m\u001b[0;34m,\u001b[0m \u001b[0mkind\u001b[0m\u001b[0;34m=\u001b[0m\u001b[0mkind\u001b[0m\u001b[0;34m,\u001b[0m \u001b[0;34m**\u001b[0m\u001b[0mkwargs\u001b[0m\u001b[0;34m)\u001b[0m\u001b[0;34m\u001b[0m\u001b[0;34m\u001b[0m\u001b[0m\n\u001b[0m\u001b[1;32m    950\u001b[0m \u001b[0;34m\u001b[0m\u001b[0m\n\u001b[1;32m    951\u001b[0m     \u001b[0m__call__\u001b[0m\u001b[0;34m.\u001b[0m\u001b[0m__doc__\u001b[0m \u001b[0;34m=\u001b[0m \u001b[0m__doc__\u001b[0m\u001b[0;34m\u001b[0m\u001b[0;34m\u001b[0m\u001b[0m\n",
      "\u001b[0;32m/Library/Frameworks/Python.framework/Versions/3.8/lib/python3.8/site-packages/pandas/plotting/_matplotlib/__init__.py\u001b[0m in \u001b[0;36mplot\u001b[0;34m(data, kind, **kwargs)\u001b[0m\n\u001b[1;32m     59\u001b[0m             \u001b[0mkwargs\u001b[0m\u001b[0;34m[\u001b[0m\u001b[0;34m\"ax\"\u001b[0m\u001b[0;34m]\u001b[0m \u001b[0;34m=\u001b[0m \u001b[0mgetattr\u001b[0m\u001b[0;34m(\u001b[0m\u001b[0max\u001b[0m\u001b[0;34m,\u001b[0m \u001b[0;34m\"left_ax\"\u001b[0m\u001b[0;34m,\u001b[0m \u001b[0max\u001b[0m\u001b[0;34m)\u001b[0m\u001b[0;34m\u001b[0m\u001b[0;34m\u001b[0m\u001b[0m\n\u001b[1;32m     60\u001b[0m     \u001b[0mplot_obj\u001b[0m \u001b[0;34m=\u001b[0m \u001b[0mPLOT_CLASSES\u001b[0m\u001b[0;34m[\u001b[0m\u001b[0mkind\u001b[0m\u001b[0;34m]\u001b[0m\u001b[0;34m(\u001b[0m\u001b[0mdata\u001b[0m\u001b[0;34m,\u001b[0m \u001b[0;34m**\u001b[0m\u001b[0mkwargs\u001b[0m\u001b[0;34m)\u001b[0m\u001b[0;34m\u001b[0m\u001b[0;34m\u001b[0m\u001b[0m\n\u001b[0;32m---> 61\u001b[0;31m     \u001b[0mplot_obj\u001b[0m\u001b[0;34m.\u001b[0m\u001b[0mgenerate\u001b[0m\u001b[0;34m(\u001b[0m\u001b[0;34m)\u001b[0m\u001b[0;34m\u001b[0m\u001b[0;34m\u001b[0m\u001b[0m\n\u001b[0m\u001b[1;32m     62\u001b[0m     \u001b[0mplot_obj\u001b[0m\u001b[0;34m.\u001b[0m\u001b[0mdraw\u001b[0m\u001b[0;34m(\u001b[0m\u001b[0;34m)\u001b[0m\u001b[0;34m\u001b[0m\u001b[0;34m\u001b[0m\u001b[0m\n\u001b[1;32m     63\u001b[0m     \u001b[0;32mreturn\u001b[0m \u001b[0mplot_obj\u001b[0m\u001b[0;34m.\u001b[0m\u001b[0mresult\u001b[0m\u001b[0;34m\u001b[0m\u001b[0;34m\u001b[0m\u001b[0m\n",
      "\u001b[0;32m/Library/Frameworks/Python.framework/Versions/3.8/lib/python3.8/site-packages/pandas/plotting/_matplotlib/core.py\u001b[0m in \u001b[0;36mgenerate\u001b[0;34m(self)\u001b[0m\n\u001b[1;32m    267\u001b[0m     \u001b[0;32mdef\u001b[0m \u001b[0mgenerate\u001b[0m\u001b[0;34m(\u001b[0m\u001b[0mself\u001b[0m\u001b[0;34m)\u001b[0m\u001b[0;34m:\u001b[0m\u001b[0;34m\u001b[0m\u001b[0;34m\u001b[0m\u001b[0m\n\u001b[1;32m    268\u001b[0m         \u001b[0mself\u001b[0m\u001b[0;34m.\u001b[0m\u001b[0m_args_adjust\u001b[0m\u001b[0;34m(\u001b[0m\u001b[0;34m)\u001b[0m\u001b[0;34m\u001b[0m\u001b[0;34m\u001b[0m\u001b[0m\n\u001b[0;32m--> 269\u001b[0;31m         \u001b[0mself\u001b[0m\u001b[0;34m.\u001b[0m\u001b[0m_compute_plot_data\u001b[0m\u001b[0;34m(\u001b[0m\u001b[0;34m)\u001b[0m\u001b[0;34m\u001b[0m\u001b[0;34m\u001b[0m\u001b[0m\n\u001b[0m\u001b[1;32m    270\u001b[0m         \u001b[0mself\u001b[0m\u001b[0;34m.\u001b[0m\u001b[0m_setup_subplots\u001b[0m\u001b[0;34m(\u001b[0m\u001b[0;34m)\u001b[0m\u001b[0;34m\u001b[0m\u001b[0;34m\u001b[0m\u001b[0m\n\u001b[1;32m    271\u001b[0m         \u001b[0mself\u001b[0m\u001b[0;34m.\u001b[0m\u001b[0m_make_plot\u001b[0m\u001b[0;34m(\u001b[0m\u001b[0;34m)\u001b[0m\u001b[0;34m\u001b[0m\u001b[0;34m\u001b[0m\u001b[0m\n",
      "\u001b[0;32m/Library/Frameworks/Python.framework/Versions/3.8/lib/python3.8/site-packages/pandas/plotting/_matplotlib/core.py\u001b[0m in \u001b[0;36m_compute_plot_data\u001b[0;34m(self)\u001b[0m\n\u001b[1;32m    416\u001b[0m         \u001b[0;31m# no non-numeric frames or series allowed\u001b[0m\u001b[0;34m\u001b[0m\u001b[0;34m\u001b[0m\u001b[0;34m\u001b[0m\u001b[0m\n\u001b[1;32m    417\u001b[0m         \u001b[0;32mif\u001b[0m \u001b[0mis_empty\u001b[0m\u001b[0;34m:\u001b[0m\u001b[0;34m\u001b[0m\u001b[0;34m\u001b[0m\u001b[0m\n\u001b[0;32m--> 418\u001b[0;31m             \u001b[0;32mraise\u001b[0m \u001b[0mTypeError\u001b[0m\u001b[0;34m(\u001b[0m\u001b[0;34m\"no numeric data to plot\"\u001b[0m\u001b[0;34m)\u001b[0m\u001b[0;34m\u001b[0m\u001b[0;34m\u001b[0m\u001b[0m\n\u001b[0m\u001b[1;32m    419\u001b[0m \u001b[0;34m\u001b[0m\u001b[0m\n\u001b[1;32m    420\u001b[0m         \u001b[0;31m# GH25587: cast ExtensionArray of pandas (IntegerArray, etc.) to\u001b[0m\u001b[0;34m\u001b[0m\u001b[0;34m\u001b[0m\u001b[0;34m\u001b[0m\u001b[0m\n",
      "\u001b[0;31mTypeError\u001b[0m: no numeric data to plot"
     ]
    }
   ],
   "source": [
    "\n",
    "ax = df.set_index(\"fruit\").sum().plot.bar()\n",
    "ax.set_xlabel(\"fruit\")\n",
    "ax.set_ylabel(\"count\")"
   ]
  },
  {
   "cell_type": "code",
   "execution_count": 85,
   "metadata": {},
   "outputs": [
    {
     "data": {
      "text/plain": [
       "<AxesSubplot:xlabel='y', ylabel='x'>"
      ]
     },
     "execution_count": 85,
     "metadata": {},
     "output_type": "execute_result"
    },
    {
     "data": {
      "image/png": "[encoded data removed]",
      "text/plain": [
       "<Figure size 432x288 with 1 Axes>"
      ]
     },
     "metadata": {
      "needs_background": "light"
     },
     "output_type": "display_data"
    }
   ],
   "source": [
    "data = []\n",
    "for i in range(3):\n",
    "    data.append({\"y\": i+1, \"x\": i+2})\n",
    "DataFrame(data).plot.scatter(x='y', y='x')"
   ]
  },
  {
   "cell_type": "code",
   "execution_count": 86,
   "metadata": {},
   "outputs": [],
   "source": [
    "s = Series([\"red\", \"red\", \"red\",\n",
    "            \"green\", \"blue\", \"blue\"])\n",
    "\n",
    "vc = s.value_counts()"
   ]
  },
  {
   "cell_type": "code",
   "execution_count": 87,
   "metadata": {},
   "outputs": [
    {
     "data": {
      "text/plain": [
       "<AxesSubplot:>"
      ]
     },
     "execution_count": 87,
     "metadata": {},
     "output_type": "execute_result"
    },
    {
     "data": {
      "image/png": "[encoded data removed]",
      "text/plain": [
       "<Figure size 432x288 with 1 Axes>"
      ]
     },
     "metadata": {
      "needs_background": "light"
     },
     "output_type": "display_data"
    }
   ],
   "source": [
    "vc.sort_index().plot.bar()"
   ]
  },
  {
   "cell_type": "code",
   "execution_count": 89,
   "metadata": {},
   "outputs": [
    {
     "data": {
      "text/plain": [
       "<AxesSubplot:>"
      ]
     },
     "execution_count": 89,
     "metadata": {},
     "output_type": "execute_result"
    },
    {
     "data": {
      "image/png": "[encoded data removed]",
      "text/plain": [
       "<Figure size 432x288 with 1 Axes>"
      ]
     },
     "metadata": {
      "needs_background": "light"
     },
     "output_type": "display_data"
    }
   ],
   "source": [
    "vc.sort_values().plot.bar()"
   ]
  },
  {
   "cell_type": "code",
   "execution_count": 97,
   "metadata": {},
   "outputs": [],
   "source": [
    "def draw(x=0, y=0, move=\"X\"):\n",
    "    i = 1\n",
    "    while(i < 6):\n",
    "        if i%2 == 0:\n",
    "            print(\"-+-+-\", end=\"\")\n",
    "        else:\n",
    "            j = 0\n",
    "            while j < 5:\n",
    "                if j % 2 != 0:\n",
    "                    print(\"|\", end=\"\")\n",
    "                elif i == 2*x + 1 and j == 2*y:\n",
    "                    print(move, end=\"\")\n",
    "                else:\n",
    "                    print(\" \", end=\"\")\n",
    "                j += 1\n",
    "        print()\n",
    "        i += 1"
   ]
  },
  {
   "cell_type": "code",
   "execution_count": 98,
   "metadata": {},
   "outputs": [
    {
     "name": "stdout",
     "output_type": "stream",
     "text": [
      " |X| \n",
      "-+-+-\n",
      " | | \n",
      "-+-+-\n",
      " | | \n"
     ]
    }
   ],
   "source": [
    "draw(0,1)"
   ]
  },
  {
   "cell_type": "code",
   "execution_count": 99,
   "metadata": {},
   "outputs": [
    {
     "name": "stdout",
     "output_type": "stream",
     "text": [
      " | | \n",
      "-+-+-\n",
      " | |x\n",
      "-+-+-\n",
      " | | \n"
     ]
    }
   ],
   "source": [
    "draw(1,2,\"x\")"
   ]
  },
  {
   "cell_type": "code",
   "execution_count": 100,
   "metadata": {},
   "outputs": [
    {
     "name": "stdout",
     "output_type": "stream",
     "text": [
      " | | \n",
      "-+-+-\n",
      " | | \n",
      "-+-+-\n",
      " | | \n"
     ]
    }
   ],
   "source": [
    "draw(-1,-1,\"O\")"
   ]
  },
  {
   "cell_type": "code",
   "execution_count": null,
   "metadata": {},
   "outputs": [],
   "source": []
  }
 ],
 "metadata": {
  "kernelspec": {
   "display_name": "Python 3",
   "language": "python",
   "name": "python3"
  },
  "language_info": {
   "codemirror_mode": {
    "name": "ipython",
    "version": 3
   },
   "file_extension": ".py",
   "mimetype": "text/x-python",
   "name": "python",
   "nbconvert_exporter": "python",
   "pygments_lexer": "ipython3",
   "version": "3.8.5"
  }
 },
 "nbformat": 4,
 "nbformat_minor": 4
}
