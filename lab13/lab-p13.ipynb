{
 "cells": [
  {
   "cell_type": "code",
   "execution_count": 13,
   "metadata": {},
   "outputs": [],
   "source": [
    "import random\n",
    "from pandas import DataFrame\n",
    "import matplotlib\n",
    "%matplotlib inline\n",
    "import numpy as np"
   ]
  },
  {
   "cell_type": "code",
   "execution_count": 5,
   "metadata": {},
   "outputs": [],
   "source": [
    "matplotlib.rcParams[\"font.size\"] = 15"
   ]
  },
  {
   "cell_type": "code",
   "execution_count": 9,
   "metadata": {},
   "outputs": [
    {
     "data": {
      "text/html": [
       "<div>\n",
       "<style scoped>\n",
       "    .dataframe tbody tr th:only-of-type {\n",
       "        vertical-align: middle;\n",
       "    }\n",
       "\n",
       "    .dataframe tbody tr th {\n",
       "        vertical-align: top;\n",
       "    }\n",
       "\n",
       "    .dataframe thead th {\n",
       "        text-align: right;\n",
       "    }\n",
       "</style>\n",
       "<table border=\"1\" class=\"dataframe\">\n",
       "  <thead>\n",
       "    <tr style=\"text-align: right;\">\n",
       "      <th></th>\n",
       "      <th>age</th>\n",
       "      <th>height</th>\n",
       "    </tr>\n",
       "  </thead>\n",
       "  <tbody>\n",
       "    <tr>\n",
       "      <th>0</th>\n",
       "      <td>5.614137</td>\n",
       "      <td>12.516422</td>\n",
       "    </tr>\n",
       "    <tr>\n",
       "      <th>1</th>\n",
       "      <td>5.376791</td>\n",
       "      <td>12.714733</td>\n",
       "    </tr>\n",
       "    <tr>\n",
       "      <th>2</th>\n",
       "      <td>5.481214</td>\n",
       "      <td>12.166286</td>\n",
       "    </tr>\n",
       "    <tr>\n",
       "      <th>3</th>\n",
       "      <td>8.797448</td>\n",
       "      <td>20.005054</td>\n",
       "    </tr>\n",
       "    <tr>\n",
       "      <th>4</th>\n",
       "      <td>1.707992</td>\n",
       "      <td>4.704271</td>\n",
       "    </tr>\n",
       "  </tbody>\n",
       "</table>\n",
       "</div>"
      ],
      "text/plain": [
       "        age     height\n",
       "0  5.614137  12.516422\n",
       "1  5.376791  12.714733\n",
       "2  5.481214  12.166286\n",
       "3  8.797448  20.005054\n",
       "4  1.707992   4.704271"
      ]
     },
     "execution_count": 9,
     "metadata": {},
     "output_type": "execute_result"
    }
   ],
   "source": [
    "ages = []\n",
    "heights = []\n",
    "for i in range(100):\n",
    "    age = random.uniform(1, 10)\n",
    "    noise = random.uniform(-1.5, 1.5)\n",
    "    height = age * 2.3 + noise\n",
    "    ages.append(age)\n",
    "    heights.append(height)\n",
    "\n",
    "trees = DataFrame({\"age\":ages, \"height\":heights})\n",
    "trees.head()"
   ]
  },
  {
   "cell_type": "code",
   "execution_count": 10,
   "metadata": {},
   "outputs": [
    {
     "data": {
      "text/plain": [
       "Text(0, 0.5, 'Height (feet)')"
      ]
     },
     "execution_count": 10,
     "metadata": {},
     "output_type": "execute_result"
    },
    {
     "data": {
      "image/png": "[encoded data removed]",
      "text/plain": [
       "<Figure size 432x288 with 1 Axes>"
      ]
     },
     "metadata": {
      "needs_background": "light"
     },
     "output_type": "display_data"
    }
   ],
   "source": [
    "ax = trees.plot.scatter(x=\"age\", y=\"height\", c=\"k\", xlim=0, ylim=0)\n",
    "ax.set_xlabel(\"Age (years)\")\n",
    "ax.set_ylabel(\"Height (feet)\")"
   ]
  },
  {
   "cell_type": "code",
   "execution_count": 11,
   "metadata": {},
   "outputs": [
    {
     "data": {
      "text/html": [
       "<div>\n",
       "<style scoped>\n",
       "    .dataframe tbody tr th:only-of-type {\n",
       "        vertical-align: middle;\n",
       "    }\n",
       "\n",
       "    .dataframe tbody tr th {\n",
       "        vertical-align: top;\n",
       "    }\n",
       "\n",
       "    .dataframe thead th {\n",
       "        text-align: right;\n",
       "    }\n",
       "</style>\n",
       "<table border=\"1\" class=\"dataframe\">\n",
       "  <thead>\n",
       "    <tr style=\"text-align: right;\">\n",
       "      <th></th>\n",
       "      <th>age</th>\n",
       "      <th>height</th>\n",
       "      <th>height-fitted</th>\n",
       "    </tr>\n",
       "  </thead>\n",
       "  <tbody>\n",
       "    <tr>\n",
       "      <th>0</th>\n",
       "      <td>5.614137</td>\n",
       "      <td>12.516422</td>\n",
       "      <td>11.228274</td>\n",
       "    </tr>\n",
       "    <tr>\n",
       "      <th>1</th>\n",
       "      <td>5.376791</td>\n",
       "      <td>12.714733</td>\n",
       "      <td>10.753583</td>\n",
       "    </tr>\n",
       "    <tr>\n",
       "      <th>2</th>\n",
       "      <td>5.481214</td>\n",
       "      <td>12.166286</td>\n",
       "      <td>10.962429</td>\n",
       "    </tr>\n",
       "    <tr>\n",
       "      <th>3</th>\n",
       "      <td>8.797448</td>\n",
       "      <td>20.005054</td>\n",
       "      <td>17.594896</td>\n",
       "    </tr>\n",
       "    <tr>\n",
       "      <th>4</th>\n",
       "      <td>1.707992</td>\n",
       "      <td>4.704271</td>\n",
       "      <td>3.415984</td>\n",
       "    </tr>\n",
       "  </tbody>\n",
       "</table>\n",
       "</div>"
      ],
      "text/plain": [
       "        age     height  height-fitted\n",
       "0  5.614137  12.516422      11.228274\n",
       "1  5.376791  12.714733      10.753583\n",
       "2  5.481214  12.166286      10.962429\n",
       "3  8.797448  20.005054      17.594896\n",
       "4  1.707992   4.704271       3.415984"
      ]
     },
     "execution_count": 11,
     "metadata": {},
     "output_type": "execute_result"
    }
   ],
   "source": [
    "trees[\"height-fitted\"] = trees[\"age\"] * 2\n",
    "trees.head()"
   ]
  },
  {
   "cell_type": "code",
   "execution_count": 12,
   "metadata": {},
   "outputs": [
    {
     "data": {
      "text/plain": [
       "<AxesSubplot:xlabel='age', ylabel='Height (feet)'>"
      ]
     },
     "execution_count": 12,
     "metadata": {},
     "output_type": "execute_result"
    },
    {
     "data": {
      "image/png": "[encoded data removed]",
      "text/plain": [
       "<Figure size 432x288 with 1 Axes>"
      ]
     },
     "metadata": {
      "needs_background": "light"
     },
     "output_type": "display_data"
    }
   ],
   "source": [
    "matplotlib.rcParams[\"font.size\"] = 16\n",
    "\n",
    "ax = trees.plot.scatter(x=\"age\", y=\"height\", c=\"k\", xlim=0, ylim=0)\n",
    "ax.set_xlabel(\"Age (years)\")\n",
    "ax.set_ylabel(\"Height (feet)\")\n",
    "\n",
    "trees.plot.line(ax=ax, x=\"age\", y=\"height-fitted\", color=\"red\")"
   ]
  },
  {
   "cell_type": "code",
   "execution_count": 14,
   "metadata": {},
   "outputs": [
    {
     "data": {
      "text/plain": [
       "array([1, 2, 3, 4, 5, 6, 7, 8])"
      ]
     },
     "execution_count": 14,
     "metadata": {},
     "output_type": "execute_result"
    }
   ],
   "source": [
    "np.array([1,2,3,4,5,6,7,8])"
   ]
  },
  {
   "cell_type": "code",
   "execution_count": 15,
   "metadata": {},
   "outputs": [
    {
     "data": {
      "text/plain": [
       "array([[1, 2, 3, 4],\n",
       "       [5, 6, 7, 8]])"
      ]
     },
     "execution_count": 15,
     "metadata": {},
     "output_type": "execute_result"
    }
   ],
   "source": [
    "matrix = np.array([1,2,3,4,5,6,7,8]).reshape(2, 4)\n",
    "matrix"
   ]
  },
  {
   "cell_type": "code",
   "execution_count": 16,
   "metadata": {},
   "outputs": [
    {
     "data": {
      "text/plain": [
       "array([[1, 2],\n",
       "       [3, 4],\n",
       "       [5, 6],\n",
       "       [7, 8]])"
      ]
     },
     "execution_count": 16,
     "metadata": {},
     "output_type": "execute_result"
    }
   ],
   "source": [
    "matrix = np.array([1,2,3,4,5,6,7,8]).reshape(4, 2)\n",
    "matrix"
   ]
  },
  {
   "cell_type": "code",
   "execution_count": 17,
   "metadata": {},
   "outputs": [
    {
     "data": {
      "text/plain": [
       "7"
      ]
     },
     "execution_count": 17,
     "metadata": {},
     "output_type": "execute_result"
    }
   ],
   "source": [
    "matrix[3][0]"
   ]
  },
  {
   "cell_type": "code",
   "execution_count": 18,
   "metadata": {},
   "outputs": [
    {
     "data": {
      "text/plain": [
       "6"
      ]
     },
     "execution_count": 18,
     "metadata": {},
     "output_type": "execute_result"
    }
   ],
   "source": [
    "matrix[2][1]"
   ]
  },
  {
   "cell_type": "code",
   "execution_count": 19,
   "metadata": {},
   "outputs": [
    {
     "data": {
      "text/plain": [
       "array([[ 5.61413714, 12.51642235, 11.22827429],\n",
       "       [ 5.37679145, 12.71473296, 10.7535829 ],\n",
       "       [ 5.48121447, 12.16628626, 10.96242893],\n",
       "       [ 8.79744802, 20.00505405, 17.59489604],\n",
       "       [ 1.70799195,  4.70427099,  3.4159839 ],\n",
       "       [ 5.88942599, 12.81392421, 11.77885198],\n",
       "       [ 9.14613972, 21.16114091, 18.29227944],\n",
       "       [ 6.78419434, 15.90790379, 13.56838868],\n",
       "       [ 6.60031933, 14.67260839, 13.20063866],\n",
       "       [ 2.57367371,  7.16334056,  5.14734741],\n",
       "       [ 8.49574531, 20.74362646, 16.99149062],\n",
       "       [ 1.53958343,  3.96060771,  3.07916687],\n",
       "       [ 3.88038525,  9.49785198,  7.7607705 ],\n",
       "       [ 7.84939599, 18.01250437, 15.69879198],\n",
       "       [ 5.96472589, 12.28520695, 11.92945177],\n",
       "       [ 8.08612056, 18.01002634, 16.17224112],\n",
       "       [ 2.82176657,  5.1263852 ,  5.64353314],\n",
       "       [ 2.73341827,  6.31007204,  5.46683654],\n",
       "       [ 7.35904923, 17.75768946, 14.71809847],\n",
       "       [ 9.76762328, 22.91464169, 19.53524656],\n",
       "       [ 8.03411715, 19.29599451, 16.0682343 ],\n",
       "       [ 7.95722448, 18.208242  , 15.91444896],\n",
       "       [ 8.95221138, 21.49628195, 17.90442276],\n",
       "       [ 1.08619991,  1.46519861,  2.17239982],\n",
       "       [ 9.72039342, 21.01151352, 19.44078684],\n",
       "       [ 3.41826548,  8.95525948,  6.83653097],\n",
       "       [ 2.89617773,  6.87166855,  5.79235546],\n",
       "       [ 1.81296238,  4.68864993,  3.62592477],\n",
       "       [ 1.46284148,  4.41334707,  2.92568297],\n",
       "       [ 4.93684564, 10.5063369 ,  9.87369129],\n",
       "       [ 3.77332901,  8.23891958,  7.54665802],\n",
       "       [ 5.83523398, 13.42689666, 11.67046795],\n",
       "       [ 9.13922442, 20.59879832, 18.27844884],\n",
       "       [ 1.39520293,  1.81782925,  2.79040586],\n",
       "       [ 6.31053406, 15.1622536 , 12.62106813],\n",
       "       [ 9.63408743, 20.90479982, 19.26817487],\n",
       "       [ 7.29203927, 15.36461829, 14.58407854],\n",
       "       [ 2.49177421,  5.82313722,  4.98354842],\n",
       "       [ 3.36640793,  8.85237527,  6.73281587],\n",
       "       [ 6.98644372, 14.93038952, 13.97288743],\n",
       "       [ 5.80831632, 12.95867511, 11.61663265],\n",
       "       [ 7.86321744, 16.85499081, 15.72643488],\n",
       "       [ 3.2412683 ,  8.06114978,  6.4825366 ],\n",
       "       [ 1.41640589,  3.61643427,  2.83281177],\n",
       "       [ 1.19885697,  1.40791941,  2.39771394],\n",
       "       [ 3.63248437,  7.0532314 ,  7.26496874],\n",
       "       [ 6.97432585, 15.89792125, 13.9486517 ],\n",
       "       [ 8.95418733, 20.62877097, 17.90837465],\n",
       "       [ 1.87219869,  3.83531897,  3.74439738],\n",
       "       [ 9.39963446, 22.45050221, 18.79926892],\n",
       "       [ 8.35105971, 19.68711466, 16.70211943],\n",
       "       [ 9.62082642, 23.16093031, 19.24165285],\n",
       "       [ 2.66501657,  7.29993494,  5.33003313],\n",
       "       [ 4.8753779 , 10.70136357,  9.75075581],\n",
       "       [ 5.20451331, 12.00487938, 10.40902663],\n",
       "       [ 7.29770804, 17.30670278, 14.59541607],\n",
       "       [ 1.60135026,  2.75303491,  3.20270052],\n",
       "       [ 9.76747328, 22.76416296, 19.53494657],\n",
       "       [ 8.54602201, 19.78419889, 17.09204403],\n",
       "       [ 8.03395314, 17.31039272, 16.06790627],\n",
       "       [ 3.39929659,  7.25662574,  6.79859318],\n",
       "       [ 1.83025448,  5.31277818,  3.66050895],\n",
       "       [ 6.92996255, 15.19867213, 13.8599251 ],\n",
       "       [ 8.06866609, 17.97198128, 16.13733219],\n",
       "       [ 7.03323878, 15.28927202, 14.06647757],\n",
       "       [ 5.84616549, 14.3178711 , 11.69233099],\n",
       "       [ 9.52129097, 21.5334212 , 19.04258194],\n",
       "       [ 5.49330681, 11.79314108, 10.98661363],\n",
       "       [ 2.0236054 ,  5.78524461,  4.0472108 ],\n",
       "       [ 4.43198416, 11.14795944,  8.86396832],\n",
       "       [ 8.56541276, 18.78333453, 17.13082552],\n",
       "       [ 9.05139768, 20.19168648, 18.10279536],\n",
       "       [ 1.99144092,  4.42090083,  3.98288184],\n",
       "       [ 9.4482213 , 20.94401961, 18.89644261],\n",
       "       [ 2.21742251,  6.45640045,  4.43484502],\n",
       "       [ 7.84939643, 18.17893086, 15.69879286],\n",
       "       [ 4.20960784,  9.87622231,  8.41921568],\n",
       "       [ 2.30443232,  4.82951809,  4.60886465],\n",
       "       [ 1.41866243,  2.57154494,  2.83732486],\n",
       "       [ 8.25630907, 19.64772074, 16.51261815],\n",
       "       [ 1.78952106,  4.9404896 ,  3.57904211],\n",
       "       [ 3.86222887, 10.37612511,  7.72445774],\n",
       "       [ 3.97142193,  9.69043096,  7.94284387],\n",
       "       [ 8.84107283, 21.24286351, 17.68214567],\n",
       "       [ 2.38226646,  6.90591372,  4.76453291],\n",
       "       [ 3.51677294,  8.63220596,  7.03354588],\n",
       "       [ 9.01962464, 21.85170215, 18.03924929],\n",
       "       [ 5.4768298 , 11.7074482 , 10.9536596 ],\n",
       "       [ 9.60401287, 22.19787462, 19.20802574],\n",
       "       [ 9.51135479, 22.56046072, 19.02270959],\n",
       "       [ 8.54061963, 20.73080137, 17.08123927],\n",
       "       [ 8.45612984, 20.38256137, 16.91225967],\n",
       "       [ 5.93007498, 15.11197485, 11.86014996],\n",
       "       [ 1.94691931,  5.96365061,  3.89383862],\n",
       "       [ 5.8282524 , 14.73343458, 11.65650481],\n",
       "       [ 7.80042405, 16.54696384, 15.60084811],\n",
       "       [ 2.01876998,  3.41759998,  4.03753997],\n",
       "       [ 5.63946956, 13.11262895, 11.27893912],\n",
       "       [ 9.7471322 , 23.56043286, 19.49426439],\n",
       "       [ 7.98109287, 18.74506673, 15.96218574]])"
      ]
     },
     "execution_count": 19,
     "metadata": {},
     "output_type": "execute_result"
    }
   ],
   "source": [
    "trees.values"
   ]
  },
  {
   "cell_type": "code",
   "execution_count": 20,
   "metadata": {},
   "outputs": [
    {
     "data": {
      "text/html": [
       "<div>\n",
       "<style scoped>\n",
       "    .dataframe tbody tr th:only-of-type {\n",
       "        vertical-align: middle;\n",
       "    }\n",
       "\n",
       "    .dataframe tbody tr th {\n",
       "        vertical-align: top;\n",
       "    }\n",
       "\n",
       "    .dataframe thead th {\n",
       "        text-align: right;\n",
       "    }\n",
       "</style>\n",
       "<table border=\"1\" class=\"dataframe\">\n",
       "  <thead>\n",
       "    <tr style=\"text-align: right;\">\n",
       "      <th></th>\n",
       "      <th>age</th>\n",
       "      <th>one</th>\n",
       "    </tr>\n",
       "  </thead>\n",
       "  <tbody>\n",
       "    <tr>\n",
       "      <th>0</th>\n",
       "      <td>5.614137</td>\n",
       "      <td>1</td>\n",
       "    </tr>\n",
       "    <tr>\n",
       "      <th>1</th>\n",
       "      <td>5.376791</td>\n",
       "      <td>1</td>\n",
       "    </tr>\n",
       "    <tr>\n",
       "      <th>2</th>\n",
       "      <td>5.481214</td>\n",
       "      <td>1</td>\n",
       "    </tr>\n",
       "    <tr>\n",
       "      <th>3</th>\n",
       "      <td>8.797448</td>\n",
       "      <td>1</td>\n",
       "    </tr>\n",
       "    <tr>\n",
       "      <th>4</th>\n",
       "      <td>1.707992</td>\n",
       "      <td>1</td>\n",
       "    </tr>\n",
       "  </tbody>\n",
       "</table>\n",
       "</div>"
      ],
      "text/plain": [
       "        age  one\n",
       "0  5.614137    1\n",
       "1  5.376791    1\n",
       "2  5.481214    1\n",
       "3  8.797448    1\n",
       "4  1.707992    1"
      ]
     },
     "execution_count": 20,
     "metadata": {},
     "output_type": "execute_result"
    }
   ],
   "source": [
    "output = trees[\"height\"]\n",
    "trees[\"one\"] = 1\n",
    "inputs = trees[[\"age\", \"one\"]]\n",
    "inputs.head()"
   ]
  },
  {
   "cell_type": "code",
   "execution_count": 21,
   "metadata": {},
   "outputs": [
    {
     "data": {
      "text/plain": [
       "(array([2.28382785, 0.15754868]),\n",
       " array([72.61846147]),\n",
       " 2,\n",
       " array([64.3170582,  4.3836793]))"
      ]
     },
     "execution_count": 21,
     "metadata": {},
     "output_type": "execute_result"
    }
   ],
   "source": [
    "result = np.linalg.lstsq(inputs, output, rcond=None)\n",
    "result"
   ]
  },
  {
   "cell_type": "code",
   "execution_count": 22,
   "metadata": {},
   "outputs": [
    {
     "data": {
      "text/plain": [
       "(2.283827847601503, 0.1575486759575567)"
      ]
     },
     "execution_count": 22,
     "metadata": {},
     "output_type": "execute_result"
    }
   ],
   "source": [
    "slope = result[0][0]\n",
    "intercept = result[0][1]\n",
    "slope, intercept"
   ]
  },
  {
   "cell_type": "code",
   "execution_count": 23,
   "metadata": {},
   "outputs": [
    {
     "data": {
      "text/html": [
       "<div>\n",
       "<style scoped>\n",
       "    .dataframe tbody tr th:only-of-type {\n",
       "        vertical-align: middle;\n",
       "    }\n",
       "\n",
       "    .dataframe tbody tr th {\n",
       "        vertical-align: top;\n",
       "    }\n",
       "\n",
       "    .dataframe thead th {\n",
       "        text-align: right;\n",
       "    }\n",
       "</style>\n",
       "<table border=\"1\" class=\"dataframe\">\n",
       "  <thead>\n",
       "    <tr style=\"text-align: right;\">\n",
       "      <th></th>\n",
       "      <th>age</th>\n",
       "      <th>height</th>\n",
       "      <th>height-fitted</th>\n",
       "      <th>one</th>\n",
       "    </tr>\n",
       "  </thead>\n",
       "  <tbody>\n",
       "    <tr>\n",
       "      <th>0</th>\n",
       "      <td>5.614137</td>\n",
       "      <td>12.516422</td>\n",
       "      <td>12.979271</td>\n",
       "      <td>1</td>\n",
       "    </tr>\n",
       "    <tr>\n",
       "      <th>1</th>\n",
       "      <td>5.376791</td>\n",
       "      <td>12.714733</td>\n",
       "      <td>12.437215</td>\n",
       "      <td>1</td>\n",
       "    </tr>\n",
       "    <tr>\n",
       "      <th>2</th>\n",
       "      <td>5.481214</td>\n",
       "      <td>12.166286</td>\n",
       "      <td>12.675699</td>\n",
       "      <td>1</td>\n",
       "    </tr>\n",
       "    <tr>\n",
       "      <th>3</th>\n",
       "      <td>8.797448</td>\n",
       "      <td>20.005054</td>\n",
       "      <td>20.249405</td>\n",
       "      <td>1</td>\n",
       "    </tr>\n",
       "    <tr>\n",
       "      <th>4</th>\n",
       "      <td>1.707992</td>\n",
       "      <td>4.704271</td>\n",
       "      <td>4.058308</td>\n",
       "      <td>1</td>\n",
       "    </tr>\n",
       "  </tbody>\n",
       "</table>\n",
       "</div>"
      ],
      "text/plain": [
       "        age     height  height-fitted  one\n",
       "0  5.614137  12.516422      12.979271    1\n",
       "1  5.376791  12.714733      12.437215    1\n",
       "2  5.481214  12.166286      12.675699    1\n",
       "3  8.797448  20.005054      20.249405    1\n",
       "4  1.707992   4.704271       4.058308    1"
      ]
     },
     "execution_count": 23,
     "metadata": {},
     "output_type": "execute_result"
    }
   ],
   "source": [
    "trees[\"height-fitted\"] = trees[\"age\"] * slope + intercept\n",
    "trees.head()"
   ]
  },
  {
   "cell_type": "code",
   "execution_count": 24,
   "metadata": {},
   "outputs": [
    {
     "data": {
      "text/plain": [
       "<AxesSubplot:xlabel='age', ylabel='Height (feet)'>"
      ]
     },
     "execution_count": 24,
     "metadata": {},
     "output_type": "execute_result"
    },
    {
     "data": {
      "image/png": "[encoded data removed]",
      "text/plain": [
       "<Figure size 432x288 with 1 Axes>"
      ]
     },
     "metadata": {
      "needs_background": "light"
     },
     "output_type": "display_data"
    }
   ],
   "source": [
    "ax = trees.plot.scatter(x=\"age\", y=\"height\", c=\"black\", xlim=0, ylim=0)\n",
    "ax.set_xlabel(\"Age (years)\")\n",
    "ax.set_ylabel(\"Height (feet)\")\n",
    "\n",
    "trees.plot.line(ax=ax, x=\"age\", y=\"height-fitted\", color=\"red\")"
   ]
  },
  {
   "cell_type": "code",
   "execution_count": null,
   "metadata": {},
   "outputs": [],
   "source": []
  }
 ],
 "metadata": {
  "kernelspec": {
   "display_name": "Python 3",
   "language": "python",
   "name": "python3"
  },
  "language_info": {
   "codemirror_mode": {
    "name": "ipython",
    "version": 3
   },
   "file_extension": ".py",
   "mimetype": "text/x-python",
   "name": "python",
   "nbconvert_exporter": "python",
   "pygments_lexer": "ipython3",
   "version": "3.8.5"
  }
 },
 "nbformat": 4,
 "nbformat_minor": 4
}
