{
 "cells": [
  {
   "cell_type": "code",
   "execution_count": 1,
   "metadata": {},
   "outputs": [],
   "source": [
    "import csv\n",
    "# copied from https://automatetheboringstuff.com/chapter14/\n",
    "def get_mapping(filename):\n",
    "    exampleFile = open(filename, encoding=\"utf-8\")\n",
    "    exampleReader = csv.reader(exampleFile)\n",
    "    exampleData = list(exampleReader)\n",
    "    exampleFile.close()\n",
    "    Dict = {}\n",
    "    for each in range(len(exampleData)):\n",
    "        Dict[exampleData[each][0]] = exampleData[each][1]\n",
    "    return Dict\n",
    "#csv_header = csv_rows[0]\n",
    "#csv_data = csv_rows[1:]"
   ]
  },
  {
   "cell_type": "code",
   "execution_count": 2,
   "metadata": {
    "scrolled": true
   },
   "outputs": [
    {
     "data": {
      "text/plain": [
       "{'nm0000131': 'John Cusack',\n",
       " 'nm0000154': 'Mel Gibson',\n",
       " 'nm0000163': 'Dustin Hoffman',\n",
       " 'nm0000418': 'Danny Glover',\n",
       " 'nm0000432': 'Gene Hackman',\n",
       " 'nm0000997': 'Gary Busey',\n",
       " 'nm0001149': 'Richard Donner',\n",
       " 'nm0001219': 'Gary Fleder',\n",
       " 'nm0752751': 'Mitchell Ryan',\n",
       " 'tt0313542': 'Runaway Jury',\n",
       " 'tt0093409': 'Lethal Weapon'}"
      ]
     },
     "execution_count": 2,
     "metadata": {},
     "output_type": "execute_result"
    }
   ],
   "source": [
    "#q1\n",
    "mapping = get_mapping(\"small_mapping.csv\")\n",
    "mapping"
   ]
  },
  {
   "cell_type": "code",
   "execution_count": 3,
   "metadata": {
    "scrolled": true
   },
   "outputs": [
    {
     "data": {
      "text/plain": [
       "'Gary Fleder'"
      ]
     },
     "execution_count": 3,
     "metadata": {},
     "output_type": "execute_result"
    }
   ],
   "source": [
    "#q2\n",
    "mapping[\"nm0001219\"]"
   ]
  },
  {
   "cell_type": "code",
   "execution_count": 4,
   "metadata": {},
   "outputs": [],
   "source": [
    "def nm_finder():\n",
    "    nm_keys = []\n",
    "    for index in mapping:\n",
    "        if \"nm\" in index:\n",
    "            nm_keys.append(mapping[index])\n",
    "    return nm_keys"
   ]
  },
  {
   "cell_type": "code",
   "execution_count": 5,
   "metadata": {},
   "outputs": [
    {
     "data": {
      "text/plain": [
       "['John Cusack',\n",
       " 'Mel Gibson',\n",
       " 'Dustin Hoffman',\n",
       " 'Danny Glover',\n",
       " 'Gene Hackman',\n",
       " 'Gary Busey',\n",
       " 'Richard Donner',\n",
       " 'Gary Fleder',\n",
       " 'Mitchell Ryan']"
      ]
     },
     "execution_count": 5,
     "metadata": {},
     "output_type": "execute_result"
    }
   ],
   "source": [
    "#q3\n",
    "nm_finder()"
   ]
  },
  {
   "cell_type": "code",
   "execution_count": 6,
   "metadata": {},
   "outputs": [],
   "source": [
    "def gary_finder():\n",
    "    nm_list = nm_finder()\n",
    "    gary_index = []\n",
    "    gary_keys = []\n",
    "    gary_list = []\n",
    "    for index in mapping:\n",
    "        gary_keys.append(index)\n",
    "    for index in range(len(nm_list)):\n",
    "        if \"Gary\" in nm_list[index]:\n",
    "            gary_index.append(index)\n",
    "    for x in range(len(gary_index)):\n",
    "        gary_list.append(gary_keys[gary_index[x]])\n",
    "    return gary_list     "
   ]
  },
  {
   "cell_type": "code",
   "execution_count": 7,
   "metadata": {},
   "outputs": [
    {
     "data": {
      "text/plain": [
       "['nm0000997', 'nm0001219']"
      ]
     },
     "execution_count": 7,
     "metadata": {},
     "output_type": "execute_result"
    }
   ],
   "source": [
    "#q4\n",
    "gary_finder()"
   ]
  },
  {
   "cell_type": "code",
   "execution_count": 8,
   "metadata": {},
   "outputs": [],
   "source": [
    "import copy\n",
    "\n",
    "def get_raw_movies(filename): \n",
    "    File = open(filename)\n",
    "    Reader = list(csv.reader(File))\n",
    "    header = Reader[0]\n",
    "    row = Reader[1:]\n",
    "    Dict = {}\n",
    "    List = []\n",
    "    for each in range(len(row)):\n",
    "        new_Dict = copy.copy(Dict)\n",
    "        for index in range(len(header)):\n",
    "            new_Dict[header[index]] = row[each][index]\n",
    "            for index in [3,4,5]:\n",
    "                new_Dict[header[index]] = list(row[each][index].split(\",\"))\n",
    "            for index in [2]:\n",
    "                new_Dict[header[index]] = float(row[each][index])\n",
    "            for index in [1]:\n",
    "                new_Dict[header[index]] = int(row[each][index])\n",
    "        List.append(new_Dict)\n",
    "    return List"
   ]
  },
  {
   "cell_type": "code",
   "execution_count": 9,
   "metadata": {},
   "outputs": [
    {
     "data": {
      "text/plain": [
       "[{'title': 'tt0313542',\n",
       "  'directors': ['nm0001219'],\n",
       "  'actors': ['nm0000131', 'nm0000432', 'nm0000163'],\n",
       "  'genres': ['Crime', 'Drama', 'Thriller'],\n",
       "  'rating': 7.1,\n",
       "  'year': 2003},\n",
       " {'title': 'tt0093409',\n",
       "  'directors': ['nm0001149'],\n",
       "  'actors': ['nm0000154', 'nm0000418', 'nm0000997', 'nm0752751'],\n",
       "  'genres': ['Action', 'Crime', 'Thriller'],\n",
       "  'rating': 7.6,\n",
       "  'year': 1987}]"
      ]
     },
     "execution_count": 9,
     "metadata": {},
     "output_type": "execute_result"
    }
   ],
   "source": [
    "#q5\n",
    "future_variable = get_raw_movies(\"small_movies.csv\")\n",
    "future_variable"
   ]
  },
  {
   "cell_type": "code",
   "execution_count": 10,
   "metadata": {},
   "outputs": [
    {
     "data": {
      "text/plain": [
       "4"
      ]
     },
     "execution_count": 10,
     "metadata": {},
     "output_type": "execute_result"
    }
   ],
   "source": [
    "#q6\n",
    "Dict = get_raw_movies(\"small_movies.csv\")\n",
    "len(Dict[1][\"actors\"])"
   ]
  },
  {
   "cell_type": "code",
   "execution_count": 11,
   "metadata": {},
   "outputs": [
    {
     "data": {
      "text/plain": [
       "'nm0000163'"
      ]
     },
     "execution_count": 11,
     "metadata": {},
     "output_type": "execute_result"
    }
   ],
   "source": [
    "#q7\n",
    "Dict[0][\"actors\"][-1]"
   ]
  },
  {
   "cell_type": "code",
   "execution_count": 12,
   "metadata": {},
   "outputs": [],
   "source": [
    "def get_movies(movies_path, mapping_path):\n",
    "    movies = get_raw_movies(movies_path)\n",
    "    mapping = get_mapping(mapping_path)\n",
    "    List = []\n",
    "    for index in movies:\n",
    "        new_dict = copy.copy(movies)\n",
    "        for each in range(len(new_dict)):\n",
    "            new_dict[each][\"title\"] = mapping[movies[each][\"title\"]]\n",
    "            for idx in range(len(new_dict[each][\"actors\"])):\n",
    "                new_dict[each][\"actors\"][idx] = mapping[movies[each][\"actors\"][idx]]\n",
    "            for num in range(len(new_dict[each][\"directors\"])):\n",
    "                new_dict[each][\"directors\"][num] = mapping[movies[each][\"directors\"][num]]\n",
    "        List.append(new_dict)\n",
    "        return List"
   ]
  },
  {
   "cell_type": "code",
   "execution_count": 13,
   "metadata": {},
   "outputs": [
    {
     "data": {
      "text/plain": [
       "[{'title': 'Runaway Jury',\n",
       "  'directors': ['Gary Fleder'],\n",
       "  'actors': ['John Cusack', 'Gene Hackman', 'Dustin Hoffman'],\n",
       "  'genres': ['Crime', 'Drama', 'Thriller'],\n",
       "  'rating': 7.1,\n",
       "  'year': 2003},\n",
       " {'title': 'Lethal Weapon',\n",
       "  'directors': ['Richard Donner'],\n",
       "  'actors': ['Mel Gibson', 'Danny Glover', 'Gary Busey', 'Mitchell Ryan'],\n",
       "  'genres': ['Action', 'Crime', 'Thriller'],\n",
       "  'rating': 7.6,\n",
       "  'year': 1987}]"
      ]
     },
     "execution_count": 13,
     "metadata": {},
     "output_type": "execute_result"
    }
   ],
   "source": [
    "#q8\n",
    "small = get_movies(\"small_movies.csv\",\"small_mapping.csv\")[0]\n",
    "small"
   ]
  },
  {
   "cell_type": "code",
   "execution_count": 14,
   "metadata": {},
   "outputs": [
    {
     "data": {
      "text/plain": [
       "'Lethal Weapon'"
      ]
     },
     "execution_count": 14,
     "metadata": {},
     "output_type": "execute_result"
    }
   ],
   "source": [
    "#q9\n",
    "small[1][\"title\"]"
   ]
  },
  {
   "cell_type": "code",
   "execution_count": 15,
   "metadata": {},
   "outputs": [
    {
     "data": {
      "text/plain": [
       "['Mel Gibson', 'Danny Glover', 'Gary Busey', 'Mitchell Ryan']"
      ]
     },
     "execution_count": 15,
     "metadata": {},
     "output_type": "execute_result"
    }
   ],
   "source": [
    "#q10\n",
    "small[1][\"actors\"]"
   ]
  },
  {
   "cell_type": "code",
   "execution_count": 16,
   "metadata": {},
   "outputs": [
    {
     "data": {
      "text/plain": [
       "['Richard Donner']"
      ]
     },
     "execution_count": 16,
     "metadata": {},
     "output_type": "execute_result"
    }
   ],
   "source": [
    "#q11\n",
    "small[-1][\"directors\"]"
   ]
  },
  {
   "cell_type": "code",
   "execution_count": 17,
   "metadata": {},
   "outputs": [],
   "source": [
    "big_movies = get_movies(\"movies.csv\", \"mapping.csv\")[0]"
   ]
  },
  {
   "cell_type": "code",
   "execution_count": 18,
   "metadata": {},
   "outputs": [
    {
     "data": {
      "text/plain": [
       "[{'title': 'Tycoon',\n",
       "  'directors': ['Richard Wallace'],\n",
       "  'actors': ['John Wayne', 'Cedric Hardwicke'],\n",
       "  'genres': ['Adventure', 'Drama', 'Romance'],\n",
       "  'rating': 6.3,\n",
       "  'year': 1947},\n",
       " {'title': '7th Cavalry',\n",
       "  'directors': ['Joseph H. Lewis'],\n",
       "  'actors': ['Randolph Scott', 'Jay C. Flippen', 'Frank Faylen'],\n",
       "  'genres': ['Western'],\n",
       "  'rating': 5.9,\n",
       "  'year': 1956},\n",
       " {'title': '7 Men from Now',\n",
       "  'directors': ['Budd Boetticher'],\n",
       "  'actors': ['Randolph Scott', 'Lee Marvin', 'Walter Reed'],\n",
       "  'genres': ['Action', 'Western'],\n",
       "  'rating': 7.5,\n",
       "  'year': 1956}]"
      ]
     },
     "execution_count": 18,
     "metadata": {},
     "output_type": "execute_result"
    }
   ],
   "source": [
    "#q12\n",
    "big_movies[87:90]"
   ]
  },
  {
   "cell_type": "code",
   "execution_count": 19,
   "metadata": {},
   "outputs": [
    {
     "data": {
      "text/plain": [
       "[{'title': 'The Steam Experiment',\n",
       "  'directors': ['Philippe Martinez'],\n",
       "  'actors': ['Val Kilmer', 'Armand Assante', 'Eric Roberts'],\n",
       "  'genres': ['Mystery', 'Thriller'],\n",
       "  'rating': 4.0,\n",
       "  'year': 2009},\n",
       " {'title': 'The Disappearance of Flight 412',\n",
       "  'directors': ['Jud Taylor'],\n",
       "  'actors': ['Glenn Ford',\n",
       "   'Bradford Dillman',\n",
       "   'David Soul',\n",
       "   'Robert F. Lyons'],\n",
       "  'genres': ['Drama', 'Mystery', 'Sci-Fi'],\n",
       "  'rating': 4.8,\n",
       "  'year': 1974},\n",
       " {'title': 'Fortitude and Glory: Angelo Dundee and His Fighters',\n",
       "  'directors': ['Chris Tasara'],\n",
       "  'actors': ['Angelo Dundee', 'George Foreman', 'Freddie Roach'],\n",
       "  'genres': ['Sport'],\n",
       "  'rating': 7.2,\n",
       "  'year': 2012},\n",
       " {'title': 'Ivanhoe',\n",
       "  'directors': ['Richard Thorpe'],\n",
       "  'actors': ['Robert Taylor', 'George Sanders'],\n",
       "  'genres': ['Adventure', 'Drama', 'History'],\n",
       "  'rating': 6.8,\n",
       "  'year': 1952},\n",
       " {'title': 'The Great Gatsby',\n",
       "  'directors': ['Elliott Nugent'],\n",
       "  'actors': ['Alan Ladd', 'Macdonald Carey'],\n",
       "  'genres': ['Drama'],\n",
       "  'rating': 6.6,\n",
       "  'year': 1949}]"
      ]
     },
     "execution_count": 19,
     "metadata": {},
     "output_type": "execute_result"
    }
   ],
   "source": [
    "#q13\n",
    "big_movies[-5:]"
   ]
  },
  {
   "cell_type": "code",
   "execution_count": 20,
   "metadata": {},
   "outputs": [],
   "source": [
    "def filter_movies_by_year(movies, year):\n",
    "    i = 0\n",
    "    new_movies = copy.copy(movies)\n",
    "    while i < len(new_movies):\n",
    "        if new_movies[i][\"year\"] != year:\n",
    "            new_movies.pop(i)\n",
    "        else:\n",
    "            i += 1\n",
    "    return new_movies"
   ]
  },
  {
   "cell_type": "code",
   "execution_count": 21,
   "metadata": {},
   "outputs": [
    {
     "data": {
      "text/plain": [
       "22"
      ]
     },
     "execution_count": 21,
     "metadata": {},
     "output_type": "execute_result"
    }
   ],
   "source": [
    "#q14\n",
    "len(filter_movies_by_year(big_movies, 1949))"
   ]
  },
  {
   "cell_type": "code",
   "execution_count": 22,
   "metadata": {},
   "outputs": [],
   "source": [
    "def filter_movies_by_rating(movies, year):\n",
    "    i = 0\n",
    "    new_movies = filter_movies_by_year(movies, year)\n",
    "    while i < len(new_movies):\n",
    "        if new_movies[i][\"rating\"] <= 7.0:\n",
    "            new_movies.pop(i)\n",
    "        else:\n",
    "            i += 1\n",
    "    return new_movies"
   ]
  },
  {
   "cell_type": "code",
   "execution_count": 23,
   "metadata": {},
   "outputs": [
    {
     "data": {
      "text/plain": [
       "[{'title': \"Santa Claus Is Comin' to Town\",\n",
       "  'directors': ['Jules Bass', 'Arthur Rankin Jr.'],\n",
       "  'actors': ['Fred Astaire', 'Mickey Rooney', 'Keenan Wynn', 'Paul Frees'],\n",
       "  'genres': ['Adventure', 'Animation', 'Comedy'],\n",
       "  'rating': 7.8,\n",
       "  'year': 1970},\n",
       " {'title': 'The Brotherhood of the Bell',\n",
       "  'directors': ['Paul Wendkos'],\n",
       "  'actors': ['Glenn Ford', 'Dean Jagger', 'Maurice Evans'],\n",
       "  'genres': ['Drama', 'Thriller'],\n",
       "  'rating': 7.3,\n",
       "  'year': 1970}]"
      ]
     },
     "execution_count": 23,
     "metadata": {},
     "output_type": "execute_result"
    }
   ],
   "source": [
    "#q15\n",
    "filter_movies_by_rating(big_movies, 1970)"
   ]
  },
  {
   "cell_type": "code",
   "execution_count": 24,
   "metadata": {},
   "outputs": [],
   "source": [
    "def find_unique(movies, catagory):\n",
    "    i = 0\n",
    "    unique = []\n",
    "    copy_movies = copy.copy(movies)\n",
    "    while i < len(copy_movies):\n",
    "        for idx in range(len(copy_movies[i][catagory])):\n",
    "            if copy_movies[i][catagory][idx] not in unique:\n",
    "                unique.append(copy_movies[i][catagory][idx])      \n",
    "        i += 1\n",
    "    return unique"
   ]
  },
  {
   "cell_type": "code",
   "execution_count": 25,
   "metadata": {},
   "outputs": [
    {
     "data": {
      "text/plain": [
       "18"
      ]
     },
     "execution_count": 25,
     "metadata": {},
     "output_type": "execute_result"
    }
   ],
   "source": [
    "#q16\n",
    "len(find_unique(big_movies, \"genres\"))"
   ]
  },
  {
   "cell_type": "code",
   "execution_count": 26,
   "metadata": {},
   "outputs": [
    {
     "data": {
      "text/plain": [
       "2605"
      ]
     },
     "execution_count": 26,
     "metadata": {},
     "output_type": "execute_result"
    }
   ],
   "source": [
    "#q17\n",
    "len(find_unique(big_movies, \"actors\"))"
   ]
  },
  {
   "cell_type": "code",
   "execution_count": 27,
   "metadata": {},
   "outputs": [
    {
     "data": {
      "text/plain": [
       "1247"
      ]
     },
     "execution_count": 27,
     "metadata": {},
     "output_type": "execute_result"
    }
   ],
   "source": [
    "#q18\n",
    "len(find_unique(big_movies, \"directors\"))"
   ]
  },
  {
   "cell_type": "code",
   "execution_count": 28,
   "metadata": {},
   "outputs": [],
   "source": [
    "def avg_rating(movies):\n",
    "    count = 0\n",
    "    total = 0\n",
    "    i = 0\n",
    "    copy_movies = copy.copy(movies)\n",
    "    while i < len(copy_movies):\n",
    "        total += copy_movies[i][\"rating\"]\n",
    "        count += 1\n",
    "        i += 1\n",
    "    return total / count"
   ]
  },
  {
   "cell_type": "code",
   "execution_count": 29,
   "metadata": {},
   "outputs": [
    {
     "data": {
      "text/plain": [
       "6.401659528907912"
      ]
     },
     "execution_count": 29,
     "metadata": {},
     "output_type": "execute_result"
    }
   ],
   "source": [
    "#q19\n",
    "avg_rating(big_movies)"
   ]
  },
  {
   "cell_type": "code",
   "execution_count": 30,
   "metadata": {},
   "outputs": [],
   "source": [
    "def find_longest_title(movies):\n",
    "    longest = None\n",
    "    current = 0\n",
    "    i = 0\n",
    "    copy_movies = copy.copy(movies)\n",
    "    while i < len(copy_movies):\n",
    "        current = len(copy_movies[i][\"title\"])\n",
    "        if longest == None or current > len(longest):\n",
    "            longest = copy_movies[i][\"title\"]\n",
    "        i += 1\n",
    "    return longest"
   ]
  },
  {
   "cell_type": "code",
   "execution_count": 31,
   "metadata": {},
   "outputs": [
    {
     "data": {
      "text/plain": [
       "'Dr. Strangelove or: How I Learned to Stop Worrying and Love the Bomb'"
      ]
     },
     "execution_count": 31,
     "metadata": {},
     "output_type": "execute_result"
    }
   ],
   "source": [
    "#q20\n",
    "find_longest_title(big_movies)"
   ]
  }
 ],
 "metadata": {
  "kernelspec": {
   "display_name": "Python 3",
   "language": "python",
   "name": "python3"
  },
  "language_info": {
   "codemirror_mode": {
    "name": "ipython",
    "version": 3
   },
   "file_extension": ".py",
   "mimetype": "text/x-python",
   "name": "python",
   "nbconvert_exporter": "python",
   "pygments_lexer": "ipython3",
   "version": "3.8.5"
  }
 },
 "nbformat": 4,
 "nbformat_minor": 4
}
