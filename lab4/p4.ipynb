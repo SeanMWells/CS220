{
 "cells": [
  {
   "cell_type": "code",
   "execution_count": 22,
   "metadata": {},
   "outputs": [
    {
     "name": "stdout",
     "output_type": "stream",
     "text": [
      "Kanto\n"
     ]
    }
   ],
   "source": [
    "import project\n",
    "\n",
    "if project.get_region(\"Pikachu\") == \"Kanto\":\n",
    "    print(\"Kanto\")\n",
    "else:\n",
    "    print(\"Not Kanto\")"
   ]
  },
  {
   "cell_type": "code",
   "execution_count": 23,
   "metadata": {},
   "outputs": [
    {
     "name": "stdout",
     "output_type": "stream",
     "text": [
      "Not Kanto\n"
     ]
    }
   ],
   "source": [
    "import project\n",
    "\n",
    "if project.get_region(\"Greninja\") == \"Kanto\":\n",
    "    print(\"Kanto\")\n",
    "else:\n",
    "    print(\"Not Kanto\")"
   ]
  },
  {
   "cell_type": "code",
   "execution_count": 24,
   "metadata": {},
   "outputs": [
    {
     "name": "stdout",
     "output_type": "stream",
     "text": [
      "Snorlax\n"
     ]
    }
   ],
   "source": [
    "if project.get_hp('Snorlax') >= project.get_hp('Heracross'):\n",
    "    print('Snorlax')\n",
    "else:\n",
    "    print('Heracross')"
   ]
  },
  {
   "cell_type": "code",
   "execution_count": 25,
   "metadata": {},
   "outputs": [],
   "source": [
    "def compare_hp(pkmn1, pkmn2):\n",
    "    if project.get_hp(pkmn1) >= project.get_hp(pkmn2):\n",
    "        return str(pkmn1)\n",
    "    else:\n",
    "        return str(pkmn2)"
   ]
  },
  {
   "cell_type": "code",
   "execution_count": 26,
   "metadata": {},
   "outputs": [],
   "source": [
    "def compare_attack(pkmn1, pkmn2):\n",
    "    if project.get_attack(pkmn1) >= project.get_attack(pkmn2):\n",
    "        return str(pkmn1)\n",
    "    else:\n",
    "        return str(pkmn2)"
   ]
  },
  {
   "cell_type": "code",
   "execution_count": 33,
   "metadata": {},
   "outputs": [],
   "source": [
    "def get_total_attack(pkmn):\n",
    "    return (project.get_attack(pkmn) + project.get_sp_atk(pkmn))"
   ]
  },
  {
   "cell_type": "code",
   "execution_count": 34,
   "metadata": {},
   "outputs": [],
   "source": [
    "def get_total_def(pkmn):\n",
    "    return (project.get_defense(pkmn) + project.get_sp_def(pkmn))"
   ]
  },
  {
   "cell_type": "code",
   "execution_count": 35,
   "metadata": {},
   "outputs": [],
   "source": [
    "def get_stat_total(pkmn): \n",
    "    return (get_total_attack(pkmn) + get_total_def(pkmn) + project.get_speed(pkmn) + project.get_hp(pkmn))"
   ]
  },
  {
   "cell_type": "code",
   "execution_count": 36,
   "metadata": {
    "scrolled": true
   },
   "outputs": [
    {
     "data": {
      "text/plain": [
       "500"
      ]
     },
     "execution_count": 36,
     "metadata": {},
     "output_type": "execute_result"
    }
   ],
   "source": [
    "get_stat_total(\"Heracross\")"
   ]
  },
  {
   "cell_type": "code",
   "execution_count": 37,
   "metadata": {},
   "outputs": [],
   "source": [
    "def get_num_types(pkmn):\n",
    "    if project.get_type1(pkmn) == 'None':\n",
    "        return 0\n",
    "    elif project.get_type2(pkmn) == 'None':\n",
    "        return 1\n",
    "    else:\n",
    "        return 2"
   ]
  },
  {
   "cell_type": "code",
   "execution_count": 38,
   "metadata": {},
   "outputs": [
    {
     "data": {
      "text/plain": [
       "2"
      ]
     },
     "execution_count": 38,
     "metadata": {},
     "output_type": "execute_result"
    }
   ],
   "source": [
    "get_num_types(\"Charizard\")"
   ]
  },
  {
   "cell_type": "code",
   "execution_count": 40,
   "metadata": {},
   "outputs": [],
   "source": [
    "def same_types(pkmn1, pkmn2):\n",
    "    if project.get_type1(pkmn1) == project.get_type1(pkmn2):\n",
    "        if project.get_type2(pkmn1) == project.get_type2(pkmn2):\n",
    "            return True\n",
    "\n",
    "    if project.get_type1(pkmn1) == project.get_type2(pkmn2):\n",
    "        if project.get_type2(pkmn1) == project.get_type1(pkmn2):\n",
    "            return True\n",
    "            \n",
    "    return False"
   ]
  },
  {
   "cell_type": "code",
   "execution_count": null,
   "metadata": {},
   "outputs": [],
   "source": []
  }
 ],
 "metadata": {
  "kernelspec": {
   "display_name": "Python 3",
   "language": "python",
   "name": "python3"
  },
  "language_info": {
   "codemirror_mode": {
    "name": "ipython",
    "version": 3
   },
   "file_extension": ".py",
   "mimetype": "text/x-python",
   "name": "python",
   "nbconvert_exporter": "python",
   "pygments_lexer": "ipython3",
   "version": "3.8.5"
  }
 },
 "nbformat": 4,
 "nbformat_minor": 4
}
