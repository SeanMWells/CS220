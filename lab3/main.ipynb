{
 "cells": [
  {
   "cell_type": "code",
   "execution_count": 76,
   "metadata": {},
   "outputs": [],
   "source": [
    "# project: p3\n",
    "# submitter: Smwells3\n",
    "# partner: none"
   ]
  },
  {
   "cell_type": "code",
   "execution_count": 77,
   "metadata": {},
   "outputs": [
    {
     "data": {
      "text/plain": [
       "122"
      ]
     },
     "execution_count": 77,
     "metadata": {},
     "output_type": "execute_result"
    }
   ],
   "source": [
    "#q1\n",
    "import project\n",
    "project.init(\"madison.csv\")\n",
    "schools_id = project.get_id(\"schools\")\n",
    "gyms_id = project.get_id(\"gyms\")\n",
    "restaurants_id = project.get_id(\"restaurants\")\n",
    "stores_id = project.get_id(\"stores\")\n",
    "governments_id = project.get_id(\"governments\")\n",
    "project.init(\"madison.csv\")\n",
    "\n",
    "project.get_id(\"stores\")"
   ]
  },
  {
   "cell_type": "code",
   "execution_count": 78,
   "metadata": {},
   "outputs": [
    {
     "data": {
      "text/plain": [
       "68.06346877"
      ]
     },
     "execution_count": 78,
     "metadata": {},
     "output_type": "execute_result"
    }
   ],
   "source": [
    "#q2\n",
    "project.get_spending(3,2017)"
   ]
  },
  {
   "cell_type": "code",
   "execution_count": 79,
   "metadata": {},
   "outputs": [
    {
     "data": {
      "text/plain": [
       "19.13634773"
      ]
     },
     "execution_count": 79,
     "metadata": {},
     "output_type": "execute_result"
    }
   ],
   "source": [
    "#q3\n",
    "project.get_spending(restaurants_id, 2019)"
   ]
  },
  {
   "cell_type": "code",
   "execution_count": 80,
   "metadata": {},
   "outputs": [
    {
     "data": {
      "text/plain": [
       "180.37142104"
      ]
     },
     "execution_count": 80,
     "metadata": {},
     "output_type": "execute_result"
    }
   ],
   "source": [
    "def year_max(year):\n",
    "    # grab the spending by each agency in the given year\n",
    "    governments_spending = project.get_spending(project.get_id(\"governments\"), year)\n",
    "    gyms_spending = project.get_spending(project.get_id(\"gyms\"), year)\n",
    "    restaurants_spending = project.get_spending(project.get_id(\"restaurants\"), year)\n",
    "    schools_spending = project.get_spending(project.get_id(\"schools\"), year)\n",
    "    stores_spending = project.get_spending(project.get_id(\"stores\"), year)\n",
    "\n",
    "    # use builtin max function to get the largest of the five values\n",
    "    return max(governments_spending, gyms_spending, restaurants_spending, schools_spending, stores_spending)\n",
    "\n",
    "#q4\n",
    "year_max(2017)"
   ]
  },
  {
   "cell_type": "code",
   "execution_count": 81,
   "metadata": {},
   "outputs": [
    {
     "data": {
      "text/plain": [
       "77.87553504"
      ]
     },
     "execution_count": 81,
     "metadata": {},
     "output_type": "execute_result"
    }
   ],
   "source": [
    "#q5\n",
    "year_max(2020)"
   ]
  },
  {
   "cell_type": "code",
   "execution_count": 82,
   "metadata": {},
   "outputs": [
    {
     "data": {
      "text/plain": [
       "49.73757877"
      ]
     },
     "execution_count": 82,
     "metadata": {},
     "output_type": "execute_result"
    }
   ],
   "source": [
    "def agency_min(agency):\n",
    "    agency_id = project.get_id(agency)\n",
    "    y17 = project.get_spending(agency_id, 2017)\n",
    "    y18 = project.get_spending(agency_id, 2018)\n",
    "    y19 = project.get_spending(agency_id, 2019)\n",
    "    y20 = project.get_spending(agency_id, 2020)\n",
    "\n",
    "    return min(y17, y18, y19, y20)\n",
    "    \n",
    "#q6\n",
    "agency_min(\"gyms\")"
   ]
  },
  {
   "cell_type": "code",
   "execution_count": 83,
   "metadata": {},
   "outputs": [
    {
     "data": {
      "text/plain": [
       "19.159243279999995"
      ]
     },
     "execution_count": 83,
     "metadata": {},
     "output_type": "execute_result"
    }
   ],
   "source": [
    "#q7\n",
    "agency_min(\"stores\")"
   ]
  },
  {
   "cell_type": "code",
   "execution_count": 84,
   "metadata": {},
   "outputs": [
    {
     "data": {
      "text/plain": [
       "27.013047475"
      ]
     },
     "execution_count": 84,
     "metadata": {},
     "output_type": "execute_result"
    }
   ],
   "source": [
    "def agency_avg(agency):\n",
    "    agency_id = project.get_id(agency)\n",
    "    y17 = project.get_spending(agency_id, 2017)\n",
    "    y18 = project.get_spending(agency_id, 2018)\n",
    "    y19 = project.get_spending(agency_id, 2019)\n",
    "    y20 = project.get_spending(agency_id, 2020)\n",
    "\n",
    "    return ((y17 + y18 + y19 + y20)/4)\n",
    "\n",
    "#q8\n",
    "agency_avg(\"governments\")"
   ]
  },
  {
   "cell_type": "code",
   "execution_count": 85,
   "metadata": {},
   "outputs": [
    {
     "data": {
      "text/plain": [
       "18.5180922925"
      ]
     },
     "execution_count": 85,
     "metadata": {},
     "output_type": "execute_result"
    }
   ],
   "source": [
    "#q9\n",
    "agency_avg(\"restaurants\")"
   ]
  },
  {
   "cell_type": "code",
   "execution_count": 86,
   "metadata": {},
   "outputs": [
    {
     "data": {
      "text/plain": [
       "1.195455545247126"
      ]
     },
     "execution_count": 86,
     "metadata": {},
     "output_type": "execute_result"
    }
   ],
   "source": [
    "#q10\n",
    "(project.get_spending(gyms_id, 2019) - agency_avg(\"gyms\"))/agency_avg(\"gyms\") * 100"
   ]
  },
  {
   "cell_type": "code",
   "execution_count": 87,
   "metadata": {},
   "outputs": [
    {
     "data": {
      "text/plain": [
       "'schools'"
      ]
     },
     "execution_count": 87,
     "metadata": {},
     "output_type": "execute_result"
    }
   ],
   "source": [
    "def max_spending_agency(start_year=2018, end_year=2020):\n",
    "    max_agency = (None, None)\n",
    "    for agency in [\"governments\", \"gyms\", \"restaurants\", \"schools\", \"stores\"]:\n",
    "        _sum = sum([project.get_spending(project.get_id(agency), year=year) for year in range(start_year, end_year+1)])\n",
    "        max_agency = (agency, _sum) if (max_agency == (None, None) or max_agency[1] < _sum) else max_agency\n",
    "    \n",
    "    return max_agency[0]\n",
    "\n",
    "#q11\n",
    "max_spending_agency(2018,2020)"
   ]
  },
  {
   "cell_type": "code",
   "execution_count": 88,
   "metadata": {},
   "outputs": [
    {
     "data": {
      "text/plain": [
       "'stores'"
      ]
     },
     "execution_count": 88,
     "metadata": {},
     "output_type": "execute_result"
    }
   ],
   "source": [
    "#q12\n",
    "max_spending_agency(2017,2019)"
   ]
  },
  {
   "cell_type": "code",
   "execution_count": 89,
   "metadata": {},
   "outputs": [
    {
     "data": {
      "text/plain": [
       "-53.53690368"
      ]
     },
     "execution_count": 89,
     "metadata": {},
     "output_type": "execute_result"
    }
   ],
   "source": [
    "def change_per_year(agency, start_year=2017, end_year=2020):\n",
    "    difference = project.get_spending(project.get_id(agency), end_year) - project.get_spending(project.get_id(agency), start_year)\n",
    "    return difference / (end_year - start_year)\n",
    "\n",
    "#q13\n",
    "change_per_year(\"stores\", 2017, 2020)"
   ]
  },
  {
   "cell_type": "code",
   "execution_count": 90,
   "metadata": {},
   "outputs": [
    {
     "data": {
      "text/plain": [
       "0.3007333600000024"
      ]
     },
     "execution_count": 90,
     "metadata": {},
     "output_type": "execute_result"
    }
   ],
   "source": [
    "#q14\n",
    "change_per_year(\"stores\", 2018, 2020)"
   ]
  },
  {
   "cell_type": "code",
   "execution_count": 91,
   "metadata": {},
   "outputs": [],
   "source": [
    "def extrapolate(agency, year1, year2, year3):\n",
    "    change = change_per_year(agency, year1, year2)\n",
    "    last_year = project.get_spending(project.get_id(agency), year2)\n",
    "    return last_year + (year3 - year2) * change"
   ]
  },
  {
   "cell_type": "code",
   "execution_count": 92,
   "metadata": {},
   "outputs": [
    {
     "data": {
      "text/plain": [
       "23.510019659999983"
      ]
     },
     "execution_count": 92,
     "metadata": {},
     "output_type": "execute_result"
    }
   ],
   "source": [
    "#q15\n",
    "extrapolate(\"governments\", 2018, 2019, 2021)"
   ]
  },
  {
   "cell_type": "code",
   "execution_count": 93,
   "metadata": {},
   "outputs": [
    {
     "data": {
      "text/plain": [
       "88.6268421999999"
      ]
     },
     "execution_count": 93,
     "metadata": {},
     "output_type": "execute_result"
    }
   ],
   "source": [
    "#q16 \n",
    "extrapolate(\"restaurants\", 2018, 2020, 2100)"
   ]
  },
  {
   "cell_type": "code",
   "execution_count": 94,
   "metadata": {},
   "outputs": [
    {
     "data": {
      "text/plain": [
       "993.6683869066669"
      ]
     },
     "execution_count": 94,
     "metadata": {},
     "output_type": "execute_result"
    }
   ],
   "source": [
    "#q17\n",
    "extrapolate(\"schools\", 2017, 2020, 2300)"
   ]
  },
  {
   "cell_type": "code",
   "execution_count": 95,
   "metadata": {},
   "outputs": [],
   "source": [
    "def extrapolate_error(agency, year1, year2, year3):\n",
    "    return extrapolate(agency, year1, year2, year3) - project.get_spending(project.get_id(agency), year3)"
   ]
  },
  {
   "cell_type": "code",
   "execution_count": 96,
   "metadata": {},
   "outputs": [
    {
     "data": {
      "text/plain": [
       "-0.8952411000000211"
      ]
     },
     "execution_count": 96,
     "metadata": {},
     "output_type": "execute_result"
    }
   ],
   "source": [
    "#q18\n",
    "extrapolate_error(\"gyms\", 2018, 2019, 2020)"
   ]
  },
  {
   "cell_type": "code",
   "execution_count": 97,
   "metadata": {},
   "outputs": [
    {
     "data": {
      "text/plain": [
       "-1.7977023315859557"
      ]
     },
     "execution_count": 97,
     "metadata": {},
     "output_type": "execute_result"
    }
   ],
   "source": [
    "def percent_error(agency, year1, year2, year3):\n",
    "    return extrapolate_error(agency, year1, year2, year3)*100/project.get_spending(project.get_id(agency), year3)\n",
    "\n",
    "#q19\n",
    "percent_error(\"governments\", 2017, 2019, 2020)"
   ]
  },
  {
   "cell_type": "code",
   "execution_count": 98,
   "metadata": {},
   "outputs": [],
   "source": [
    "def std_dev(agency):\n",
    "    agency_id = project.get_id(agency)\n",
    "    avg = agency_avg(agency)\n",
    "    dev1 = (project.get_spending((agency_id), 2017) - avg) ** 2  \n",
    "    dev2 = (project.get_spending((agency_id), 2018) - avg) ** 2\n",
    "    dev3 = (project.get_spending((agency_id), 2019) - avg) ** 2\n",
    "    dev4 = (project.get_spending((agency_id), 2020) - avg) ** 2 \n",
    "    return ((dev1 + dev2 + dev3 + dev4) / 4) ** 0.5"
   ]
  },
  {
   "cell_type": "code",
   "execution_count": 99,
   "metadata": {},
   "outputs": [
    {
     "data": {
      "text/plain": [
       "69.69770863072543"
      ]
     },
     "execution_count": 99,
     "metadata": {},
     "output_type": "execute_result"
    }
   ],
   "source": [
    "#q20\n",
    "std_dev(\"stores\")"
   ]
  }
 ],
 "metadata": {
  "kernelspec": {
   "display_name": "Python 3",
   "language": "python",
   "name": "python3"
  },
  "language_info": {
   "codemirror_mode": {
    "name": "ipython",
    "version": 3
   },
   "file_extension": ".py",
   "mimetype": "text/x-python",
   "name": "python",
   "nbconvert_exporter": "python",
   "pygments_lexer": "ipython3",
   "version": "3.8.5"
  }
 },
 "nbformat": 4,
 "nbformat_minor": 4
}
