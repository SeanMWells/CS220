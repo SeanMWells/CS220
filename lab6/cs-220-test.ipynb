{
 "cells": [
  {
   "cell_type": "code",
   "execution_count": 1,
   "metadata": {},
   "outputs": [],
   "source": [
    "# project: p6\n",
    "# submitter: Smwells3\n",
    "# partner: none"
   ]
  },
  {
   "cell_type": "code",
   "execution_count": 2,
   "metadata": {},
   "outputs": [],
   "source": [
    "import csv\n",
    "\n",
    "# copied from https://automatetheboringstuff.com/chapter14/\n",
    "def process_csv(filename):\n",
    "    exampleFile = open(filename, encoding=\"utf-8\")\n",
    "    exampleReader = csv.reader(exampleFile)\n",
    "    exampleData = list(exampleReader)\n",
    "    exampleFile.close()\n",
    "    return exampleData\n",
    "\n",
    "# use process_csv to pull out the header and data rows\n",
    "csv_rows = process_csv(\"airbnb.csv\")\n",
    "csv_header = csv_rows[0]\n",
    "csv_data = csv_rows[1:]\n",
    "\n",
    "def cell(row_idx, col_name):\n",
    "    col_idx = csv_header.index(col_name)\n",
    "    val = csv_data[row_idx][col_idx]\n",
    "    if val == \"\":\n",
    "        return None\n",
    "    elif col_name == \"room_id\":\n",
    "        val = int(val)\n",
    "    elif col_name == \"host_id\":\n",
    "        val = int(val)\n",
    "    elif col_name == \"latitude\":\n",
    "        val = float(val)\n",
    "    elif col_name == \"longitude\":\n",
    "        val = float(val)\n",
    "    elif col_name == \"price\":\n",
    "        val = int(val)\n",
    "    elif col_name == \"minimum_nights\":\n",
    "        val = int(val)\n",
    "    elif col_name == \"number_of_reviews\":\n",
    "        val = int(val)\n",
    "    elif col_name == \"reviews_per_month\":\n",
    "        val = float(val)\n",
    "    elif col_name == \"calculated_host_listings_count\":\n",
    "        val = int(val)\n",
    "    elif col_name == \"availability_365\":\n",
    "        val = int(val)\n",
    "        \n",
    "    return val"
   ]
  },
  {
   "cell_type": "code",
   "execution_count": 3,
   "metadata": {},
   "outputs": [],
   "source": [
    "def neighborhood_groups():\n",
    "    neighborhood = \"\"\n",
    "    L = []\n",
    "    for each in range(len(csv_data)):\n",
    "        neighborhood = cell(each, \"neighborhood_group\")\n",
    "        L.append(neighborhood)\n",
    "    L = list(set(L))\n",
    "    return L"
   ]
  },
  {
   "cell_type": "code",
   "execution_count": 4,
   "metadata": {},
   "outputs": [
    {
     "data": {
      "text/plain": [
       "['Queens', 'Staten Island', 'Bronx', 'Brooklyn', 'Manhattan']"
      ]
     },
     "execution_count": 4,
     "metadata": {},
     "output_type": "execute_result"
    }
   ],
   "source": [
    "#q1       \n",
    "neighborhood_groups()"
   ]
  },
  {
   "cell_type": "code",
   "execution_count": 5,
   "metadata": {},
   "outputs": [],
   "source": [
    "def avg_price():\n",
    "    total_price = 0\n",
    "    for each in range(len(csv_data)):\n",
    "        total_price += cell(each, \"price\")\n",
    "    return total_price / len(csv_data)"
   ]
  },
  {
   "cell_type": "code",
   "execution_count": 6,
   "metadata": {},
   "outputs": [
    {
     "data": {
      "text/plain": [
       "152.7206871868289"
      ]
     },
     "execution_count": 6,
     "metadata": {},
     "output_type": "execute_result"
    }
   ],
   "source": [
    "#q2\n",
    "avg_price()"
   ]
  },
  {
   "cell_type": "code",
   "execution_count": 7,
   "metadata": {},
   "outputs": [],
   "source": [
    "def num_rooms():\n",
    "    total_rooms = 0\n",
    "    for each in range(len(csv_data)):\n",
    "        neighborhood = cell(each, \"neighborhood\")\n",
    "        if neighborhood == \"Chinatown\":\n",
    "            total_rooms += 1\n",
    "    return total_rooms          "
   ]
  },
  {
   "cell_type": "code",
   "execution_count": 8,
   "metadata": {},
   "outputs": [
    {
     "data": {
      "text/plain": [
       "368"
      ]
     },
     "execution_count": 8,
     "metadata": {},
     "output_type": "execute_result"
    }
   ],
   "source": [
    "#q3\n",
    "num_rooms()"
   ]
  },
  {
   "cell_type": "code",
   "execution_count": 9,
   "metadata": {},
   "outputs": [],
   "source": [
    "def word_check(word):\n",
    "    L = []\n",
    "    for each in range(len(csv_data)):\n",
    "        room = cell(each, \"name\")\n",
    "        new_room = \"\"\n",
    "        if type(room) == str:\n",
    "            new_room = room.lower()\n",
    "            if word in new_room:\n",
    "                L.append(room)\n",
    "                L = list(set(L))\n",
    "    return L"
   ]
  },
  {
   "cell_type": "code",
   "execution_count": 10,
   "metadata": {
    "scrolled": true
   },
   "outputs": [
    {
     "data": {
      "text/plain": [
       "['Super Apt for Superbowl',\n",
       " 'SuperBowl West Village Apartment',\n",
       " 'Superbowl Studio Upper West Side',\n",
       " 'Superbowl in the West Village',\n",
       " 'Tribeca Loft for Superbowl Wknd',\n",
       " 'SUPERBOWLSUNDAY! 3BLOCK FROM TIMESQ',\n",
       " 'PERFECT SUPERBOWL STAY',\n",
       " 'Downtown NY Apt - SuperBowl Weekend',\n",
       " '1BR Superbowl rental Hells Kitchen',\n",
       " 'NYC SuperBowl Wk 5 Bdrs River View ',\n",
       " 'SuperBowl Penthouse Loft 3,000 sqft',\n",
       " 'Superbowl - NYC Apartment',\n",
       " 'SuperBowl Weekend Rental! 3 BR/1ba',\n",
       " 'UWS MANHATTAN APT FOR SUPERBOWL WE',\n",
       " 'SUPERBOWL!! 2 Bd, 2 Ba w Roof Deck!',\n",
       " '1500 sq ft apt sleeps 8 - SuperBowl',\n",
       " 'MANHATTAN SUPERBOWL ACCOMODATION']"
      ]
     },
     "execution_count": 10,
     "metadata": {},
     "output_type": "execute_result"
    }
   ],
   "source": [
    "#q4\n",
    "word_check(\"superbowl\")"
   ]
  },
  {
   "cell_type": "code",
   "execution_count": 11,
   "metadata": {},
   "outputs": [
    {
     "data": {
      "text/plain": [
       "['Dream Room in Modern Apartment',\n",
       " 'Lower East Dream Room!',\n",
       " 'The Dream Room (Private Room)',\n",
       " 'Exclusive Dream room 8 mins from JFK Smoking OK!',\n",
       " 'KingSize Dream Room',\n",
       " 'King Size Dream Room',\n",
       " 'The Dream Room near Barclays Center',\n",
       " 'DREAM ROOM: gorgegous renovated 1bd, 1 bath',\n",
       " 'Dream Room in Sunnyside New York']"
      ]
     },
     "execution_count": 11,
     "metadata": {},
     "output_type": "execute_result"
    }
   ],
   "source": [
    "#q5\n",
    "word_check(\"dream room\")"
   ]
  },
  {
   "cell_type": "code",
   "execution_count": 12,
   "metadata": {},
   "outputs": [
    {
     "data": {
      "text/plain": [
       "['One Bedroom Mini studio - Free WIFI',\n",
       " 'J- LUXURY SHARED ROOM, AC FREE WIFI+CABLE GARDEN',\n",
       " 'BIG BEDROOM CLOSE TO LA GUARDIA AIRPORT FREE WIFI',\n",
       " '*NO GUEST SERVICE FEE* Beekman Tower Studio with Queen Bed & Free Wifi',\n",
       " 'J- *LUXURY SHARED ROOM AC FREE WIFI CABLE, GARDEN',\n",
       " 'J- COZY ROOM FOR 1 FEMALE FREE WIFI & COFFEE',\n",
       " 'Landmark 1 Bedroom has 2 beds, Free WiFi',\n",
       " '5min walk to L train - Free WiFi & Cleaning',\n",
       " 'Newly renovated 2 bedroom with FREE WIFI',\n",
       " 'Explore NYC From Our Private Studio w/Free Wifi',\n",
       " '*NO GUEST SERVICE FEE* Beekman Tower One Bedroom Suite with Queen Bed & Free Wifi',\n",
       " 'Private Bedroom in MANHATTAN (Free Wifi)',\n",
       " 'Private 2 BR APT: Free WIFI & JACUZZI',\n",
       " 'J- **LUXURY SHARED ROOM 2PPL FREE WIFI+CABLE+AC',\n",
       " 'J- HOTEL STYLE SHARE ROOM FOR 2PPL FREE WIFI CABLE',\n",
       " 'Staten Island - Free Wifi, Parking Space, Near NYC',\n",
       " 'Great Chelsea Location, Couch/2nd bed, Free WiFi',\n",
       " 'Modern and Safe Place,Free Wifi',\n",
       " 'Sunny Hudson Yards/ Chelsea Studio, Free WiFi',\n",
       " 'PRIVATE 1BR APT: Free WIFI & DIRECT TV']"
      ]
     },
     "execution_count": 12,
     "metadata": {},
     "output_type": "execute_result"
    }
   ],
   "source": [
    "#q6\n",
    "word_check(\"free wifi\")"
   ]
  },
  {
   "cell_type": "code",
   "execution_count": 13,
   "metadata": {},
   "outputs": [],
   "source": [
    "def landeyo():\n",
    "    L = []\n",
    "    s = {}\n",
    "    landeyo = {\"l\",\"a\",\"n\",\"d\",\"e\",\"y\",\"o\"}\n",
    "    host_name = \"\"\n",
    "    for each in range(len(csv_data)):\n",
    "        host_name = cell(each, \"host_name\")\n",
    "        if type(host_name) == str:\n",
    "            s = set(sorted(host_name.lower()))\n",
    "            if s == landeyo:\n",
    "                L.append(host_name)\n",
    "    return L"
   ]
  },
  {
   "cell_type": "code",
   "execution_count": 14,
   "metadata": {},
   "outputs": [
    {
     "data": {
      "text/plain": [
       "['Yolande']"
      ]
     },
     "execution_count": 14,
     "metadata": {},
     "output_type": "execute_result"
    }
   ],
   "source": [
    "#q7\n",
    "landeyo()"
   ]
  },
  {
   "cell_type": "code",
   "execution_count": 15,
   "metadata": {},
   "outputs": [],
   "source": [
    "def min_nights_365():\n",
    "    L = []\n",
    "    min_nights = 0\n",
    "    for each in range(len(csv_data)):\n",
    "        min_nights = cell(each, \"minimum_nights\")\n",
    "        if type(min_nights) == int:\n",
    "            if min_nights > 365:\n",
    "                L.append(str(cell(each, \"room_id\")))\n",
    "    return L"
   ]
  },
  {
   "cell_type": "code",
   "execution_count": 16,
   "metadata": {},
   "outputs": [
    {
     "data": {
      "text/plain": [
       "['568684',\n",
       " '1615764',\n",
       " '4204302',\n",
       " '5431845',\n",
       " '6169897',\n",
       " '8341919',\n",
       " '8668115',\n",
       " '10053943',\n",
       " '11096888',\n",
       " '12888849',\n",
       " '20990053',\n",
       " '27362309',\n",
       " '30378211',\n",
       " '35834935']"
      ]
     },
     "execution_count": 16,
     "metadata": {},
     "output_type": "execute_result"
    }
   ],
   "source": [
    "#q8\n",
    "min_nights_365()"
   ]
  },
  {
   "cell_type": "code",
   "execution_count": 17,
   "metadata": {},
   "outputs": [],
   "source": [
    "def hosting_50():\n",
    "    L = []\n",
    "    host_listings = 0\n",
    "    for each in range(len(csv_data)):\n",
    "        host_listings = cell(each, \"calculated_host_listings_count\")\n",
    "        if type(host_listings) == int:\n",
    "            if host_listings > 50:\n",
    "                L.append(str(cell(each, \"host_id\")))\n",
    "    L = list(set(L))\n",
    "    return L"
   ]
  },
  {
   "cell_type": "code",
   "execution_count": 18,
   "metadata": {},
   "outputs": [
    {
     "data": {
      "text/plain": [
       "['107434423',\n",
       " '22541573',\n",
       " '219517861',\n",
       " '30283594',\n",
       " '1475015',\n",
       " '16098958',\n",
       " '7503643',\n",
       " '137358866',\n",
       " '200380610',\n",
       " '12243051',\n",
       " '61391963']"
      ]
     },
     "execution_count": 18,
     "metadata": {},
     "output_type": "execute_result"
    }
   ],
   "source": [
    "#q9\n",
    "hosting_50()"
   ]
  },
  {
   "cell_type": "code",
   "execution_count": 19,
   "metadata": {},
   "outputs": [],
   "source": [
    "def cheapest_brooklyn():\n",
    "    price = 0\n",
    "    lowest_price = None\n",
    "    for each in range(len(csv_data)):\n",
    "        if cell(each, \"neighborhood_group\") == \"Brooklyn\":\n",
    "            if type(cell(each, \"price\")) == int:\n",
    "                price = cell(each, \"price\")\n",
    "                if lowest_price == None or price < lowest_price:\n",
    "                    lowest_price = price \n",
    "    return lowest_price\n",
    "        \n",
    "def all_cheapest():\n",
    "    L = []\n",
    "    cost = cheapest_brooklyn()\n",
    "    for each in range(len(csv_data)):\n",
    "        if cell(each, \"neighborhood_group\") == \"Brooklyn\":\n",
    "            if cell(each, \"price\") == cost:\n",
    "                L.append(cell(each, \"name\"))\n",
    "    L = list(set(L))\n",
    "    return L"
   ]
  },
  {
   "cell_type": "code",
   "execution_count": 20,
   "metadata": {},
   "outputs": [
    {
     "data": {
      "text/plain": [
       "['Sunny, Quiet Room in Greenpoint',\n",
       " 'Cozy yet spacious private brownstone bedroom',\n",
       " 'Modern apartment in the heart of Williamsburg',\n",
       " 'Best Coliving space ever! Shared room.',\n",
       " 'Spacious comfortable master bedroom with nice view',\n",
       " 'Huge Brooklyn Brownstone Living, Close to it all.',\n",
       " 'Coliving in Brooklyn! Modern design / Shared room',\n",
       " 'MARTIAL LOFT 3: REDEMPTION (upstairs, 2nd room)',\n",
       " 'Contemporary bedroom in brownstone with nice view']"
      ]
     },
     "execution_count": 20,
     "metadata": {},
     "output_type": "execute_result"
    }
   ],
   "source": [
    "#q10\n",
    "all_cheapest()"
   ]
  },
  {
   "cell_type": "code",
   "execution_count": 21,
   "metadata": {},
   "outputs": [],
   "source": [
    "def cheapest_Manhattan():\n",
    "    price = 0\n",
    "    lowest_price = None\n",
    "    for each in range(len(csv_data)):\n",
    "        if cell(each, \"neighborhood_group\") == \"Manhattan\":\n",
    "            if type(cell(each, \"price\")) == int:\n",
    "                price = cell(each, \"price\")\n",
    "                if lowest_price == None or price < lowest_price:\n",
    "                    lowest_price = price \n",
    "    return lowest_price\n",
    "        \n",
    "def cheap_Manhattan():\n",
    "    L = []\n",
    "    cost = cheapest_Manhattan()\n",
    "    for each in range(len(csv_data)):\n",
    "        if cell(each, \"neighborhood_group\") == \"Manhattan\":\n",
    "            if cell(each, \"price\") == cost:\n",
    "                L.append(cell(each, \"name\"))\n",
    "    L = list(set(L))\n",
    "    return L"
   ]
  },
  {
   "cell_type": "code",
   "execution_count": 22,
   "metadata": {},
   "outputs": [
    {
     "data": {
      "text/plain": [
       "['the best you can find']"
      ]
     },
     "execution_count": 22,
     "metadata": {},
     "output_type": "execute_result"
    }
   ],
   "source": [
    "#q11\n",
    "cheap_Manhattan()"
   ]
  },
  {
   "cell_type": "code",
   "execution_count": 23,
   "metadata": {},
   "outputs": [],
   "source": [
    "def avg_ratio():\n",
    "    L = []\n",
    "    ratio = 0\n",
    "    count = 0\n",
    "    total_ratio = 0\n",
    "    for each in range(len(csv_data)):\n",
    "        if cell(each, \"availability_365\") != 0:\n",
    "            ratio = cell(each, \"number_of_reviews\") / cell(each, \"availability_365\")\n",
    "            total_ratio += ratio\n",
    "            count += 1\n",
    "    return total_ratio / count"
   ]
  },
  {
   "cell_type": "code",
   "execution_count": 24,
   "metadata": {},
   "outputs": [
    {
     "data": {
      "text/plain": [
       "1.022127111023942"
      ]
     },
     "execution_count": 24,
     "metadata": {},
     "output_type": "execute_result"
    }
   ],
   "source": [
    "#q12\n",
    "avg_ratio()"
   ]
  },
  {
   "cell_type": "code",
   "execution_count": 25,
   "metadata": {},
   "outputs": [],
   "source": [
    "def cost_finder():\n",
    "    latitude = 0\n",
    "    longitude = 0\n",
    "    cheapest = None\n",
    "    cost = 0\n",
    "    for each in range(len(csv_data)):\n",
    "        latitude = cell(each, \"latitude\")\n",
    "        longitude = cell(each, \"longitude\")\n",
    "        cost = cell(each, \"price\")\n",
    "        if 40.50 <= latitude <= 40.75 and -74.00 <= longitude <= -73.95:\n",
    "            if cheapest == None or cost < cheapest:\n",
    "                cheapest = cost\n",
    "    return cheapest\n",
    "\n",
    "\n",
    "def cheap_within():\n",
    "    L = []\n",
    "    cost = cost_finder()\n",
    "    latitude = 0\n",
    "    longitude = 0\n",
    "    for each in range(len(csv_data)):\n",
    "        latitude = cell(each, \"latitude\")\n",
    "        longitude = cell(each, \"longitude\")\n",
    "        if 40.50 <= latitude <= 40.75 and -74.00 <= longitude <= -73.95:\n",
    "            if cell(each, \"price\") == cost:\n",
    "                L.append(str(cell(each, \"room_id\")))\n",
    "    L = list(set(L))\n",
    "    return L"
   ]
  },
  {
   "cell_type": "code",
   "execution_count": 26,
   "metadata": {},
   "outputs": [
    {
     "data": {
      "text/plain": [
       "['18750597']"
      ]
     },
     "execution_count": 26,
     "metadata": {},
     "output_type": "execute_result"
    }
   ],
   "source": [
    "#q13\n",
    "cheap_within()"
   ]
  },
  {
   "cell_type": "code",
   "execution_count": 27,
   "metadata": {},
   "outputs": [],
   "source": [
    "def cost_finder2():\n",
    "    latitude = 0\n",
    "    longitude = 0\n",
    "    cheapest = None\n",
    "    cost = 0\n",
    "    for each in range(len(csv_data)):\n",
    "        latitude = cell(each, \"latitude\")\n",
    "        longitude = cell(each, \"longitude\")\n",
    "        cost = cell(each, \"price\")\n",
    "        if 40.75 <= latitude <= 41.00 and -73.95 <= longitude <= -73.85:\n",
    "            if cheapest == None or cost < cheapest:\n",
    "                cheapest = cost\n",
    "    return cheapest\n",
    "\n",
    "\n",
    "def cheap_within2():\n",
    "    L = []\n",
    "    cost = cost_finder()\n",
    "    latitude = 0\n",
    "    longitude = 0\n",
    "    for each in range(len(csv_data)):\n",
    "        latitude = cell(each, \"latitude\")\n",
    "        longitude = cell(each, \"longitude\")\n",
    "        if 40.75 <= latitude <= 41.00 and -73.95 <= longitude <= -73.85:\n",
    "            if cell(each, \"price\") == cost:\n",
    "                L.append(str(cell(each, \"room_id\")))\n",
    "    L = list(set(L))\n",
    "    return L"
   ]
  },
  {
   "cell_type": "code",
   "execution_count": 28,
   "metadata": {},
   "outputs": [
    {
     "data": {
      "text/plain": [
       "['20333471']"
      ]
     },
     "execution_count": 28,
     "metadata": {},
     "output_type": "execute_result"
    }
   ],
   "source": [
    "#q14\n",
    "cheap_within2()"
   ]
  },
  {
   "cell_type": "code",
   "execution_count": 29,
   "metadata": {},
   "outputs": [],
   "source": [
    "def avg_price_30():\n",
    "    L = []\n",
    "    reviews = 0\n",
    "    total_price = 0\n",
    "    count = 0\n",
    "    for each in range(len(csv_data)):\n",
    "        reviews = cell(each, \"number_of_reviews\")\n",
    "        if reviews > 300:\n",
    "            total_price += cell(each, \"price\")\n",
    "            count += 1\n",
    "    return total_price / count"
   ]
  },
  {
   "cell_type": "code",
   "execution_count": 30,
   "metadata": {},
   "outputs": [
    {
     "data": {
      "text/plain": [
       "105.51515151515152"
      ]
     },
     "execution_count": 30,
     "metadata": {},
     "output_type": "execute_result"
    }
   ],
   "source": [
    "#q15\n",
    "avg_price_30()"
   ]
  },
  {
   "cell_type": "code",
   "execution_count": 31,
   "metadata": {},
   "outputs": [],
   "source": [
    "def avg_reviews_1000():\n",
    "    L = []\n",
    "    price = 0\n",
    "    total_reviews = 0\n",
    "    count = 0\n",
    "    for each in range(len(csv_data)):\n",
    "        price = cell(each, \"price\")\n",
    "        if price > 1000:\n",
    "            total_reviews += cell(each, \"number_of_reviews\")\n",
    "            count += 1\n",
    "    return total_reviews / count"
   ]
  },
  {
   "cell_type": "code",
   "execution_count": 32,
   "metadata": {},
   "outputs": [
    {
     "data": {
      "text/plain": [
       "6.410041841004184"
      ]
     },
     "execution_count": 32,
     "metadata": {},
     "output_type": "execute_result"
    }
   ],
   "source": [
    "#q16\n",
    "avg_reviews_1000()"
   ]
  },
  {
   "cell_type": "code",
   "execution_count": 33,
   "metadata": {},
   "outputs": [],
   "source": [
    "def updated_word_check(word):\n",
    "    L = []\n",
    "    for each in range(len(csv_data)):\n",
    "        room = cell(each, \"name\")\n",
    "        if type(room) == str:\n",
    "            room = room.lower()\n",
    "            if word in room:\n",
    "                L.append(room)\n",
    "    return L"
   ]
  },
  {
   "cell_type": "code",
   "execution_count": 34,
   "metadata": {},
   "outputs": [],
   "source": [
    "def x_y(x, y):\n",
    "    L = []\n",
    "    for each in range(len(csv_data)):\n",
    "        room = cell(each, \"name\")\n",
    "        if type(room) == str:\n",
    "            room = room.lower()\n",
    "            if x in room:\n",
    "                if y in room:\n",
    "                    L.append(room)\n",
    "    return L"
   ]
  },
  {
   "cell_type": "code",
   "execution_count": 35,
   "metadata": {},
   "outputs": [
    {
     "data": {
      "text/plain": [
       "30.569948186528496"
      ]
     },
     "execution_count": 35,
     "metadata": {},
     "output_type": "execute_result"
    }
   ],
   "source": [
    "#q17\n",
    "len(x_y(\"sweet\", \"home\")) / len(updated_word_check(\"sweet\")) * 100"
   ]
  },
  {
   "cell_type": "code",
   "execution_count": 36,
   "metadata": {},
   "outputs": [
    {
     "data": {
      "text/plain": [
       "48.92086330935252"
      ]
     },
     "execution_count": 36,
     "metadata": {},
     "output_type": "execute_result"
    }
   ],
   "source": [
    "#q18\n",
    "len(x_y(\"pool\", \"gym\")) / len(updated_word_check(\"pool\")) * 100"
   ]
  },
  {
   "cell_type": "code",
   "execution_count": 37,
   "metadata": {},
   "outputs": [
    {
     "data": {
      "text/plain": [
       "10.0"
      ]
     },
     "execution_count": 37,
     "metadata": {},
     "output_type": "execute_result"
    }
   ],
   "source": [
    "#q19\n",
    "len(x_y(\"five\", \"stars\")) / len(updated_word_check(\"five\")) * 100"
   ]
  },
  {
   "cell_type": "code",
   "execution_count": 38,
   "metadata": {},
   "outputs": [],
   "source": [
    "def expensive_Manhattan():\n",
    "    price = 0\n",
    "    highest_price = 0\n",
    "    for each in range(len(csv_data)):\n",
    "        if cell(each, \"neighborhood_group\") == \"Manhattan\":\n",
    "            if type(cell(each, \"price\")) == int:\n",
    "                price = cell(each, \"price\")\n",
    "                if price > highest_price:\n",
    "                    highest_price = price \n",
    "                    index = each\n",
    "    return cell(index, \"minimum_nights\") * highest_price\n",
    "\n",
    "def expensive_Brooklyn():\n",
    "    price = 0\n",
    "    highest_price = 0\n",
    "    index = 0\n",
    "    for each in range(len(csv_data)):\n",
    "        if cell(each, \"neighborhood_group\") == \"Brooklyn\":\n",
    "            if type(cell(each, \"price\")) == int:\n",
    "                price = cell(each, \"price\")\n",
    "                if price > highest_price:\n",
    "                    highest_price = price\n",
    "                    index = each\n",
    "    return highest_price * cell(index, \"minimum_nights\")"
   ]
  },
  {
   "cell_type": "code",
   "execution_count": 39,
   "metadata": {},
   "outputs": [
    {
     "data": {
      "text/plain": [
       "350000"
      ]
     },
     "execution_count": 39,
     "metadata": {},
     "output_type": "execute_result"
    }
   ],
   "source": [
    "#q20\n",
    "expensive_Manhattan() + expensive_Brooklyn()"
   ]
  }
 ],
 "metadata": {
  "kernelspec": {
   "display_name": "Python 3",
   "language": "python",
   "name": "python3"
  },
  "language_info": {
   "codemirror_mode": {
    "name": "ipython",
    "version": 3
   },
   "file_extension": ".py",
   "mimetype": "text/x-python",
   "name": "python",
   "nbconvert_exporter": "python",
   "pygments_lexer": "ipython3",
   "version": "3.8.5"
  }
 },
 "nbformat": 4,
 "nbformat_minor": 4
}
