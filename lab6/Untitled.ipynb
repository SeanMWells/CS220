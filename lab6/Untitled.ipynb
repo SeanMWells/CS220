{
 "cells": [
  {
   "cell_type": "code",
   "execution_count": 1,
   "metadata": {},
   "outputs": [],
   "source": [
    "import csv\n",
    "\n",
    "# copied from https://automatetheboringstuff.com/chapter14/\n",
    "def process_csv(filename):\n",
    "    exampleFile = open(filename, encoding=\"utf-8\")\n",
    "    exampleReader = csv.reader(exampleFile)\n",
    "    exampleData = list(exampleReader)\n",
    "    exampleFile.close()\n",
    "    return exampleData\n",
    "\n",
    "# use process_csv to pull out the header and data rows\n",
    "csv_rows = process_csv(\"airbnb.csv\")\n",
    "csv_header = csv_rows[0]\n",
    "csv_data = csv_rows[1:]"
   ]
  },
  {
   "cell_type": "code",
   "execution_count": 2,
   "metadata": {},
   "outputs": [
    {
     "data": {
      "text/plain": [
       "['room_id',\n",
       " 'name',\n",
       " 'host_id',\n",
       " 'host_name',\n",
       " 'neighborhood_group',\n",
       " 'neighborhood',\n",
       " 'latitude',\n",
       " 'longitude',\n",
       " 'room_type',\n",
       " 'price',\n",
       " 'minimum_nights',\n",
       " 'number_of_reviews',\n",
       " 'last_review',\n",
       " 'reviews_per_month',\n",
       " 'calculated_host_listings_count',\n",
       " 'availability_365']"
      ]
     },
     "execution_count": 2,
     "metadata": {},
     "output_type": "execute_result"
    }
   ],
   "source": [
    "csv_header"
   ]
  },
  {
   "cell_type": "code",
   "execution_count": 3,
   "metadata": {},
   "outputs": [
    {
     "data": {
      "text/plain": [
       "48895"
      ]
     },
     "execution_count": 3,
     "metadata": {},
     "output_type": "execute_result"
    }
   ],
   "source": [
    "len(csv_data)"
   ]
  },
  {
   "cell_type": "code",
   "execution_count": 4,
   "metadata": {},
   "outputs": [
    {
     "data": {
      "text/plain": [
       "[['2539',\n",
       "  'Clean & quiet apt home by the park',\n",
       "  '2787',\n",
       "  'John',\n",
       "  'Brooklyn',\n",
       "  'Kensington',\n",
       "  '40.64749000000001',\n",
       "  '-73.97237',\n",
       "  'Private room',\n",
       "  '149',\n",
       "  '1',\n",
       "  '9',\n",
       "  '2018-10-19',\n",
       "  '0.21',\n",
       "  '6',\n",
       "  '365'],\n",
       " ['2595',\n",
       "  'Skylit Midtown Castle',\n",
       "  '2845',\n",
       "  'Jennifer',\n",
       "  'Manhattan',\n",
       "  'Midtown',\n",
       "  '40.75362',\n",
       "  '-73.98376999999998',\n",
       "  'Entire home/apt',\n",
       "  '225',\n",
       "  '1',\n",
       "  '45',\n",
       "  '2019-05-21',\n",
       "  '0.38',\n",
       "  '2',\n",
       "  '355'],\n",
       " ['3647',\n",
       "  'THE VILLAGE OF HARLEM....NEW YORK !',\n",
       "  '4632',\n",
       "  'Elisabeth',\n",
       "  'Manhattan',\n",
       "  'Harlem',\n",
       "  '40.80902',\n",
       "  '-73.9419',\n",
       "  'Private room',\n",
       "  '150',\n",
       "  '3',\n",
       "  '0',\n",
       "  '',\n",
       "  '',\n",
       "  '1',\n",
       "  '365'],\n",
       " ['3831',\n",
       "  'Cozy Entire Floor of Brownstone',\n",
       "  '4869',\n",
       "  'LisaRoxanne',\n",
       "  'Brooklyn',\n",
       "  'Clinton Hill',\n",
       "  '40.68514',\n",
       "  '-73.95976',\n",
       "  'Entire home/apt',\n",
       "  '89',\n",
       "  '1',\n",
       "  '270',\n",
       "  '2019-07-05',\n",
       "  '4.64',\n",
       "  '1',\n",
       "  '194'],\n",
       " ['5022',\n",
       "  'Entire Apt: Spacious Studio/Loft by central park',\n",
       "  '7192',\n",
       "  'Laura',\n",
       "  'Manhattan',\n",
       "  'East Harlem',\n",
       "  '40.79851',\n",
       "  '-73.94399',\n",
       "  'Entire home/apt',\n",
       "  '80',\n",
       "  '10',\n",
       "  '9',\n",
       "  '2018-11-19',\n",
       "  '0.1',\n",
       "  '1',\n",
       "  '0']]"
      ]
     },
     "execution_count": 4,
     "metadata": {},
     "output_type": "execute_result"
    }
   ],
   "source": [
    "csv_data[:5]"
   ]
  },
  {
   "cell_type": "code",
   "execution_count": 5,
   "metadata": {},
   "outputs": [
    {
     "data": {
      "text/plain": [
       "['2539',\n",
       " 'Clean & quiet apt home by the park',\n",
       " '2787',\n",
       " 'John',\n",
       " 'Brooklyn',\n",
       " 'Kensington',\n",
       " '40.64749000000001',\n",
       " '-73.97237',\n",
       " 'Private room',\n",
       " '149',\n",
       " '1',\n",
       " '9',\n",
       " '2018-10-19',\n",
       " '0.21',\n",
       " '6',\n",
       " '365']"
      ]
     },
     "execution_count": 5,
     "metadata": {},
     "output_type": "execute_result"
    }
   ],
   "source": [
    "csv_data[0]"
   ]
  },
  {
   "cell_type": "code",
   "execution_count": 6,
   "metadata": {},
   "outputs": [
    {
     "data": {
      "text/plain": [
       "'John'"
      ]
     },
     "execution_count": 6,
     "metadata": {},
     "output_type": "execute_result"
    }
   ],
   "source": [
    "csv_data[0][3]"
   ]
  },
  {
   "cell_type": "code",
   "execution_count": 7,
   "metadata": {},
   "outputs": [
    {
     "data": {
      "text/plain": [
       "4"
      ]
     },
     "execution_count": 7,
     "metadata": {},
     "output_type": "execute_result"
    }
   ],
   "source": [
    "csv_header.index(\"neighborhood_group\")"
   ]
  },
  {
   "cell_type": "code",
   "execution_count": 8,
   "metadata": {},
   "outputs": [
    {
     "data": {
      "text/plain": [
       "'Brooklyn'"
      ]
     },
     "execution_count": 8,
     "metadata": {},
     "output_type": "execute_result"
    }
   ],
   "source": [
    "csv_data[0][csv_header.index(\"neighborhood_group\")]"
   ]
  },
  {
   "cell_type": "code",
   "execution_count": 9,
   "metadata": {},
   "outputs": [
    {
     "name": "stdout",
     "output_type": "stream",
     "text": [
      "2\n"
     ]
    }
   ],
   "source": [
    "letters = [\"A\", \"B\", \"C\", \"D\"]\n",
    "print(letters.index(\"C\"))"
   ]
  },
  {
   "cell_type": "code",
   "execution_count": 12,
   "metadata": {},
   "outputs": [
    {
     "name": "stdout",
     "output_type": "stream",
     "text": [
      "Manhattan\n",
      "Harlem\n"
     ]
    }
   ],
   "source": [
    "print(csv_data[1][4])\n",
    "print(csv_data[2][5])"
   ]
  },
  {
   "cell_type": "code",
   "execution_count": 16,
   "metadata": {},
   "outputs": [
    {
     "name": "stdout",
     "output_type": "stream",
     "text": [
      "Brooklyn\n",
      "Jennifer\n",
      "THE VILLAGE OF HARLEM....NEW YORK !\n"
     ]
    }
   ],
   "source": [
    "print(csv_data[0][csv_header.index(\"neighborhood_group\")]) \n",
    "print(csv_data[1][csv_header.index(\"host_name\")]) \n",
    "print(csv_data[2][csv_header.index(\"name\")])"
   ]
  },
  {
   "cell_type": "code",
   "execution_count": 30,
   "metadata": {},
   "outputs": [],
   "source": [
    "def cell(row_idx, col_name):\n",
    "    col_idx = csv_header.index(col_name)\n",
    "    val = csv_data[row_idx][col_idx]\n",
    "    if val == \"\":\n",
    "        return None\n",
    "    elif col_name == \"room_id\":\n",
    "        val = int(val)\n",
    "    elif col_name == \"host_id\":\n",
    "        val = int(val)\n",
    "    elif col_name == \"latitude\":\n",
    "        val = float(val)\n",
    "    elif col_name == \"longitude\":\n",
    "        val = float(val)\n",
    "    elif col_name == \"price\":\n",
    "        val = int(val)\n",
    "    elif col_name == \"minimum_nights\":\n",
    "        val = int(val)\n",
    "    elif col_name == \"number_of_reviews\":\n",
    "        val = int(val)\n",
    "    elif col_name == \"reviews_per_month\":\n",
    "        val = float(val)\n",
    "    elif col_name == \"calculated_host_listings_count\":\n",
    "        val = int(val)\n",
    "    elif col_name == \"availability_365\":\n",
    "        val = int(val)\n",
    "\n",
    "     #optional: convert types based on column name?\n",
    "    return val"
   ]
  },
  {
   "cell_type": "code",
   "execution_count": 31,
   "metadata": {},
   "outputs": [
    {
     "data": {
      "text/plain": [
       "'Kensington'"
      ]
     },
     "execution_count": 31,
     "metadata": {},
     "output_type": "execute_result"
    }
   ],
   "source": [
    "cell(0,\"neighborhood\")"
   ]
  },
  {
   "cell_type": "code",
   "execution_count": 32,
   "metadata": {},
   "outputs": [
    {
     "data": {
      "text/plain": [
       "'Skylit Midtown Castle'"
      ]
     },
     "execution_count": 32,
     "metadata": {},
     "output_type": "execute_result"
    }
   ],
   "source": [
    "cell(1,\"name\")"
   ]
  },
  {
   "cell_type": "code",
   "execution_count": 33,
   "metadata": {},
   "outputs": [
    {
     "data": {
      "text/plain": [
       "150"
      ]
     },
     "execution_count": 33,
     "metadata": {},
     "output_type": "execute_result"
    }
   ],
   "source": [
    "cell(2,\"price\")"
   ]
  },
  {
   "cell_type": "code",
   "execution_count": 34,
   "metadata": {},
   "outputs": [
    {
     "data": {
      "text/plain": [
       "40.68514"
      ]
     },
     "execution_count": 34,
     "metadata": {},
     "output_type": "execute_result"
    }
   ],
   "source": [
    "cell(3,\"latitude\")"
   ]
  },
  {
   "cell_type": "code",
   "execution_count": 35,
   "metadata": {},
   "outputs": [
    {
     "name": "stdout",
     "output_type": "stream",
     "text": [
      "original list: ['A', 'B', 'C']\n",
      "returned value: None\n"
     ]
    }
   ],
   "source": [
    "letters = [\"B\", \"C\", \"A\"]\n",
    "result = letters.sort()\n",
    "\n",
    "print(\"original list:\", letters)\n",
    "print(\"returned value:\", result)"
   ]
  },
  {
   "cell_type": "code",
   "execution_count": 36,
   "metadata": {},
   "outputs": [
    {
     "name": "stdout",
     "output_type": "stream",
     "text": [
      "original list: ['B', 'C', 'A']\n",
      "returned value: ['A', 'B', 'C']\n"
     ]
    }
   ],
   "source": [
    "letters = [\"B\", \"C\", \"A\"]\n",
    "result = sorted(letters)\n",
    "\n",
    "print(\"original list:\", letters)\n",
    "print(\"returned value:\", result)"
   ]
  },
  {
   "cell_type": "code",
   "execution_count": 37,
   "metadata": {},
   "outputs": [
    {
     "name": "stdout",
     "output_type": "stream",
     "text": [
      "original value: BCA\n",
      "returned value: ['A', 'B', 'C']\n"
     ]
    }
   ],
   "source": [
    "s = \"BCA\"\n",
    "result = sorted(s)\n",
    "\n",
    "print(\"original value:\", s)\n",
    "print(\"returned value:\", result)"
   ]
  },
  {
   "cell_type": "code",
   "execution_count": 38,
   "metadata": {},
   "outputs": [
    {
     "name": "stdout",
     "output_type": "stream",
     "text": [
      "original list: ['C', 'A']\n",
      "returned value: B\n"
     ]
    }
   ],
   "source": [
    "letters = [\"B\", \"C\", \"A\"]\n",
    "result = letters.pop(0)\n",
    "\n",
    "print(\"original list:\", letters)\n",
    "print(\"returned value:\", result)"
   ]
  },
  {
   "cell_type": "code",
   "execution_count": 44,
   "metadata": {},
   "outputs": [
    {
     "name": "stdout",
     "output_type": "stream",
     "text": [
      "['A', 'B', 'C']\n",
      "{'B', 'C', 'A'}\n"
     ]
    }
   ],
   "source": [
    "example_list = [\"A\", \"B\", \"C\"]\n",
    "print(example_list)\n",
    "example_set = {\"A\", \"B\", \"C\"}\n",
    "print(example_set)"
   ]
  },
  {
   "cell_type": "code",
   "execution_count": 46,
   "metadata": {},
   "outputs": [
    {
     "data": {
      "text/plain": [
       "True"
      ]
     },
     "execution_count": 46,
     "metadata": {},
     "output_type": "execute_result"
    }
   ],
   "source": [
    "\"A\" in example_list"
   ]
  },
  {
   "cell_type": "code",
   "execution_count": 47,
   "metadata": {},
   "outputs": [
    {
     "data": {
      "text/plain": [
       "True"
      ]
     },
     "execution_count": 47,
     "metadata": {},
     "output_type": "execute_result"
    }
   ],
   "source": [
    "\"A\" in example_set"
   ]
  },
  {
   "cell_type": "code",
   "execution_count": 48,
   "metadata": {},
   "outputs": [
    {
     "ename": "TypeError",
     "evalue": "'set' object is not subscriptable",
     "output_type": "error",
     "traceback": [
      "\u001b[0;31m---------------------------------------------------------------------------\u001b[0m",
      "\u001b[0;31mTypeError\u001b[0m                                 Traceback (most recent call last)",
      "\u001b[0;32m<ipython-input-48-d26c1d34adc0>\u001b[0m in \u001b[0;36m<module>\u001b[0;34m\u001b[0m\n\u001b[1;32m      1\u001b[0m \u001b[0mexample_list\u001b[0m\u001b[0;34m[\u001b[0m\u001b[0;36m0\u001b[0m\u001b[0;34m]\u001b[0m  \u001b[0;31m# works\u001b[0m\u001b[0;34m\u001b[0m\u001b[0;34m\u001b[0m\u001b[0m\n\u001b[0;32m----> 2\u001b[0;31m \u001b[0mexample_set\u001b[0m\u001b[0;34m[\u001b[0m\u001b[0;36m0\u001b[0m\u001b[0;34m]\u001b[0m\u001b[0;34m\u001b[0m\u001b[0;34m\u001b[0m\u001b[0m\n\u001b[0m",
      "\u001b[0;31mTypeError\u001b[0m: 'set' object is not subscriptable"
     ]
    }
   ],
   "source": [
    "example_list[0]  # works\n",
    "example_set[0]"
   ]
  },
  {
   "cell_type": "code",
   "execution_count": 49,
   "metadata": {},
   "outputs": [
    {
     "data": {
      "text/plain": [
       "False"
      ]
     },
     "execution_count": 49,
     "metadata": {},
     "output_type": "execute_result"
    }
   ],
   "source": [
    "[\"A\", \"B\", \"C\"] == [\"C\", \"B\", \"A\"]"
   ]
  },
  {
   "cell_type": "code",
   "execution_count": 50,
   "metadata": {},
   "outputs": [
    {
     "data": {
      "text/plain": [
       "True"
      ]
     },
     "execution_count": 50,
     "metadata": {},
     "output_type": "execute_result"
    }
   ],
   "source": [
    "{\"A\", \"B\", \"C\"} == {\"C\", \"B\", \"A\"}"
   ]
  },
  {
   "cell_type": "code",
   "execution_count": 51,
   "metadata": {},
   "outputs": [
    {
     "name": "stdout",
     "output_type": "stream",
     "text": [
      "{1, 2, 4}\n"
     ]
    }
   ],
   "source": [
    "items = [1,2,4]\n",
    "items_set = set(items)\n",
    "print(items_set)"
   ]
  },
  {
   "cell_type": "code",
   "execution_count": 52,
   "metadata": {},
   "outputs": [
    {
     "name": "stdout",
     "output_type": "stream",
     "text": [
      "[1, 2, 4]\n"
     ]
    }
   ],
   "source": [
    "items = {4,2,1}\n",
    "items_list = list(items)\n",
    "print(items_list)"
   ]
  },
  {
   "cell_type": "code",
   "execution_count": 53,
   "metadata": {},
   "outputs": [
    {
     "name": "stdout",
     "output_type": "stream",
     "text": [
      "3.0\n"
     ]
    }
   ],
   "source": [
    "x = 3.8\n",
    "y = float(int(x))\n",
    "print(y)"
   ]
  },
  {
   "cell_type": "code",
   "execution_count": 54,
   "metadata": {},
   "outputs": [
    {
     "name": "stdout",
     "output_type": "stream",
     "text": [
      "['B', 'C', 'A']\n"
     ]
    }
   ],
   "source": [
    "list_1 = [\"A\", \"A\", \"B\", \"B\", \"C\", \"B\", \"A\"] # try playing with different values here\n",
    "list_2 = list(set(list_1))\n",
    "print(list_2)"
   ]
  },
  {
   "cell_type": "code",
   "execution_count": null,
   "metadata": {},
   "outputs": [],
   "source": []
  }
 ],
 "metadata": {
  "kernelspec": {
   "display_name": "Python 3",
   "language": "python",
   "name": "python3"
  },
  "language_info": {
   "codemirror_mode": {
    "name": "ipython",
    "version": 3
   },
   "file_extension": ".py",
   "mimetype": "text/x-python",
   "name": "python",
   "nbconvert_exporter": "python",
   "pygments_lexer": "ipython3",
   "version": "3.8.5"
  }
 },
 "nbformat": 4,
 "nbformat_minor": 4
}
